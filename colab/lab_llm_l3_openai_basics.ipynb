{
  "cells": [
    {
      "cell_type": "markdown",
      "metadata": {
        "id": "view-in-github",
        "colab_type": "text"
      },
      "source": [
        "<a href=\"https://colab.research.google.com/github/ubinix-warun/mad-bootcamp-2024/blob/main/colab/lab_llm_l3_openai_basics.ipynb\" target=\"_parent\"><img src=\"https://colab.research.google.com/assets/colab-badge.svg\" alt=\"Open In Colab\"/></a>"
      ]
    },
    {
      "cell_type": "markdown",
      "id": "48e4fdac",
      "metadata": {
        "id": "48e4fdac"
      },
      "source": [
        "# LLM-L3-Lab: OpenAI Basics\n",
        "\n",
        "This lab aims to guide you through the process of accessing and using the OpenAI API with Python. By the end of this lab, you will be able to send requests to the OpenAI API and process its responses for various applications."
      ]
    },
    {
      "cell_type": "code",
      "execution_count": null,
      "id": "b9075aa5",
      "metadata": {
        "id": "b9075aa5"
      },
      "outputs": [],
      "source": [
        "!pip install -q requests==2.32.3\n",
        "!pip install -q openai==1.41.1"
      ]
    },
    {
      "cell_type": "markdown",
      "id": "3a84e8a5",
      "metadata": {
        "id": "3a84e8a5"
      },
      "source": [
        "## Task1: Generate OpenAI key\n",
        "\n",
        "Generate key from: https://platform.openai.com/api-keys"
      ]
    },
    {
      "cell_type": "code",
      "execution_count": null,
      "id": "ec1a2405",
      "metadata": {
        "ExecuteTime": {
          "end_time": "2024-05-30T15:15:24.883131Z",
          "start_time": "2024-05-30T15:15:24.881484Z"
        },
        "id": "ec1a2405"
      },
      "outputs": [],
      "source": [
        "# TODO-1: put your generated openai key here\n",
        "OPENAI_API_KEY = \"YOUR_OPENAI_KEY\""
      ]
    },
    {
      "cell_type": "code",
      "execution_count": null,
      "id": "81f2b38b",
      "metadata": {
        "ExecuteTime": {
          "end_time": "2024-05-30T15:15:21.081564Z",
          "start_time": "2024-05-30T15:15:21.059371Z"
        },
        "id": "81f2b38b"
      },
      "outputs": [],
      "source": [
        "import requests\n",
        "import json"
      ]
    },
    {
      "cell_type": "markdown",
      "id": "2252c064",
      "metadata": {
        "id": "2252c064"
      },
      "source": [
        "## Task2: Call OpenAI using requests lib\n",
        "\n",
        "Try GPT prompts: \"write a python code which use requests lib to call post request with authorization header and json body\""
      ]
    },
    {
      "cell_type": "code",
      "execution_count": null,
      "id": "31c0f2ba",
      "metadata": {
        "ExecuteTime": {
          "end_time": "2024-05-30T15:15:27.618916Z",
          "start_time": "2024-05-30T15:15:26.325181Z"
        },
        "collapsed": true,
        "id": "31c0f2ba"
      },
      "outputs": [],
      "source": [
        "# TODO-2: write code to call openai with requests library"
      ]
    },
    {
      "cell_type": "code",
      "source": [
        "response.json()"
      ],
      "metadata": {
        "id": "vcKA3A2ILeez"
      },
      "id": "vcKA3A2ILeez",
      "execution_count": null,
      "outputs": []
    },
    {
      "cell_type": "markdown",
      "id": "545349e3",
      "metadata": {
        "id": "545349e3"
      },
      "source": [
        "## Task3: Call OpenAI using OpenAI Python library"
      ]
    },
    {
      "cell_type": "code",
      "execution_count": null,
      "id": "2e7f82f1",
      "metadata": {
        "ExecuteTime": {
          "end_time": "2024-05-30T15:17:23.104931Z",
          "start_time": "2024-05-30T15:17:23.103055Z"
        },
        "id": "2e7f82f1"
      },
      "outputs": [],
      "source": [
        "from openai import OpenAI"
      ]
    },
    {
      "cell_type": "code",
      "execution_count": null,
      "id": "54041d81",
      "metadata": {
        "ExecuteTime": {
          "end_time": "2024-05-31T08:05:23.136125Z",
          "start_time": "2024-05-31T08:05:23.036940Z"
        },
        "collapsed": true,
        "id": "54041d81"
      },
      "outputs": [],
      "source": [
        "# using above key\n",
        "client = OpenAI(api_key=OPENAI_API_KEY)"
      ]
    },
    {
      "cell_type": "code",
      "execution_count": null,
      "id": "9a0c0f32",
      "metadata": {
        "ExecuteTime": {
          "end_time": "2024-05-30T15:17:25.914199Z",
          "start_time": "2024-05-30T15:17:24.383625Z"
        },
        "id": "9a0c0f32"
      },
      "outputs": [],
      "source": [
        "# TODO-3: write code to call openai with official openai library\n",
        "print(completion.choices[0].message)"
      ]
    },
    {
      "cell_type": "code",
      "execution_count": null,
      "id": "c2799865",
      "metadata": {
        "id": "c2799865"
      },
      "outputs": [],
      "source": [
        "# TODO-4: try to tweak hyperparams\n",
        "print(completion.choices[0].message)"
      ]
    },
    {
      "cell_type": "markdown",
      "id": "76bc2c87",
      "metadata": {
        "id": "76bc2c87"
      },
      "source": [
        "## Task4: Building basic LLM App\n",
        "\n",
        "### 4.1: Reviews Tagging Application\n",
        "\n",
        "In this project, we will build a \"Reviews Tagging Application\" using Python and the OpenAI API. This application will automatically analyze and tag customer reviews based on their content, providing valuable insights for businesses."
      ]
    },
    {
      "cell_type": "code",
      "execution_count": null,
      "id": "ebe3c538",
      "metadata": {
        "ExecuteTime": {
          "end_time": "2024-05-30T15:38:49.657541Z",
          "start_time": "2024-05-30T15:38:49.654689Z"
        },
        "id": "ebe3c538"
      },
      "outputs": [],
      "source": [
        "# TODO-5: write system prompts\n",
        "\n",
        "system_prompts = \"\"\"\n",
        "\n",
        "\"\"\"\n",
        "\n",
        "def analyze_review(text):\n",
        "    response = client.chat.completions.create(\n",
        "        model=\"gpt-3.5-turbo\",\n",
        "        messages=[\n",
        "            {\"role\": \"system\", \"content\": [{\"type\": \"text\", \"text\": system_prompts}]},\n",
        "            {\"role\": \"user\",\"content\": [{\"type\": \"text\", \"text\": text}]}\n",
        "        ],\n",
        "        # TODO-6: set hyperparams\n",
        "        # temperature=,\n",
        "        # max_tokens=,\n",
        "        # top_p=,\n",
        "        frequency_penalty=0,\n",
        "        presence_penalty=0\n",
        "    )\n",
        "    return json.loads(response.choices[0].message.content)"
      ]
    },
    {
      "cell_type": "code",
      "source": [
        "analyze_review(\"The product is great, very easy to use!\")"
      ],
      "metadata": {
        "id": "dB-k0_QmNrIg"
      },
      "id": "dB-k0_QmNrIg",
      "execution_count": null,
      "outputs": []
    },
    {
      "cell_type": "markdown",
      "id": "1e58e7dc",
      "metadata": {
        "id": "1e58e7dc"
      },
      "source": [
        "### 4.2: ENG Language Level Augmenter Application\n",
        "\n",
        "In this project, we will build an English Language Level Augmenter using the OpenAI API. This tool will allow users to convert text between different levels of formality"
      ]
    },
    {
      "cell_type": "code",
      "execution_count": null,
      "id": "1389afcf",
      "metadata": {
        "ExecuteTime": {
          "end_time": "2024-05-30T16:35:22.510033Z",
          "start_time": "2024-05-30T16:35:22.507179Z"
        },
        "id": "1389afcf"
      },
      "outputs": [],
      "source": [
        "# TODO-7: write style prompts\n",
        "\n",
        "style_prompts = {\n",
        "    \"informal\": \"\",\n",
        "    \"ielts\": \"\",\n",
        "    \"formal\": \"\",\n",
        "    \"acedemic\": \"\",\n",
        "    \"default\": \"\"\n",
        "}\n",
        "\n",
        "def augment_sentence(text, style=\"default\"):\n",
        "    response = client.chat.completions.create(\n",
        "    model=\"gpt-3.5-turbo\",\n",
        "    messages=[\n",
        "        # TODO-8: write code to augment style prompts into system prompts\n",
        "        {\n",
        "            \"role\": \"system\",\n",
        "            \"content\": \"\"\n",
        "        },\n",
        "        {\n",
        "            \"role\": \"user\",\n",
        "            \"content\": text\n",
        "        }\n",
        "    ],\n",
        "        temperature=0.7,\n",
        "        max_tokens=64,\n",
        "        top_p=1\n",
        "    )\n",
        "    return response.choices[0].message.content"
      ]
    },
    {
      "cell_type": "code",
      "source": [
        "# TODO-9: test your function!\n",
        "test_text = \"\"\"\n",
        "I am writing this email to apply for a job at KBTG in software developer position.\n",
        "I'm currently a student at 4 year univercity. I want this job very much.\n",
        "\"\"\""
      ],
      "metadata": {
        "id": "JOuX0vPdPtAV"
      },
      "id": "JOuX0vPdPtAV",
      "execution_count": null,
      "outputs": []
    },
    {
      "cell_type": "code",
      "source": [
        "augment_sentence(test_text)"
      ],
      "metadata": {
        "id": "-LyODtYkO08w"
      },
      "id": "-LyODtYkO08w",
      "execution_count": null,
      "outputs": []
    },
    {
      "cell_type": "code",
      "source": [
        "augment_sentence(test_text, style=\"formal\")"
      ],
      "metadata": {
        "id": "et3rMOwXQAWY"
      },
      "id": "et3rMOwXQAWY",
      "execution_count": null,
      "outputs": []
    },
    {
      "cell_type": "code",
      "source": [
        "augment_sentence(test_text, style=\"ielts\")"
      ],
      "metadata": {
        "id": "sLLPr0HpQJQ3"
      },
      "id": "sLLPr0HpQJQ3",
      "execution_count": null,
      "outputs": []
    },
    {
      "cell_type": "code",
      "source": [
        "augment_sentence(test_text, style=\"informal\")"
      ],
      "metadata": {
        "id": "Ba8oFtT-QSN-"
      },
      "id": "Ba8oFtT-QSN-",
      "execution_count": null,
      "outputs": []
    }
  ],
  "metadata": {
    "kernelspec": {
      "display_name": "Python 3 (ipykernel)",
      "language": "python",
      "name": "python3"
    },
    "language_info": {
      "codemirror_mode": {
        "name": "ipython",
        "version": 3
      },
      "file_extension": ".py",
      "mimetype": "text/x-python",
      "name": "python",
      "nbconvert_exporter": "python",
      "pygments_lexer": "ipython3",
      "version": "3.11.0"
    },
    "toc": {
      "base_numbering": 1,
      "nav_menu": {},
      "number_sections": true,
      "sideBar": true,
      "skip_h1_title": false,
      "title_cell": "Table of Contents",
      "title_sidebar": "Contents",
      "toc_cell": false,
      "toc_position": {},
      "toc_section_display": true,
      "toc_window_display": false
    },
    "colab": {
      "provenance": [],
      "include_colab_link": true
    }
  },
  "nbformat": 4,
  "nbformat_minor": 5
}