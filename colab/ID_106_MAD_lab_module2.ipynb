{
  "nbformat": 4,
  "nbformat_minor": 0,
  "metadata": {
    "colab": {
      "provenance": [],
      "toc_visible": true,
      "include_colab_link": true
    },
    "kernelspec": {
      "name": "python3",
      "display_name": "Python 3"
    },
    "language_info": {
      "name": "python"
    }
  },
  "cells": [
    {
      "cell_type": "markdown",
      "metadata": {
        "id": "view-in-github",
        "colab_type": "text"
      },
      "source": [
        "<a href=\"https://colab.research.google.com/github/ubinix-warun/mad-bootcamp-2024/blob/main/colab/ID_106_MAD_lab_module2.ipynb\" target=\"_parent\"><img src=\"https://colab.research.google.com/assets/colab-badge.svg\" alt=\"Open In Colab\"/></a>"
      ]
    },
    {
      "cell_type": "markdown",
      "source": [
        "# M.A.D Post Labs (LLM Module)\n",
        "\n",
        "In this lab, you will implement a basic LLM-powered application. There are **three parts** that you need to complete:\n",
        "<br>\n",
        "* OpenAI's API and ReAct Agent\n",
        "* LLM Applications\n",
        "* Sentiment Analysis\n",
        "</br>\n",
        "\n",
        "**Instructions**\n",
        "\n",
        "* Completing all tasks will earn you **100 points.**\n",
        "* You can navigate through your tasks by looking for the **TODO, TO DO, fill in the blank, _** text in this lab.\n",
        "* Please **keep the \\<TODO_OUTPUT_BEGIN\\> tag** for grading purposes.\n",
        "* Any case of plagiarism will result in a **zero score for all plagiarized submissions**."
      ],
      "metadata": {
        "id": "jCzd0DIpEEYI"
      }
    },
    {
      "cell_type": "markdown",
      "source": [
        "# Prerequisites\n",
        "\n",
        "Before we start, please fill in your information. This information will be used in the grading system."
      ],
      "metadata": {
        "id": "5pyHUvx5EH4L"
      }
    },
    {
      "cell_type": "code",
      "source": [
        "### ***** RUN THIS CELL *****\n",
        "\n",
        "AUTHOR_NAME = \"WARUN\"\n",
        "AUTHOR_SURNAME = \"CHAREONSUK\"\n",
        "AUTHOR_NICKNAME = \"OFF\"\n",
        "\n",
        "### ***** RUN THIS CELL *****"
      ],
      "metadata": {
        "id": "2ZLTiUOuEM8J"
      },
      "execution_count": 1,
      "outputs": []
    },
    {
      "cell_type": "markdown",
      "source": [
        "You need to install the following libraries to assist in completing the labs."
      ],
      "metadata": {
        "id": "HPO1kNHTEO2-"
      }
    },
    {
      "cell_type": "code",
      "source": [
        "!pip install -q requests==2.32.3\n",
        "!pip install -q openai==1.41.1\n",
        "!pip install -q langchain==0.2.2\n",
        "!pip install -q langchain_community==0.2.3\n",
        "!pip install -q langchain-openai==0.1.8\n",
        "!pip install -q langgraph==0.0.64"
      ],
      "metadata": {
        "id": "O6gp_oy1EOKg",
        "colab": {
          "base_uri": "https://localhost:8080/"
        },
        "outputId": "4928c8b7-e1b8-40e1-8f64-7dc79dca6e78"
      },
      "execution_count": 2,
      "outputs": [
        {
          "output_type": "stream",
          "name": "stdout",
          "text": [
            "\u001b[?25l   \u001b[90m━━━━━━━━━━━━━━━━━━━━━━━━━━━━━━━━━━━━━━━━\u001b[0m \u001b[32m0.0/362.5 kB\u001b[0m \u001b[31m?\u001b[0m eta \u001b[36m-:--:--\u001b[0m\r\u001b[2K   \u001b[90m━━━━━━━━━━━━━━━━━━━━━━━━━━━━━━━━━━━━━━━━\u001b[0m \u001b[32m362.5/362.5 kB\u001b[0m \u001b[31m18.4 MB/s\u001b[0m eta \u001b[36m0:00:00\u001b[0m\n",
            "\u001b[?25h\u001b[?25l   \u001b[90m━━━━━━━━━━━━━━━━━━━━━━━━━━━━━━━━━━━━━━━━\u001b[0m \u001b[32m0.0/76.4 kB\u001b[0m \u001b[31m?\u001b[0m eta \u001b[36m-:--:--\u001b[0m\r\u001b[2K   \u001b[90m━━━━━━━━━━━━━━━━━━━━━━━━━━━━━━━━━━━━━━━━\u001b[0m \u001b[32m76.4/76.4 kB\u001b[0m \u001b[31m6.1 MB/s\u001b[0m eta \u001b[36m0:00:00\u001b[0m\n",
            "\u001b[?25h\u001b[?25l   \u001b[90m━━━━━━━━━━━━━━━━━━━━━━━━━━━━━━━━━━━━━━━━\u001b[0m \u001b[32m0.0/78.0 kB\u001b[0m \u001b[31m?\u001b[0m eta \u001b[36m-:--:--\u001b[0m\r\u001b[2K   \u001b[90m━━━━━━━━━━━━━━━━━━━━━━━━━━━━━━━━━━━━━━━━\u001b[0m \u001b[32m78.0/78.0 kB\u001b[0m \u001b[31m5.8 MB/s\u001b[0m eta \u001b[36m0:00:00\u001b[0m\n",
            "\u001b[?25h\u001b[?25l   \u001b[90m━━━━━━━━━━━━━━━━━━━━━━━━━━━━━━━━━━━━━━━━\u001b[0m \u001b[32m0.0/325.2 kB\u001b[0m \u001b[31m?\u001b[0m eta \u001b[36m-:--:--\u001b[0m\r\u001b[2K   \u001b[90m━━━━━━━━━━━━━━━━━━━━━━━━━━━━━━━━━━━━━━━━\u001b[0m \u001b[32m325.2/325.2 kB\u001b[0m \u001b[31m22.1 MB/s\u001b[0m eta \u001b[36m0:00:00\u001b[0m\n",
            "\u001b[2K   \u001b[90m━━━━━━━━━━━━━━━━━━━━━━━━━━━━━━━━━━━━━━━━\u001b[0m \u001b[32m58.3/58.3 kB\u001b[0m \u001b[31m4.5 MB/s\u001b[0m eta \u001b[36m0:00:00\u001b[0m\n",
            "\u001b[2K     \u001b[90m━━━━━━━━━━━━━━━━━━━━━━━━━━━━━━━━━━━━━━━━\u001b[0m \u001b[32m50.4/50.4 kB\u001b[0m \u001b[31m3.9 MB/s\u001b[0m eta \u001b[36m0:00:00\u001b[0m\n",
            "\u001b[2K   \u001b[90m━━━━━━━━━━━━━━━━━━━━━━━━━━━━━━━━━━━━━━━━\u001b[0m \u001b[32m973.6/973.6 kB\u001b[0m \u001b[31m52.5 MB/s\u001b[0m eta \u001b[36m0:00:00\u001b[0m\n",
            "\u001b[2K   \u001b[90m━━━━━━━━━━━━━━━━━━━━━━━━━━━━━━━━━━━━━━━━\u001b[0m \u001b[32m397.0/397.0 kB\u001b[0m \u001b[31m30.1 MB/s\u001b[0m eta \u001b[36m0:00:00\u001b[0m\n",
            "\u001b[2K   \u001b[90m━━━━━━━━━━━━━━━━━━━━━━━━━━━━━━━━━━━━━━━━\u001b[0m \u001b[32m295.8/295.8 kB\u001b[0m \u001b[31m22.2 MB/s\u001b[0m eta \u001b[36m0:00:00\u001b[0m\n",
            "\u001b[2K   \u001b[90m━━━━━━━━━━━━━━━━━━━━━━━━━━━━━━━━━━━━━━━━\u001b[0m \u001b[32m141.9/141.9 kB\u001b[0m \u001b[31m11.5 MB/s\u001b[0m eta \u001b[36m0:00:00\u001b[0m\n",
            "\u001b[2K   \u001b[90m━━━━━━━━━━━━━━━━━━━━━━━━━━━━━━━━━━━━━━━━\u001b[0m \u001b[32m54.5/54.5 kB\u001b[0m \u001b[31m5.1 MB/s\u001b[0m eta \u001b[36m0:00:00\u001b[0m\n",
            "\u001b[2K   \u001b[90m━━━━━━━━━━━━━━━━━━━━━━━━━━━━━━━━━━━━━━━━\u001b[0m \u001b[32m2.2/2.2 MB\u001b[0m \u001b[31m48.6 MB/s\u001b[0m eta \u001b[36m0:00:00\u001b[0m\n",
            "\u001b[2K   \u001b[90m━━━━━━━━━━━━━━━━━━━━━━━━━━━━━━━━━━━━━━━━\u001b[0m \u001b[32m49.3/49.3 kB\u001b[0m \u001b[31m4.1 MB/s\u001b[0m eta \u001b[36m0:00:00\u001b[0m\n",
            "\u001b[2K   \u001b[90m━━━━━━━━━━━━━━━━━━━━━━━━━━━━━━━━━━━━━━━━\u001b[0m \u001b[32m1.2/1.2 MB\u001b[0m \u001b[31m48.7 MB/s\u001b[0m eta \u001b[36m0:00:00\u001b[0m\n",
            "\u001b[2K   \u001b[90m━━━━━━━━━━━━━━━━━━━━━━━━━━━━━━━━━━━━━━━━\u001b[0m \u001b[32m88.1/88.1 kB\u001b[0m \u001b[31m7.3 MB/s\u001b[0m eta \u001b[36m0:00:00\u001b[0m\n",
            "\u001b[?25h"
          ]
        }
      ]
    },
    {
      "cell_type": "markdown",
      "source": [
        "You also need an OpenAI account with **valid API keys**.\n",
        "\n",
        "1) If you have not registered before, you can do so at https://platform.openai.com/login?launch\n",
        "\n",
        "2) Then, the API key can be generated from https://platform.openai.com/api-keys\n",
        "\n",
        "Note: For first-time use, there will be a $5 free credit from OpenAI (valid for 30 days)."
      ],
      "metadata": {
        "id": "s_Nxdf4RENwW"
      }
    },
    {
      "cell_type": "markdown",
      "source": [
        "# Part 1: OpenAI's API and ReAct Agent [35 Points]"
      ],
      "metadata": {
        "id": "KV2r5OI9_mfi"
      }
    },
    {
      "cell_type": "markdown",
      "source": [
        "## Task 1: Calling OpenAI APIs [20 Points]\n",
        "\n",
        "In this tasks, you are to implement a code which call OpenAI APIs.\n",
        "\n",
        "**Before we begin, ensure the ‘OPENAI_API_KEY’ is added in the Secrets tab (key icon on the left).**\n",
        "\n",
        "<img src =\"https://raw.githubusercontent.com/jrkns/cloud_imgs/main/210824_colab_secret.png\" width=\"500\" height=\"300\">"
      ],
      "metadata": {
        "id": "4syIOGBr_RzG"
      }
    },
    {
      "cell_type": "markdown",
      "source": [
        "#### TODO-1: Sent first OpenAI API request. [2.5 Points]\n",
        "\n",
        "Ensure that you correctly generate and configure the OpenAI API key by running the code below. The output **should display your first and last name** for grading purposes. If it doesn't, **please set the variables and rerun the cell in the prerequisite section above**."
      ],
      "metadata": {
        "id": "wWyykKKcxjyB"
      }
    },
    {
      "cell_type": "code",
      "source": [
        "### Make sure OPENAI_API_KEY is added in the Secrets tab\n",
        "from google.colab import userdata\n",
        "from openai import OpenAI\n",
        "import json\n",
        "\n",
        "################ DON'T CHANGE THE CODE IN THIS BLOCK ################\n",
        "#\n",
        "### TODO-1: Sent first OpenAI API request. [2.5 Points]\n",
        "client = OpenAI(api_key=userdata.get(\"OPENAI_API_KEY\"))\n",
        "completion = client.chat.completions.create(\n",
        "    model=\"gpt-4o-mini\",\n",
        "    messages=[\n",
        "        {\"role\": \"user\", \"content\": f\"My name is \\\"{AUTHOR_NAME} {AUTHOR_SURNAME}\\\", What is my name?\"}\n",
        "    ],\n",
        "    temperature=0,\n",
        ")\n",
        "#\n",
        "print(\"<TODO_1_OUTPUT_BEGIN>\")\n",
        "print(completion)\n",
        "print(completion.choices[0].message)\n",
        "print(\"<TODO_1_OUTPUT_END>\")\n",
        "#\n",
        "################ DON'T CHANGE THE CODE IN THIS BLOCK ################"
      ],
      "metadata": {
        "id": "PjVS4bs8_ScG",
        "colab": {
          "base_uri": "https://localhost:8080/"
        },
        "outputId": "16863428-eed9-4016-9a26-d4c0569920c1"
      },
      "execution_count": 3,
      "outputs": [
        {
          "output_type": "stream",
          "name": "stdout",
          "text": [
            "<TODO_1_OUTPUT_BEGIN>\n",
            "ChatCompletion(id='chatcmpl-AHYMUOt1I6OW6x2Y3uMHZnml3hHFZ', choices=[Choice(finish_reason='stop', index=0, logprobs=None, message=ChatCompletionMessage(content='Your name is Warun Chareonsuk.', refusal=None, role='assistant', function_call=None, tool_calls=None))], created=1728747026, model='gpt-4o-mini-2024-07-18', object='chat.completion', service_tier=None, system_fingerprint='fp_e2bde53e6e', usage=CompletionUsage(completion_tokens=10, prompt_tokens=23, total_tokens=33, prompt_tokens_details={'cached_tokens': 0}, completion_tokens_details={'reasoning_tokens': 0}))\n",
            "ChatCompletionMessage(content='Your name is Warun Chareonsuk.', refusal=None, role='assistant', function_call=None, tool_calls=None)\n",
            "<TODO_1_OUTPUT_END>\n"
          ]
        }
      ]
    },
    {
      "cell_type": "markdown",
      "source": [
        "#### TODO-2: Look at the EXPECTED-OUTPUT and try to guess the prompts. [5 Points]\n",
        "\n",
        "Your task is to guess the original prompt that generated the contents below. The **output may differ** from the expected output in details (e.g., location names), but the **schema of the output should match**.\n",
        "\n",
        "**Hint:** Consider passing additional parameters to OpenAI to ensure the JSON output is valid. https://platform.openai.com/docs/guides/structured-outputs/json-mode"
      ],
      "metadata": {
        "id": "pzwe3U6zxq9y"
      }
    },
    {
      "cell_type": "code",
      "source": [
        "### TODO-2: Look at the EXPECTED-OUTPUT and try to guess the prompts. [5 Points]\n",
        "###         The output may vary in details, but the main components should match.\n",
        "# TODO_2_PROMPTS = \"\"\"\n",
        "# lease provide a potential travel itinerary for Bangkok, Thailand,\n",
        "# including the Names of interesting places,\n",
        "# provide details of bts skytrain shortname with any additional transportation required to reach the final destination.\n",
        "# and The best time of day to go there (Morning, Afternoon, Evening, or Night).\n",
        "# Ensure the output is formatted as valid JSON.\n",
        "# \"\"\"\n",
        "TODO_2_PROMPTS = \"\"\"\n",
        "Please provide a suggested itinerary for a day trip in Bangkok, Thailand, using the BTS Skytrain.  The itinerary should be formatted as a Python dictionary with a single key, 'trip'. The value of this key should be a list of dictionaries, with each dictionary representing a place to visit. Each place dictionary should have the following keys:\n",
        "\n",
        "name: The name of the place.\n",
        "station: If the place is not directly accessible by BTS, please include instructions on how to get there from the station.\n",
        "time: The suggested time of day to visit (morning or afternoon).\n",
        "\n",
        "Ensure the output is formatted as valid JSON.\n",
        "\"\"\"\n",
        "\n",
        "client = OpenAI(api_key=userdata.get(\"OPENAI_API_KEY\"))\n",
        "completion = client.chat.completions.create(\n",
        "    model=\"gpt-4o-mini\",\n",
        "    messages=[\n",
        "        {\"role\": \"user\", \"content\": TODO_2_PROMPTS}\n",
        "    ],\n",
        "    temperature=0.1,\n",
        "    response_format={\n",
        "        \"type\": \"json_object\"\n",
        "    }\n",
        ")\n",
        "\n",
        "### EXPECTED-OUTPUT (may vary):\n",
        "# <TODO_2_OUTPUT_BEGIN>\n",
        "# {'trip': [{'name': 'Chatuchak Weekend Market',\n",
        "#    'station': 'Mo Chit',\n",
        "#    'time': 'morning'},\n",
        "#   {'name': 'Jim Thompson House',\n",
        "#    'station': 'National Stadium',\n",
        "#    'time': 'afternoon'},\n",
        "#   {'name': 'Wat Arun (Temple of Dawn)',\n",
        "#    'station': 'Sathorn (Taksin) - then take a ferry',\n",
        "#    'time': 'morning'},\n",
        "#   {'name': 'Asiatique The Riverfront',\n",
        "#    'station': 'Sathorn (Taksin) - then take a ferry',\n",
        "#    'time': 'afternoon'}]}\n",
        "# <TODO_2_OUTPUT_END>\n",
        "\n",
        "################ DON'T CHANGE THE CODE IN THIS BLOCK ################\n",
        "print(\"<TODO_2_OUTPUT_BEGIN>\")\n",
        "# print(json.loads(completion.choices[0].message.content))\n",
        "print(json.dumps(json.loads(completion.choices[0].message.content), indent=2))\n",
        "print(\"<TODO_2_OUTPUT_END>\")\n",
        "################ DON'T CHANGE THE CODE IN THIS BLOCK ################"
      ],
      "metadata": {
        "id": "WN_KsB8xEgNI",
        "colab": {
          "base_uri": "https://localhost:8080/"
        },
        "outputId": "56d5e169-2901-4bac-ad30-3813c8bac83f"
      },
      "execution_count": 4,
      "outputs": [
        {
          "output_type": "stream",
          "name": "stdout",
          "text": [
            "<TODO_2_OUTPUT_BEGIN>\n",
            "{\n",
            "  \"trip\": [\n",
            "    {\n",
            "      \"name\": \"Chatuchak Weekend Market\",\n",
            "      \"station\": \"Mo Chit\",\n",
            "      \"time\": \"morning\"\n",
            "    },\n",
            "    {\n",
            "      \"name\": \"Jim Thompson House\",\n",
            "      \"station\": \"National Stadium\",\n",
            "      \"time\": \"afternoon\"\n",
            "    },\n",
            "    {\n",
            "      \"name\": \"Siam Paragon\",\n",
            "      \"station\": \"Siam\",\n",
            "      \"time\": \"afternoon\"\n",
            "    },\n",
            "    {\n",
            "      \"name\": \"Wat Phra Kaew (Temple of the Emerald Buddha)\",\n",
            "      \"station\": \"Saphan Taksin\",\n",
            "      \"time\": \"afternoon\",\n",
            "      \"instructions\": \"Take a boat from Sathorn Pier to Tha Chang Pier.\"\n",
            "    },\n",
            "    {\n",
            "      \"name\": \"Asiatique The Riverfront\",\n",
            "      \"station\": \"Saphan Taksin\",\n",
            "      \"time\": \"evening\",\n",
            "      \"instructions\": \"Take a boat from Sathorn Pier to Asiatique.\"\n",
            "    }\n",
            "  ]\n",
            "}\n",
            "<TODO_2_OUTPUT_END>\n"
          ]
        }
      ]
    },
    {
      "cell_type": "markdown",
      "source": [
        "#### TODO-3: Look at the EXPECTED-OUTPUT and try to guess the prompts. [5 Points]\n",
        "\n",
        "Your task is to guess the original prompt that generated the contents below. The **output may differ** from the expected output in details (e.g., location names), but the **schema of the output should match**.\n",
        "\n",
        "**Hint:** Consider passing additional parameters to OpenAI to ensure the JSON output is valid. https://platform.openai.com/docs/guides/structured-outputs/json-mode"
      ],
      "metadata": {
        "id": "b9t3OFnGHbaa"
      }
    },
    {
      "cell_type": "code",
      "source": [
        "### TODO-3: Look at the EXPECTED-OUTPUT and try to guess the prompts. [5 Points]\n",
        "###         The output may vary in details, but the main components should match.\n",
        "TODO_3_PROMPTS = \"\"\"\n",
        "I have some customer feedback.  For each piece of feedback, I need you to extract the following information and present it as a Python dictionary:\n",
        "\n",
        "name: The customer's name, if mentioned. If no name is given, use 'unknown'.\n",
        "sentiment: Determine if the feedback is generally positive or negative.\n",
        "products: Identify any financial products mentioned in the feedback (e.g., 'credit card', 'debit card', 'customer service').\n",
        "\n",
        "Ensure the output is formatted as valid JSON.\n",
        "\"\"\"\n",
        "\n",
        "client = OpenAI(api_key=userdata.get(\"OPENAI_API_KEY\"))\n",
        "\n",
        "def secret_logic(input_string):\n",
        "    completion = client.chat.completions.create(\n",
        "        model=\"gpt-4o-mini\",\n",
        "        messages=[\n",
        "            {\"role\": \"system\", \"content\": TODO_3_PROMPTS},\n",
        "            {\"role\": \"user\", \"content\": f\"text: {input_string}\\noutput:\"}\n",
        "        ],\n",
        "        temperature=0.1,\n",
        "        response_format={\n",
        "            \"type\": \"json_object\"\n",
        "        }\n",
        "    )\n",
        "    return json.loads(completion.choices[0].message.content)\n",
        "\n",
        "### EXPECTED-OUTPUT:\n",
        "# <TODO_3_OUTPUT_BEGIN>\n",
        "# INPUT: Hi, I’m Bob. Your credit card is amazing.\n",
        "# OUTPUT: {'name': 'Bob', 'sentiment': 'positive', 'products': ['credit_card']}\n",
        "# INPUT: Your debit card was not working, so I couldn’t use it at the airport yesterday :(\n",
        "# OUTPUT: {'name': 'unknown', 'sentiment': 'negative', 'products': ['debit_card']}\n",
        "# INPUT: Last week, my wife Alice lost her wallet, and both her debit and credit cards are gone. Your customer service responded quickly to freeze those cards. Thank you again.\n",
        "# OUTPUT: {'name': 'Alice', 'sentiment': 'positive', 'products': ['debit_card', 'credit_card']}\n",
        "# <TODO_3_OUTPUT_END>\n",
        "\n",
        "################ DON'T CHANGE THE CODE IN THIS BLOCK ################\n",
        "inpts = [\n",
        "    \"Hi, I’m Bob. Your credit card is amazing.\",\n",
        "    \"Your debit card was not working, so I couldn’t use it at the airport yesterday :(\",\n",
        "    \"Last week, my wife Alice lost her wallet, and both her debit and credit cards are gone. Your customer service responded quickly to freeze those cards. Thank you again.\"\n",
        "]\n",
        "#\n",
        "print(\"<TODO_3_OUTPUT_BEGIN>\")\n",
        "for inpt in inpts:\n",
        "    print(\"INPUT:\", inpt)\n",
        "    print(\"OUTPUT:\", secret_logic(inpt))\n",
        "print(\"<TODO_3_OUTPUT_END>\")\n",
        "################ DON'T CHANGE THE CODE IN THIS BLOCK ################"
      ],
      "metadata": {
        "id": "o7g3Tvj7EgC5",
        "colab": {
          "base_uri": "https://localhost:8080/"
        },
        "outputId": "db7ce3ba-ba11-4964-b3fb-16947db3a386"
      },
      "execution_count": 4,
      "outputs": [
        {
          "output_type": "stream",
          "name": "stdout",
          "text": [
            "<TODO_3_OUTPUT_BEGIN>\n",
            "INPUT: Hi, I’m Bob. Your credit card is amazing.\n",
            "OUTPUT: {'name': 'Bob', 'sentiment': 'positive', 'products': ['credit card']}\n",
            "INPUT: Your debit card was not working, so I couldn’t use it at the airport yesterday :(\n",
            "OUTPUT: {'name': 'unknown', 'sentiment': 'negative', 'products': ['debit card']}\n",
            "INPUT: Last week, my wife Alice lost her wallet, and both her debit and credit cards are gone. Your customer service responded quickly to freeze those cards. Thank you again.\n",
            "OUTPUT: {'name': 'Alice', 'sentiment': 'positive', 'products': ['debit card', 'credit card', 'customer service']}\n",
            "<TODO_3_OUTPUT_END>\n"
          ]
        }
      ]
    },
    {
      "cell_type": "markdown",
      "source": [
        "#### TODO-4: Look at the EXPECTED-OUTPUT and try to guess the prompts. [5 Points]\n",
        "\n",
        "Your task is to guess the original prompt that generated the contents below. **The output should match perfectly.**"
      ],
      "metadata": {
        "id": "lXi38SoxHfad"
      }
    },
    {
      "cell_type": "code",
      "source": [
        "### TODO-4: Look at the EXPECTED-OUTPUT and try to guess the prompts. [5 Points]\n",
        "###         The output may vary in details, but the main components should match.\n",
        "TODO_4_PROMPTS = \"\"\"\n",
        "You are given a text-based visual pattern representing a triangle with a line underneath Christmas tree.\n",
        "Your task is to modify this pattern to create a smaller triangle made of dollar signs ($) with a line underneath it.\n",
        "and Reduce the Christmas tree pattern ($) by 3 rows.\n",
        "\"\"\"\n",
        "\n",
        "client = OpenAI(api_key=userdata.get(\"OPENAI_API_KEY\"))\n",
        "completion = client.chat.completions.create(\n",
        "    model=\"gpt-4o-mini\",\n",
        "    messages=[\n",
        "        {\"role\": \"user\", \"content\": \"Write a Christmas tree using the * symbol. Only respond with the tree.\"},\n",
        "        {\"role\": \"assistant\", \"content\": \"```\\n      *      \\n     ***     \\n    *****    \\n   *******   \\n  *********  \\n *********** \\n*************\\n      |      \\n```\"},\n",
        "        # {\"role\": \"assistant\", \"content\": \"```\\n       *       \\n      ***      \\n     *****     \\n    *******    \\n   *********   \\n  ***********  \\n ************ \\n**************\\n       |       \\n```\"},\n",
        "        {\"role\": \"user\", \"content\": TODO_4_PROMPTS},\n",
        "    ],\n",
        "    temperature=0,\n",
        ")\n",
        "\n",
        "### BEFORE-OUTPUT:\n",
        "# ```\n",
        "#       *\n",
        "#      ***\n",
        "#     *****\n",
        "#    *******\n",
        "#   *********\n",
        "#  ***********\n",
        "# *************\n",
        "#       |\n",
        "# ```\n",
        "\n",
        "### EXPECTED-OUTPUT:\n",
        "# <TODO_4_OUTPUT_BEGIN>\n",
        "# ```\n",
        "#       $\n",
        "#      $$$\n",
        "#     $$$$$\n",
        "#    $$$$$$$\n",
        "#       |\n",
        "# ```\n",
        "# <TODO_4_OUTPUT_END>\n",
        "\n",
        "################ DON'T CHANGE THE CODE IN THIS BLOCK ################\n",
        "print(\"<TODO_4_OUTPUT_BEGIN>\")\n",
        "print(completion.choices[0].message.content)\n",
        "print(\"<TODO_4_OUTPUT_END>\")\n",
        "################ DON'T CHANGE THE CODE IN THIS BLOCK ################"
      ],
      "metadata": {
        "id": "QmphZfy7Ef7t",
        "colab": {
          "base_uri": "https://localhost:8080/"
        },
        "outputId": "ab74e8d0-1b70-4ebe-9930-273728740eba"
      },
      "execution_count": 5,
      "outputs": [
        {
          "output_type": "stream",
          "name": "stdout",
          "text": [
            "<TODO_4_OUTPUT_BEGIN>\n",
            "```\n",
            "    $    \n",
            "   $$$   \n",
            "  $$$$$  \n",
            " $$$$$$$ \n",
            "    |    \n",
            "```\n",
            "<TODO_4_OUTPUT_END>\n"
          ]
        }
      ]
    },
    {
      "cell_type": "markdown",
      "source": [
        "#### TODO-5: Write a code that includes prompts and Vision API calls. [2.5 Points]\n",
        "\n",
        "\n",
        "**Working with images**\n",
        "\n",
        "In this task, you will implement code to use the OpenAI Vision API to identify **legs present in the following image.** **The output may vary.**\n",
        "\n",
        "Image: https://takabb.com/public/images/1638819994.png\n",
        "\n",
        "**Hint:** For more details about the Vision API, please visit https://platform.openai.com/docs/guides/vision"
      ],
      "metadata": {
        "id": "tncwPsifEnNc"
      }
    },
    {
      "cell_type": "code",
      "source": [
        "### TODO-5: Write a code that includes prompts and Vision API calls. [2.5 Points]\n",
        "\n",
        "### EXPECTED-OUTPUT (may vary):\n",
        "# <TODO_5_OUTPUT_BEGIN>\n",
        "# The image features two large centipedes, each with visible legs.\n",
        "# Each centipede has 21 pairs of legs, making a total of 42 legs per centipede.\n",
        "# Since there are two centipedes, the total number of centipede legs in the image is 42 + 42 = 84 legs.\n",
        "# <TODO_5_OUTPUT_END>\n",
        "\n",
        "print(\"<TODO_5_OUTPUT_BEGIN>\")\n",
        "\n",
        "response = client.chat.completions.create(\n",
        "  model=\"gpt-4o-mini\",\n",
        "  messages=[\n",
        "    {\n",
        "      \"role\": \"user\",\n",
        "      \"content\": [\n",
        "        {\"type\": \"text\", \"text\": \"What’s in this image?\"},\n",
        "        {\n",
        "          \"type\": \"image_url\",\n",
        "          \"image_url\": {\n",
        "            \"url\": \"https://takabb.com/public/images/1638819994.png\",\n",
        "          },\n",
        "        },\n",
        "      ],\n",
        "    }\n",
        "  ],\n",
        "  max_tokens=300,\n",
        ")\n",
        "\n",
        "print(response.choices[0].message.content.replace('. ', '.\\n'))\n",
        "# print(json.dumps(json.loads(completion.choices[0].message.content), indent=2))\n",
        "\n",
        "print(\"<TODO_5_OUTPUT_END>\")"
      ],
      "metadata": {
        "id": "c8paIq0iEfwp",
        "colab": {
          "base_uri": "https://localhost:8080/"
        },
        "outputId": "0e3f04f5-061e-42a8-ac74-a6b237e8953d"
      },
      "execution_count": 7,
      "outputs": [
        {
          "output_type": "stream",
          "name": "stdout",
          "text": [
            "<TODO_5_OUTPUT_BEGIN>\n",
            "The image appears to be a decorative label or advertisement featuring a central portrait of a man in a suit.\n",
            "Surrounding the portrait are illustrations of centipedes, and the text includes Thai script, likely indicating the product name and some details about it.\n",
            "The overall design combines traditional art elements with bold colors.\n",
            "<TODO_5_OUTPUT_END>\n"
          ]
        }
      ]
    },
    {
      "cell_type": "markdown",
      "source": [
        "## Task 2: Building ReAct Agent with Langchain [15 Points]\n",
        "\n",
        "In this task, you are required to implement code that defines tools for the LLM to use. The tools include:\n",
        "* Loan limit calculator (TODO-6)\n",
        "* KBTG's job search (TODO-7)\n"
      ],
      "metadata": {
        "id": "i86w1NSC_WYm"
      }
    },
    {
      "cell_type": "markdown",
      "source": [
        "#### TODO-6: Write loan limit calculator function with the following logic [5 Points]\n",
        "\n",
        "* income <= 0 , loan_limit = 0\n",
        "* 0 < income < 15000 , loan_limit = 1 x income\n",
        "* 15000 <= income < 50000, loan_limit = 3 x income\n",
        "* 50000 <= income, loan_limit = 5 x income"
      ],
      "metadata": {
        "id": "Sh6AHYD7HuYg"
      }
    },
    {
      "cell_type": "code",
      "source": [
        "### TODO-6: Write loan limit calculator function with the following logic [5 Points]\n",
        "### income <= 0 , loan_limit = 0\n",
        "### 0 < income < 15000 , loan_limit = 1 x income\n",
        "### 15000 <= income < 50000, loan_limit = 3 x income\n",
        "### 50000 <= income, loan_limit = 5 x income\n",
        "\n",
        "from langchain_core.tools import tool\n",
        "\n",
        "@tool\n",
        "def calculate_loan_limit(monthly_income: int):\n",
        "    \"\"\"calculate loan limit from monthly income\"\"\"\n",
        "    if monthly_income <= 0:\n",
        "        loan_limit = 0\n",
        "    elif 0 < monthly_income < 15000:\n",
        "        loan_limit = 1 * monthly_income\n",
        "    elif 15000 <= monthly_income < 50000:\n",
        "        loan_limit = 3 * monthly_income\n",
        "    else:\n",
        "        loan_limit = 5 * monthly_income\n",
        "    return loan_limit\n",
        "\n",
        "### EXPECTED-OUTPUT:\n",
        "# <TODO_6_OUTPUT_BEGIN>\n",
        "# INPUT: -999\n",
        "# OUTPUT: 0\n",
        "# INPUT: 0\n",
        "# OUTPUT: 0\n",
        "# INPUT: 14500\n",
        "# OUTPUT: 14500\n",
        "# INPUT: 15000\n",
        "# OUTPUT: 45000\n",
        "# INPUT: 50000\n",
        "# OUTPUT: 250000\n",
        "# INPUT: 100000\n",
        "# OUTPUT: 500000\n",
        "# <TODO_6_OUTPUT_END>\n",
        "\n",
        "################ DON'T CHANGE THE CODE IN THIS BLOCK ################\n",
        "print(\"<TODO_6_OUTPUT_BEGIN>\")\n",
        "income_lists = [-999, 0, 14500, 15000, 50000, 100000]\n",
        "for income in income_lists:\n",
        "    print(\"INPUT:\", income)\n",
        "    print(\"OUTPUT:\", int(calculate_loan_limit({\"monthly_income\": income})))\n",
        "print(\"<TODO_6_OUTPUT_END>\")\n",
        "################ DON'T CHANGE THE CODE IN THIS BLOCK ################"
      ],
      "metadata": {
        "id": "ubXvxYFz_WoN",
        "colab": {
          "base_uri": "https://localhost:8080/"
        },
        "outputId": "2c7c0720-643e-43a4-e047-59841273eceb"
      },
      "execution_count": 8,
      "outputs": [
        {
          "output_type": "stream",
          "name": "stdout",
          "text": [
            "<TODO_6_OUTPUT_BEGIN>\n",
            "INPUT: -999\n",
            "OUTPUT: 0\n",
            "INPUT: 0\n",
            "OUTPUT: 0\n",
            "INPUT: 14500\n",
            "OUTPUT: 14500\n",
            "INPUT: 15000\n",
            "OUTPUT: 45000\n",
            "INPUT: 50000\n",
            "OUTPUT: 250000\n",
            "INPUT: 100000\n",
            "OUTPUT: 500000\n",
            "<TODO_6_OUTPUT_END>\n"
          ]
        },
        {
          "output_type": "stream",
          "name": "stderr",
          "text": [
            "<ipython-input-8-1225f6cc5ac0>:43: LangChainDeprecationWarning: The method `BaseTool.__call__` was deprecated in langchain-core 0.1.47 and will be removed in 1.0. Use invoke instead.\n",
            "  print(\"OUTPUT:\", int(calculate_loan_limit({\"monthly_income\": income})))\n"
          ]
        }
      ]
    },
    {
      "cell_type": "markdown",
      "source": [
        "#### TODO-7: Extract the remaining fields. (job_title, job_location) [5 Points]\n",
        "\n",
        "In this task, the majority of the code is provided. This code makes a POST request to www.kbtg.tech to retrieve job openings based on the given keywords. Your task is to extract the remaining job information, including the job title and job location.\n",
        "\n",
        "\n",
        "**Hint:** An example for extracting job_company_name is provided. You might need to **log the raw response** from the API to complete the code."
      ],
      "metadata": {
        "id": "jDXtbDbpH44P"
      }
    },
    {
      "cell_type": "code",
      "source": [
        "import json\n",
        "import re\n",
        "import requests\n",
        "\n",
        "from langchain_core.tools import tool\n",
        "\n",
        "@tool\n",
        "def search_kbtg_jobs(keyword: str):\n",
        "    \"\"\"searching the opening job.\"\"\"\n",
        "\n",
        "    query = re.sub(r'\\s+', '+', keyword)\n",
        "    res = requests.post(\n",
        "        \"https://www.kbtg.tech/career-factor\",\n",
        "        headers={'Content-Type': 'application/x-www-form-urlencoded; charset=UTF-8'},\n",
        "        data=f\"page=1&limit=3&keyword={query}\"\n",
        "    )\n",
        "    res = res.content.decode(\"utf-8\")\n",
        "    res = json.loads(res)[\"data\"]\n",
        "\n",
        "    job_search_results = []\n",
        "    for job_data in res:\n",
        "\n",
        "        # print(json.dumps(job_data, indent=2))\n",
        "\n",
        "        ### TODO-7: Extract the remaining fields. (job_title, job_location) [5 Points]\n",
        "        job_company_name = job_data[\"jobRequisition\"][\"legalEntity_obj\"][\"name\"]\n",
        "        job_title = job_data[\"jobRequisition\"][\"jobReqLocale\"][\"results\"][0][\"externalTitle\"]\n",
        "        job_location = job_data[\"jobRequisition\"][\"cust_WorkLocation\"][\"results\"][0][\"externalCode\"]\n",
        "\n",
        "        job_search_results.append({\"title\": job_title, \"company\": job_company_name, \"location\": job_location})\n",
        "    return job_search_results\n",
        "\n",
        "### EXPECTED-OUTPUT (may vary):\n",
        "# <TODO_7_OUTPUT_BEGIN>\n",
        "# [{'title': 'Business Analyst (Wealth)',\n",
        "#   'company': 'KASIKORN SOFT',\n",
        "#   'location': 'KBTG Building'},\n",
        "#  {'title': 'Advanced Business Analyst (Digital Channel)',\n",
        "#   'company': 'KASIKORN SOFT',\n",
        "#   'location': 'KBTG Building'},\n",
        "#  {'title': 'Business Analyst (Non-Mobile)',\n",
        "#   'company': 'KASIKORN SOFT',\n",
        "#   'location': 'KBTG Building'}]\n",
        "# <TODO_7_OUTPUT_END>\n",
        "\n",
        "################ DON'T CHANGE THE CODE IN THIS BLOCK ################\n",
        "print(\"<TODO_7_OUTPUT_BEGIN>\")\n",
        "print(search_kbtg_jobs(\"Analyst\"))\n",
        "print(\"<TODO_7_OUTPUT_END>\")\n",
        "################ DON'T CHANGE THE CODE IN THIS BLOCK ################"
      ],
      "metadata": {
        "id": "xyl6b23jExN7",
        "colab": {
          "base_uri": "https://localhost:8080/"
        },
        "outputId": "ae69e067-a6ea-4089-cfb4-8d04f76d1787"
      },
      "execution_count": 9,
      "outputs": [
        {
          "output_type": "stream",
          "name": "stdout",
          "text": [
            "<TODO_7_OUTPUT_BEGIN>\n",
            "[{'title': 'Advanced Business Analyst. (KSO3BI)', 'company': 'KASIKORN SOFT', 'location': 'KBTG Building'}, {'title': 'Business Analyst (Credit Card)', 'company': 'KASIKORN SOFT', 'location': 'KBTG Building'}, {'title': 'Senior Business Analyst (OFSAA) [Hybrid]', 'company': 'KASIKORN SOFT', 'location': 'KBTG Building'}]\n",
            "<TODO_7_OUTPUT_END>\n"
          ]
        }
      ]
    },
    {
      "cell_type": "code",
      "source": [
        "from google.colab import userdata\n",
        "\n",
        "from langchain_core.messages import HumanMessage, SystemMessage\n",
        "from langchain_openai import ChatOpenAI\n",
        "from langgraph.prebuilt import create_react_agent\n",
        "\n",
        "model = ChatOpenAI(openai_api_key=userdata.get(\"OPENAI_API_KEY\"),\n",
        "                   model=\"gpt-4o-mini\", temperature=0.0)\n",
        "\n",
        "agent_executor = create_react_agent(model, [search_kbtg_jobs, calculate_loan_limit])\n",
        "\n",
        "def log_lc_response(response):\n",
        "    for msg in response['messages']:\n",
        "        msg = msg.to_json()\n",
        "        if msg[\"id\"][-1] == \"HumanMessage\":\n",
        "            print(\"HUMAN:\", msg[\"kwargs\"][\"content\"])\n",
        "        elif msg[\"id\"][-1] == \"AIMessage\":\n",
        "            if \"additional_kwargs\" in msg[\"kwargs\"]:\n",
        "                print(\"TOOL-REQ::\", msg[\"kwargs\"][\"additional_kwargs\"][\"tool_calls\"][0][\"function\"])\n",
        "            else:\n",
        "                print(\"AI:\", msg[\"kwargs\"][\"content\"])\n",
        "        elif msg[\"id\"][-1] == \"ToolMessage\":\n",
        "            print(\"TOOL-RES:\", msg[\"kwargs\"][\"content\"])"
      ],
      "metadata": {
        "id": "J-P4ga2jEzGj"
      },
      "execution_count": 11,
      "outputs": []
    },
    {
      "cell_type": "markdown",
      "source": [
        "#### TODO-8: Test agent with tools (calculate_loan_limit) [2 Points]\n",
        "\n",
        "The code is already provided. Run this cell to validate that TODO-6 and TODO-7 are correct."
      ],
      "metadata": {
        "id": "1OV62wwuH_BB"
      }
    },
    {
      "cell_type": "code",
      "source": [
        "### TODO-8: Test agent with tools (calculate_loan_limit) [2 Points]\n",
        "\n",
        "### EXPECTED-OUTPUT:\n",
        "# <TODO_8_OUTPUT_BEGIN>\n",
        "# HUMAN: If I have a monthly income of 30,000, what loan amount can I get?\n",
        "# TOOL-REQ:: {'arguments': '{\"monthly_income\":30000}', 'name': 'calculate_loan_limit'}\n",
        "# TOOL-RES: 90000\n",
        "# AI: With a monthly income of 30,000, you can get a loan amount of up to 90,000.\n",
        "# <TODO_8_OUTPUT_END>\n",
        "\n",
        "################ DON'T CHANGE THE CODE IN THIS BLOCK ################\n",
        "response = agent_executor.invoke(\n",
        "    {\"messages\": [HumanMessage(content= \"If I have a monthly income of 30,000, what loan amount can I get?\")]}\n",
        ")\n",
        "#\n",
        "print(\"<TODO_8_OUTPUT_BEGIN>\")\n",
        "log_lc_response(response)\n",
        "print(\"<TODO_8_OUTPUT_END>\")\n",
        "################ DON'T CHANGE THE CODE IN THIS BLOCK ################"
      ],
      "metadata": {
        "id": "S76wBjuVE2oS",
        "colab": {
          "base_uri": "https://localhost:8080/"
        },
        "outputId": "245dae2c-d60e-4aca-dd26-bd0d025319a0"
      },
      "execution_count": 12,
      "outputs": [
        {
          "output_type": "stream",
          "name": "stdout",
          "text": [
            "<TODO_8_OUTPUT_BEGIN>\n",
            "HUMAN: If I have a monthly income of 30,000, what loan amount can I get?\n",
            "TOOL-REQ:: {'arguments': '{\"monthly_income\":30000}', 'name': 'calculate_loan_limit'}\n",
            "TOOL-RES: 90000\n",
            "AI: With a monthly income of 30,000, you can get a loan amount of up to 90,000.\n",
            "<TODO_8_OUTPUT_END>\n"
          ]
        }
      ]
    },
    {
      "cell_type": "markdown",
      "source": [
        "#### TODO-9: Test agent with tools (search_kbtg_jobs) [2 Points]\n",
        "\n",
        "The code is already provided. Run this cell to validate that TODO-6 and TODO-7 are correct."
      ],
      "metadata": {
        "id": "VYzsp8dsID0j"
      }
    },
    {
      "cell_type": "code",
      "source": [
        "### TODO-9: Test agent with tools (search_kbtg_jobs) [2 Points]\n",
        "\n",
        "### EXPECTED-OUTPUT:\n",
        "# <TODO_9_OUTPUT_BEGIN>\n",
        "# HUMAN: Hello, Do you have Analyst Job opening?\n",
        "# TOOL-REQ:: {'arguments': '{\"keyword\":\"Analyst\"}', 'name': 'search_kbtg_jobs'}\n",
        "# TOOL-RES: [{\"title\": \"Business Analyst (Wealth)\", \"company\": \"KASIKORN SOFT\", \"location\": \"KBTG Building\"}, {\"title\": \"Advanced Business Analyst (Digital Channel)\", \"company\": \"KASIKORN SOFT\", \"location\": \"KBTG Building\"}, {\"title\": \"Business Analyst (Non-Mobile)\", \"company\": \"KASIKORN SOFT\", \"location\": \"KBTG Building\"}]\n",
        "# AI: Yes, there are several Analyst job openings available:\n",
        "#\n",
        "# 1. **Business Analyst (Wealth)**\n",
        "#    - Company: KASIKORN SOFT\n",
        "#    - Location: KBTG Building\n",
        "#\n",
        "# 2. **Advanced Business Analyst (Digital Channel)**\n",
        "#    - Company: KASIKORN SOFT\n",
        "#    - Location: KBTG Building\n",
        "#\n",
        "# 3. **Business Analyst (Non-Mobile)**\n",
        "#    - Company: KASIKORN SOFT\n",
        "#    - Location: KBTG Building\n",
        "#\n",
        "# If you need more information about any specific position, feel free to ask!\n",
        "# <TODO_9_OUTPUT_END>\n",
        "\n",
        "################ DON'T CHANGE THE CODE IN THIS BLOCK ################\n",
        "response = agent_executor.invoke(\n",
        "    {\"messages\": [HumanMessage(content= \"Hello, Do you have Analyst job opening?\")]}\n",
        ")\n",
        "#\n",
        "print(\"<TODO_9_OUTPUT_BEGIN>\")\n",
        "log_lc_response(response)\n",
        "print(\"<TODO_9_OUTPUT_END>\")\n",
        "################ DON'T CHANGE THE CODE IN THIS BLOCK ################"
      ],
      "metadata": {
        "id": "ax1COP_PE3Mc",
        "colab": {
          "base_uri": "https://localhost:8080/"
        },
        "outputId": "c46406dc-b082-49d9-caa7-7c070c079558"
      },
      "execution_count": 13,
      "outputs": [
        {
          "output_type": "stream",
          "name": "stdout",
          "text": [
            "<TODO_9_OUTPUT_BEGIN>\n",
            "HUMAN: Hello, Do you have Analyst job opening?\n",
            "TOOL-REQ:: {'arguments': '{\"keyword\":\"Analyst\"}', 'name': 'search_kbtg_jobs'}\n",
            "TOOL-RES: [{\"title\": \"Advanced Business Analyst. (KSO3BI)\", \"company\": \"KASIKORN SOFT\", \"location\": \"KBTG Building\"}, {\"title\": \"Business Analyst (Credit Card)\", \"company\": \"KASIKORN SOFT\", \"location\": \"KBTG Building\"}, {\"title\": \"Senior Business Analyst (OFSAA) [Hybrid]\", \"company\": \"KASIKORN SOFT\", \"location\": \"KBTG Building\"}]\n",
            "AI: Here are the current Analyst job openings:\n",
            "\n",
            "1. **Advanced Business Analyst (KSO3BI)**\n",
            "   - **Company:** KASIKORN SOFT\n",
            "   - **Location:** KBTG Building\n",
            "\n",
            "2. **Business Analyst (Credit Card)**\n",
            "   - **Company:** KASIKORN SOFT\n",
            "   - **Location:** KBTG Building\n",
            "\n",
            "3. **Senior Business Analyst (OFSAA) [Hybrid]**\n",
            "   - **Company:** KASIKORN SOFT\n",
            "   - **Location:** KBTG Building\n",
            "\n",
            "If you need more information about any of these positions, feel free to ask!\n",
            "<TODO_9_OUTPUT_END>\n"
          ]
        }
      ]
    },
    {
      "cell_type": "markdown",
      "source": [
        "#### TODO-10: Test agent without tools in general cases. [1 Point]\n",
        "\n",
        "The code is already provided. Run this cell to validate that TODO-6 and TODO-7 are correct."
      ],
      "metadata": {
        "id": "QbPY2P0OII5W"
      }
    },
    {
      "cell_type": "code",
      "source": [
        "### TODO-10: Test agent without tools in general cases. [1 Point]\n",
        "\n",
        "### EXPECTED-OUTPUT:\n",
        "# <TODO_10_OUTPUT_BEGIN>\n",
        "# HUMAN: Howdy?\n",
        "# AI: Hello! How can I assist you today?\n",
        "# <TODO_10_OUTPUT_END>\n",
        "\n",
        "################ DON'T CHANGE THE CODE IN THIS BLOCK ################\n",
        "response = agent_executor.invoke(\n",
        "    {\"messages\": [HumanMessage(content= \"Howdy?\")]}\n",
        ")\n",
        "#\n",
        "print(\"<TODO_10_OUTPUT_BEGIN>\")\n",
        "log_lc_response(response)\n",
        "print(\"<TODO_10_OUTPUT_END>\")\n",
        "################ DON'T CHANGE THE CODE IN THIS BLOCK ################"
      ],
      "metadata": {
        "id": "f0moO-eHE41v",
        "colab": {
          "base_uri": "https://localhost:8080/"
        },
        "outputId": "686a0d47-93af-4a2a-afcc-4e06af44b432"
      },
      "execution_count": 14,
      "outputs": [
        {
          "output_type": "stream",
          "name": "stdout",
          "text": [
            "<TODO_10_OUTPUT_BEGIN>\n",
            "HUMAN: Howdy?\n",
            "AI: Hello! How can I assist you today?\n",
            "<TODO_10_OUTPUT_END>\n"
          ]
        }
      ]
    },
    {
      "cell_type": "markdown",
      "source": [
        "# Part 2: LLM Applications [35 Points]"
      ],
      "metadata": {
        "id": "OXCcq7YP_pt2"
      }
    },
    {
      "cell_type": "markdown",
      "source": [
        "## Task 1: LLM Application Laboratory"
      ],
      "metadata": {
        "id": "_aJrARtZ_TuN"
      }
    },
    {
      "cell_type": "markdown",
      "source": [
        "<h1> Laboratory Overview </h1>\n",
        "\n",
        "<h2> Scenario </h2>\n",
        "\n",
        "You manage a platform that hosts fine food reviews from various sources. To improve search functionality and enhance user experience, you need to categorize these reviews, analyze sentiment, and identify key topics such as taste, packaging, and freshness.\n",
        "\n",
        "All data is stored in a CSV file and should be loaded into a Pandas `DataFrame` for processing.\n",
        "\n",
        "<h2> Objective </h2>\n",
        "\n",
        "The objective of this lab is to provide learners with hands-on experience in categorizing and analyzing food reviews using LangChain and OpenAI embeddings. Learners will:\n",
        "\n",
        "- Define and implement a structured tagging schema for fine food reviews.\n",
        "- Automatically categorize reviews and identify key topics using LangChain.\n",
        "- Perform semantic search using text embeddings and cosine similarity.\n",
        "\n",
        "By the end of this lab, learners will be able to build systems that enhance the discoverability and organization of food reviews through automated tagging and advanced search techniques.\n",
        "\n",
        "\n",
        "<h2> Tasks </h2>\n",
        "\n",
        "1. **Set up Environment**:\n",
        "\n",
        "    - Install and import all necessary libraries for LangChain Tagging and Semantic Search\n",
        "    - Load and pre-process data\n",
        "\n",
        "2. **Create a `chain` object for tagging food reviews**:\n",
        "\n",
        "    The `chain` should be composed of a `prompt_template` for the Tagging-LLM and an `llm` using the `gpt-3.5-turbo` model (or any other **OpenAI GPT** model) with a structured output format based on the defined `schema`.\n",
        "   \n",
        "    The required tagging fields in the `schema` are as follows:\n",
        "\n",
        "    - `food_category`: A **string** representing the food category (e.g., Candy, Chips, Tea).\n",
        "    - `sentiment`: A **string** indicating the sentiment of the review (Positive, Negative, Neutral).\n",
        "    - `topic_of_concern`: A **list of strings** identifying the main aspects discussed in the review (e.g., Taste, Freshness, Packaging).\n",
        "\n",
        "3. **Apply tagging function to review data**:\n",
        "\n",
        "    Add all tagging field as the new columns.\n",
        "\n",
        "4. **Define Utility Functions**:\n",
        "   - One function should be designed to vectorize/embed text data.\n",
        "   - The second function should compare the cosine similarity between text embeddings.\n",
        "\n",
        "5. **Apply your functions to answer the provided questions**:\n",
        "   - Perform text embedding to the `tag` columns\n",
        "   - Analyze and apply semantic search to answer the given question\n",
        "\n",
        "<h2> Grading </h2>\n",
        "\n",
        "This task will be evaluated based on two key outputs:\n",
        "\n",
        "1. The `schema` implemented for the LLM tagging task.\n",
        "2. Your responses to Questions 5.1 through 5.3.\n",
        "\n",
        "The final evaluation will be based on **the output generated in the last cell** of this task, so please ensure you run it before submitting."
      ],
      "metadata": {
        "id": "BWbOtN11_cj8"
      }
    },
    {
      "cell_type": "markdown",
      "source": [
        "## 1. Set up Environment"
      ],
      "metadata": {
        "id": "QZulIxQl-pHX"
      }
    },
    {
      "cell_type": "markdown",
      "source": [
        "### 1.1 Install and import all necessary libraries for LangChain Tagging and Semantic Search"
      ],
      "metadata": {
        "id": "-uMbhHxl-sTZ"
      }
    },
    {
      "cell_type": "markdown",
      "source": [
        "LangChain and LLM-related Module"
      ],
      "metadata": {
        "id": "KVJMZFfya1GY"
      }
    },
    {
      "cell_type": "code",
      "source": [
        "import openai\n",
        "from langchain_openai import ChatOpenAI\n",
        "from langchain_core.prompts import ChatPromptTemplate\n",
        "\n",
        "from langchain_core.pydantic_v1 import BaseModel, Field\n",
        "from typing import List"
      ],
      "metadata": {
        "id": "sj2Vvx0r9EgX"
      },
      "execution_count": 15,
      "outputs": []
    },
    {
      "cell_type": "markdown",
      "source": [
        "Data Manipulation Module"
      ],
      "metadata": {
        "id": "kwLDSxvra7bP"
      }
    },
    {
      "cell_type": "code",
      "source": [
        "import pandas as pd\n",
        "import numpy as np\n",
        "from tqdm import tqdm\n",
        "tqdm.pandas()"
      ],
      "metadata": {
        "id": "PtDHaqSALKAo"
      },
      "execution_count": 16,
      "outputs": []
    },
    {
      "cell_type": "markdown",
      "source": [
        "### 1.2 Load and pre-process data"
      ],
      "metadata": {
        "id": "0nJ8RBGVKOK6"
      }
    },
    {
      "cell_type": "markdown",
      "source": [
        "<h2> Data Explanation\n",
        "\n",
        "The dataset used in this lab is sourced from the [Amazon Fine Food Reviews](https://www.kaggle.com/datasets/snap/amazon-fine-food-reviews) dataset on Kaggle. This dataset contains over 500,000 reviews of fine foods from Amazon, including details such as product information, review text, rating, and helpfulness scores.\n",
        "\n",
        "In this lab, we will randomly select 100 rows for Tagging and Semantic Search task. And only a subset of the original columns will be used.\n",
        "\n",
        "**Data in this Lab:**\n",
        "- **`review_id`**: Unique identifier for each review.\n",
        "- **`product_id`**: Unique identifier for the product.\n",
        "- **`user_id`**: Unique identifier for the user.\n",
        "- **`review_score`**: The rating given by the user (from 1 to 5).\n",
        "- **`review_dt`**: The datetime for the review.\n",
        "- **`review_title`**: A title of the review.\n",
        "- **`review_text`**: The main content of the review.\n",
        "\n",
        "**Usage:**\n",
        "The focus columns that will be used for tagging task are `review_title` and `review_text`. The goal is to automatically tag reviews with meaningful labels and enable semantic search for better insights and recommendations.\n",
        "\n",
        "**Source:**\n",
        "You can find more details about the dataset [here](https://www.kaggle.com/datasets/snap/amazon-fine-food-reviews).\n"
      ],
      "metadata": {
        "id": "gzUN8ar7Z52s"
      }
    },
    {
      "cell_type": "markdown",
      "source": [
        "<h2> Data Acquisition\n",
        "\n",
        "Run the `Downloading Cell` and `Preprocessing Cell` to load and pre-process the data. If succeed, the dataset will be stored in variable `df`. **DO NOT CHANGE THE CODE!!!**\n",
        "\n",
        "*Note:* If the `Downloading Cell` malfunction (cannot accquired dataset), please follow these instructions:\n",
        "1. Go download the dataset directly from [here](https://www.kaggle.com/datasets/snap/amazon-fine-food-reviews).\n",
        "2. Unzip the file and upload the file named `Reviews.csv` into Colab's File Explorer.\n",
        "3. Try rerun the `Preprocessing Cell` and check variable `df`"
      ],
      "metadata": {
        "id": "vts_nIUEgcA3"
      }
    },
    {
      "cell_type": "code",
      "source": [
        "# Downloading Cell\n",
        "\n",
        "!kaggle datasets download -d snap/amazon-fine-food-reviews\n",
        "!unzip amazon-fine-food-reviews.zip\n",
        "!rm -r amazon-fine-food-reviews.zip database.sqlite hashes.txt"
      ],
      "metadata": {
        "colab": {
          "base_uri": "https://localhost:8080/"
        },
        "id": "Y2ocifQ7I3xU",
        "outputId": "6ed7323f-0dd1-438e-c991-3b3b517c813d"
      },
      "execution_count": 17,
      "outputs": [
        {
          "output_type": "stream",
          "name": "stdout",
          "text": [
            "Dataset URL: https://www.kaggle.com/datasets/snap/amazon-fine-food-reviews\n",
            "License(s): CC0-1.0\n",
            "Downloading amazon-fine-food-reviews.zip to /content\n",
            " 97% 234M/242M [00:01<00:00, 182MB/s]\n",
            "100% 242M/242M [00:01<00:00, 151MB/s]\n",
            "Archive:  amazon-fine-food-reviews.zip\n",
            "  inflating: Reviews.csv             \n",
            "  inflating: database.sqlite         \n",
            "  inflating: hashes.txt              \n"
          ]
        }
      ]
    },
    {
      "cell_type": "code",
      "source": [
        "# Preprocessing Cell\n",
        "\n",
        "# Read CSV\n",
        "df = pd.read_csv('Reviews.csv')\n",
        "\n",
        "# Rename columns\n",
        "df = df.rename(columns={\n",
        "    'Text': 'review_text',\n",
        "    'Summary': 'review_title',\n",
        "    'Id': 'review_id',\n",
        "    'ProductId': 'product_id',\n",
        "    'UserId': 'user_id',\n",
        "    'Score': 'review_score'\n",
        "})\n",
        "\n",
        "# Convert second to Datetime\n",
        "df['review_dt'] = pd.to_datetime(df['Time'], unit='s')\n",
        "\n",
        "# Drop irrelevant columns\n",
        "df = df.drop(['ProfileName', 'HelpfulnessNumerator', 'HelpfulnessDenominator', 'Time'], axis=1)\n",
        "\n",
        "# Sample for 100 rows\n",
        "# random_state should be 42. DO NOT CHANGE THE SEED!!!. This will affect your final grading.\n",
        "df = df.sample(100, random_state=42).reset_index(drop=True)"
      ],
      "metadata": {
        "id": "bXxd4oCIY3T1"
      },
      "execution_count": 18,
      "outputs": []
    },
    {
      "cell_type": "code",
      "source": [
        "df.head()"
      ],
      "metadata": {
        "id": "YPQpMcbeKfmW",
        "colab": {
          "base_uri": "https://localhost:8080/",
          "height": 479
        },
        "outputId": "45d367fb-5838-4ccb-dfe1-7ee95ab8fbc5"
      },
      "execution_count": 19,
      "outputs": [
        {
          "output_type": "execute_result",
          "data": {
            "text/plain": [
              "   review_id  product_id         user_id  review_score  \\\n",
              "0     165257  B000EVG8J2  A1L01D2BD3RKVO             5   \n",
              "1     231466  B0000BXJIS  A3U62RE5XZDP0G             5   \n",
              "2     427828  B008FHUFAU   AOXC0JQQZGGB6             3   \n",
              "3     433955  B006BXV14E  A3PWPNZVMNX3PA             2   \n",
              "4      70261  B007I7Z3Z0  A1XNZ7PCE45KK7             5   \n",
              "\n",
              "                                   review_title  \\\n",
              "0  Crunchy & Good Gluten-Free Sandwich Cookies!   \n",
              "1                            great kitty treats   \n",
              "2                                  COFFEE TASTE   \n",
              "3              So the Mini-Wheats were too big?   \n",
              "4                             Great Taste . . .   \n",
              "\n",
              "                                         review_text  review_dt  \n",
              "0  Having tried a couple of other brands of glute... 2010-03-10  \n",
              "1  My cat loves these treats. If ever I can't fin... 2011-03-01  \n",
              "2  A little less than I expected.  It tends to ha... 2008-10-15  \n",
              "3  First there was Frosted Mini-Wheats, in origin... 2012-04-25  \n",
              "4  and I want to congratulate the graphic artist ... 2012-04-18  "
            ],
            "text/html": [
              "\n",
              "  <div id=\"df-ef58030a-8c99-4d3a-8f82-8929bdcabf1f\" class=\"colab-df-container\">\n",
              "    <div>\n",
              "<style scoped>\n",
              "    .dataframe tbody tr th:only-of-type {\n",
              "        vertical-align: middle;\n",
              "    }\n",
              "\n",
              "    .dataframe tbody tr th {\n",
              "        vertical-align: top;\n",
              "    }\n",
              "\n",
              "    .dataframe thead th {\n",
              "        text-align: right;\n",
              "    }\n",
              "</style>\n",
              "<table border=\"1\" class=\"dataframe\">\n",
              "  <thead>\n",
              "    <tr style=\"text-align: right;\">\n",
              "      <th></th>\n",
              "      <th>review_id</th>\n",
              "      <th>product_id</th>\n",
              "      <th>user_id</th>\n",
              "      <th>review_score</th>\n",
              "      <th>review_title</th>\n",
              "      <th>review_text</th>\n",
              "      <th>review_dt</th>\n",
              "    </tr>\n",
              "  </thead>\n",
              "  <tbody>\n",
              "    <tr>\n",
              "      <th>0</th>\n",
              "      <td>165257</td>\n",
              "      <td>B000EVG8J2</td>\n",
              "      <td>A1L01D2BD3RKVO</td>\n",
              "      <td>5</td>\n",
              "      <td>Crunchy &amp; Good Gluten-Free Sandwich Cookies!</td>\n",
              "      <td>Having tried a couple of other brands of glute...</td>\n",
              "      <td>2010-03-10</td>\n",
              "    </tr>\n",
              "    <tr>\n",
              "      <th>1</th>\n",
              "      <td>231466</td>\n",
              "      <td>B0000BXJIS</td>\n",
              "      <td>A3U62RE5XZDP0G</td>\n",
              "      <td>5</td>\n",
              "      <td>great kitty treats</td>\n",
              "      <td>My cat loves these treats. If ever I can't fin...</td>\n",
              "      <td>2011-03-01</td>\n",
              "    </tr>\n",
              "    <tr>\n",
              "      <th>2</th>\n",
              "      <td>427828</td>\n",
              "      <td>B008FHUFAU</td>\n",
              "      <td>AOXC0JQQZGGB6</td>\n",
              "      <td>3</td>\n",
              "      <td>COFFEE TASTE</td>\n",
              "      <td>A little less than I expected.  It tends to ha...</td>\n",
              "      <td>2008-10-15</td>\n",
              "    </tr>\n",
              "    <tr>\n",
              "      <th>3</th>\n",
              "      <td>433955</td>\n",
              "      <td>B006BXV14E</td>\n",
              "      <td>A3PWPNZVMNX3PA</td>\n",
              "      <td>2</td>\n",
              "      <td>So the Mini-Wheats were too big?</td>\n",
              "      <td>First there was Frosted Mini-Wheats, in origin...</td>\n",
              "      <td>2012-04-25</td>\n",
              "    </tr>\n",
              "    <tr>\n",
              "      <th>4</th>\n",
              "      <td>70261</td>\n",
              "      <td>B007I7Z3Z0</td>\n",
              "      <td>A1XNZ7PCE45KK7</td>\n",
              "      <td>5</td>\n",
              "      <td>Great Taste . . .</td>\n",
              "      <td>and I want to congratulate the graphic artist ...</td>\n",
              "      <td>2012-04-18</td>\n",
              "    </tr>\n",
              "  </tbody>\n",
              "</table>\n",
              "</div>\n",
              "    <div class=\"colab-df-buttons\">\n",
              "\n",
              "  <div class=\"colab-df-container\">\n",
              "    <button class=\"colab-df-convert\" onclick=\"convertToInteractive('df-ef58030a-8c99-4d3a-8f82-8929bdcabf1f')\"\n",
              "            title=\"Convert this dataframe to an interactive table.\"\n",
              "            style=\"display:none;\">\n",
              "\n",
              "  <svg xmlns=\"http://www.w3.org/2000/svg\" height=\"24px\" viewBox=\"0 -960 960 960\">\n",
              "    <path d=\"M120-120v-720h720v720H120Zm60-500h600v-160H180v160Zm220 220h160v-160H400v160Zm0 220h160v-160H400v160ZM180-400h160v-160H180v160Zm440 0h160v-160H620v160ZM180-180h160v-160H180v160Zm440 0h160v-160H620v160Z\"/>\n",
              "  </svg>\n",
              "    </button>\n",
              "\n",
              "  <style>\n",
              "    .colab-df-container {\n",
              "      display:flex;\n",
              "      gap: 12px;\n",
              "    }\n",
              "\n",
              "    .colab-df-convert {\n",
              "      background-color: #E8F0FE;\n",
              "      border: none;\n",
              "      border-radius: 50%;\n",
              "      cursor: pointer;\n",
              "      display: none;\n",
              "      fill: #1967D2;\n",
              "      height: 32px;\n",
              "      padding: 0 0 0 0;\n",
              "      width: 32px;\n",
              "    }\n",
              "\n",
              "    .colab-df-convert:hover {\n",
              "      background-color: #E2EBFA;\n",
              "      box-shadow: 0px 1px 2px rgba(60, 64, 67, 0.3), 0px 1px 3px 1px rgba(60, 64, 67, 0.15);\n",
              "      fill: #174EA6;\n",
              "    }\n",
              "\n",
              "    .colab-df-buttons div {\n",
              "      margin-bottom: 4px;\n",
              "    }\n",
              "\n",
              "    [theme=dark] .colab-df-convert {\n",
              "      background-color: #3B4455;\n",
              "      fill: #D2E3FC;\n",
              "    }\n",
              "\n",
              "    [theme=dark] .colab-df-convert:hover {\n",
              "      background-color: #434B5C;\n",
              "      box-shadow: 0px 1px 3px 1px rgba(0, 0, 0, 0.15);\n",
              "      filter: drop-shadow(0px 1px 2px rgba(0, 0, 0, 0.3));\n",
              "      fill: #FFFFFF;\n",
              "    }\n",
              "  </style>\n",
              "\n",
              "    <script>\n",
              "      const buttonEl =\n",
              "        document.querySelector('#df-ef58030a-8c99-4d3a-8f82-8929bdcabf1f button.colab-df-convert');\n",
              "      buttonEl.style.display =\n",
              "        google.colab.kernel.accessAllowed ? 'block' : 'none';\n",
              "\n",
              "      async function convertToInteractive(key) {\n",
              "        const element = document.querySelector('#df-ef58030a-8c99-4d3a-8f82-8929bdcabf1f');\n",
              "        const dataTable =\n",
              "          await google.colab.kernel.invokeFunction('convertToInteractive',\n",
              "                                                    [key], {});\n",
              "        if (!dataTable) return;\n",
              "\n",
              "        const docLinkHtml = 'Like what you see? Visit the ' +\n",
              "          '<a target=\"_blank\" href=https://colab.research.google.com/notebooks/data_table.ipynb>data table notebook</a>'\n",
              "          + ' to learn more about interactive tables.';\n",
              "        element.innerHTML = '';\n",
              "        dataTable['output_type'] = 'display_data';\n",
              "        await google.colab.output.renderOutput(dataTable, element);\n",
              "        const docLink = document.createElement('div');\n",
              "        docLink.innerHTML = docLinkHtml;\n",
              "        element.appendChild(docLink);\n",
              "      }\n",
              "    </script>\n",
              "  </div>\n",
              "\n",
              "\n",
              "<div id=\"df-194884ff-1237-45f9-ba8c-ad54c8238712\">\n",
              "  <button class=\"colab-df-quickchart\" onclick=\"quickchart('df-194884ff-1237-45f9-ba8c-ad54c8238712')\"\n",
              "            title=\"Suggest charts\"\n",
              "            style=\"display:none;\">\n",
              "\n",
              "<svg xmlns=\"http://www.w3.org/2000/svg\" height=\"24px\"viewBox=\"0 0 24 24\"\n",
              "     width=\"24px\">\n",
              "    <g>\n",
              "        <path d=\"M19 3H5c-1.1 0-2 .9-2 2v14c0 1.1.9 2 2 2h14c1.1 0 2-.9 2-2V5c0-1.1-.9-2-2-2zM9 17H7v-7h2v7zm4 0h-2V7h2v10zm4 0h-2v-4h2v4z\"/>\n",
              "    </g>\n",
              "</svg>\n",
              "  </button>\n",
              "\n",
              "<style>\n",
              "  .colab-df-quickchart {\n",
              "      --bg-color: #E8F0FE;\n",
              "      --fill-color: #1967D2;\n",
              "      --hover-bg-color: #E2EBFA;\n",
              "      --hover-fill-color: #174EA6;\n",
              "      --disabled-fill-color: #AAA;\n",
              "      --disabled-bg-color: #DDD;\n",
              "  }\n",
              "\n",
              "  [theme=dark] .colab-df-quickchart {\n",
              "      --bg-color: #3B4455;\n",
              "      --fill-color: #D2E3FC;\n",
              "      --hover-bg-color: #434B5C;\n",
              "      --hover-fill-color: #FFFFFF;\n",
              "      --disabled-bg-color: #3B4455;\n",
              "      --disabled-fill-color: #666;\n",
              "  }\n",
              "\n",
              "  .colab-df-quickchart {\n",
              "    background-color: var(--bg-color);\n",
              "    border: none;\n",
              "    border-radius: 50%;\n",
              "    cursor: pointer;\n",
              "    display: none;\n",
              "    fill: var(--fill-color);\n",
              "    height: 32px;\n",
              "    padding: 0;\n",
              "    width: 32px;\n",
              "  }\n",
              "\n",
              "  .colab-df-quickchart:hover {\n",
              "    background-color: var(--hover-bg-color);\n",
              "    box-shadow: 0 1px 2px rgba(60, 64, 67, 0.3), 0 1px 3px 1px rgba(60, 64, 67, 0.15);\n",
              "    fill: var(--button-hover-fill-color);\n",
              "  }\n",
              "\n",
              "  .colab-df-quickchart-complete:disabled,\n",
              "  .colab-df-quickchart-complete:disabled:hover {\n",
              "    background-color: var(--disabled-bg-color);\n",
              "    fill: var(--disabled-fill-color);\n",
              "    box-shadow: none;\n",
              "  }\n",
              "\n",
              "  .colab-df-spinner {\n",
              "    border: 2px solid var(--fill-color);\n",
              "    border-color: transparent;\n",
              "    border-bottom-color: var(--fill-color);\n",
              "    animation:\n",
              "      spin 1s steps(1) infinite;\n",
              "  }\n",
              "\n",
              "  @keyframes spin {\n",
              "    0% {\n",
              "      border-color: transparent;\n",
              "      border-bottom-color: var(--fill-color);\n",
              "      border-left-color: var(--fill-color);\n",
              "    }\n",
              "    20% {\n",
              "      border-color: transparent;\n",
              "      border-left-color: var(--fill-color);\n",
              "      border-top-color: var(--fill-color);\n",
              "    }\n",
              "    30% {\n",
              "      border-color: transparent;\n",
              "      border-left-color: var(--fill-color);\n",
              "      border-top-color: var(--fill-color);\n",
              "      border-right-color: var(--fill-color);\n",
              "    }\n",
              "    40% {\n",
              "      border-color: transparent;\n",
              "      border-right-color: var(--fill-color);\n",
              "      border-top-color: var(--fill-color);\n",
              "    }\n",
              "    60% {\n",
              "      border-color: transparent;\n",
              "      border-right-color: var(--fill-color);\n",
              "    }\n",
              "    80% {\n",
              "      border-color: transparent;\n",
              "      border-right-color: var(--fill-color);\n",
              "      border-bottom-color: var(--fill-color);\n",
              "    }\n",
              "    90% {\n",
              "      border-color: transparent;\n",
              "      border-bottom-color: var(--fill-color);\n",
              "    }\n",
              "  }\n",
              "</style>\n",
              "\n",
              "  <script>\n",
              "    async function quickchart(key) {\n",
              "      const quickchartButtonEl =\n",
              "        document.querySelector('#' + key + ' button');\n",
              "      quickchartButtonEl.disabled = true;  // To prevent multiple clicks.\n",
              "      quickchartButtonEl.classList.add('colab-df-spinner');\n",
              "      try {\n",
              "        const charts = await google.colab.kernel.invokeFunction(\n",
              "            'suggestCharts', [key], {});\n",
              "      } catch (error) {\n",
              "        console.error('Error during call to suggestCharts:', error);\n",
              "      }\n",
              "      quickchartButtonEl.classList.remove('colab-df-spinner');\n",
              "      quickchartButtonEl.classList.add('colab-df-quickchart-complete');\n",
              "    }\n",
              "    (() => {\n",
              "      let quickchartButtonEl =\n",
              "        document.querySelector('#df-194884ff-1237-45f9-ba8c-ad54c8238712 button');\n",
              "      quickchartButtonEl.style.display =\n",
              "        google.colab.kernel.accessAllowed ? 'block' : 'none';\n",
              "    })();\n",
              "  </script>\n",
              "</div>\n",
              "\n",
              "    </div>\n",
              "  </div>\n"
            ],
            "application/vnd.google.colaboratory.intrinsic+json": {
              "type": "dataframe",
              "variable_name": "df",
              "summary": "{\n  \"name\": \"df\",\n  \"rows\": 100,\n  \"fields\": [\n    {\n      \"column\": \"review_id\",\n      \"properties\": {\n        \"dtype\": \"number\",\n        \"std\": 170638,\n        \"min\": 1534,\n        \"max\": 568077,\n        \"num_unique_values\": 100,\n        \"samples\": [\n          10148,\n          366708,\n          280021\n        ],\n        \"semantic_type\": \"\",\n        \"description\": \"\"\n      }\n    },\n    {\n      \"column\": \"product_id\",\n      \"properties\": {\n        \"dtype\": \"string\",\n        \"num_unique_values\": 100,\n        \"samples\": [\n          \"B003EML8PM\",\n          \"B000GAT6MM\",\n          \"B000ER5CTS\"\n        ],\n        \"semantic_type\": \"\",\n        \"description\": \"\"\n      }\n    },\n    {\n      \"column\": \"user_id\",\n      \"properties\": {\n        \"dtype\": \"string\",\n        \"num_unique_values\": 100,\n        \"samples\": [\n          \"A2XY8G529M2UWL\",\n          \"A399YZO3BLRA2R\",\n          \"AY88JCMFRXD7V\"\n        ],\n        \"semantic_type\": \"\",\n        \"description\": \"\"\n      }\n    },\n    {\n      \"column\": \"review_score\",\n      \"properties\": {\n        \"dtype\": \"number\",\n        \"std\": 1,\n        \"min\": 1,\n        \"max\": 5,\n        \"num_unique_values\": 5,\n        \"samples\": [\n          3,\n          1,\n          2\n        ],\n        \"semantic_type\": \"\",\n        \"description\": \"\"\n      }\n    },\n    {\n      \"column\": \"review_title\",\n      \"properties\": {\n        \"dtype\": \"string\",\n        \"num_unique_values\": 100,\n        \"samples\": [\n          \"Great taste!\",\n          \"so yummy in a smoothie\",\n          \"very brittle, breaks much too easily, choking hazard\"\n        ],\n        \"semantic_type\": \"\",\n        \"description\": \"\"\n      }\n    },\n    {\n      \"column\": \"review_text\",\n      \"properties\": {\n        \"dtype\": \"string\",\n        \"num_unique_values\": 100,\n        \"samples\": [\n          \"I bought these years ago at Walmart<br />and then they stopped carrying them.  I was searching the internet and found them at Amazon.  We ordered a box of each.  I like the spicy and my husband likes the orginal.  A learning process will be a sure thing until you figure out how many minutes for your microwave.  They are great and we love them.\",\n          \"These taste really great in smoothies! They add a creamy texture and a bit of a nutty flavor. What a great way to add protein to a veggie diet! Love them. They arrived fresh and packed nicely. If I ever run out of my 3 lb, I will order again from this seller.\",\n          \"I was definately expecting a better product from earth's best. However, these biscuits were not good at all. My son who only has 2 teeth broke these very easily. I will not be buying them again.\"\n        ],\n        \"semantic_type\": \"\",\n        \"description\": \"\"\n      }\n    },\n    {\n      \"column\": \"review_dt\",\n      \"properties\": {\n        \"dtype\": \"date\",\n        \"min\": \"2005-12-21 00:00:00\",\n        \"max\": \"2012-09-27 00:00:00\",\n        \"num_unique_values\": 97,\n        \"samples\": [\n          \"2011-09-20 00:00:00\",\n          \"2011-11-04 00:00:00\",\n          \"2011-12-18 00:00:00\"\n        ],\n        \"semantic_type\": \"\",\n        \"description\": \"\"\n      }\n    }\n  ]\n}"
            }
          },
          "metadata": {},
          "execution_count": 19
        }
      ]
    },
    {
      "cell_type": "markdown",
      "source": [
        "## 2. Create a `chain` object for tagging food reviews"
      ],
      "metadata": {
        "id": "xcMaOFR4bX_m"
      }
    },
    {
      "cell_type": "markdown",
      "source": [
        "### 2.1 Set up API Key and GPT Model"
      ],
      "metadata": {
        "id": "T5t4nf1VJzQX"
      }
    },
    {
      "cell_type": "code",
      "source": [
        "OPENAI_API_KEY = userdata.get(\"OPENAI_API_KEY\")\n",
        "GPT_MODEL = \"gpt-3.5-turbo\""
      ],
      "metadata": {
        "id": "j3TeCIewJyeG"
      },
      "execution_count": 20,
      "outputs": []
    },
    {
      "cell_type": "markdown",
      "source": [
        "### 2.2 Construct `prompt_template` and `llm` object"
      ],
      "metadata": {
        "id": "tLfBATyOMsrm"
      }
    },
    {
      "cell_type": "markdown",
      "source": [
        "#### 2.2.1 Complete the Code for a Review Tagging Prompt Template\n",
        "\n",
        "**Task:**\n",
        "Define a `template` for an LLM in a review tagging task.\n",
        "The output should follow the structure defined in the schema.\n",
        "The `template` will receive two arguments, `title` and `text`, from column `review_title` and `review_text`, which will be passed to the LLM for tagging.\n",
        "\n",
        "**Instructions:**\n",
        "- Replace `<Fill in your prompt here>` with the text that adheres to the schema requirements.\n",
        "- Ensure the placeholders `{title}` and `{text}` are correctly referenced in the prompt."
      ],
      "metadata": {
        "id": "JxISrAepUuQY"
      }
    },
    {
      "cell_type": "code",
      "source": [
        "template = \"\"\"\n",
        "\n",
        "You are a helpful assistant for tagging food reviews.\n",
        "Please tag the food review based on the title and review text provided.\n",
        "Your output should be a JSON object with the following structure:\n",
        "\n",
        "    **Title**: {title}\n",
        "    **Review**: {review}\n",
        "\"\"\"\n",
        "\n",
        "tagging_prompt = ChatPromptTemplate.from_template(template)"
      ],
      "metadata": {
        "id": "HMOEv6NwMPCQ"
      },
      "execution_count": 21,
      "outputs": []
    },
    {
      "cell_type": "markdown",
      "source": [
        "#### 2.2.2 Define an LLM Object with Specific Parameters\n",
        "\n",
        "**Task:**\n",
        "Use the `ChatOpenAI` class to initilize an `llm` object.\n",
        "This should be created by passing only the following three arguments:\n",
        "- `openai_api_key`: `OPENAI_API_KEY`\n",
        "- `model`: `GPT_MODEL`\n",
        "- `temperature`: Set to `0` for deterministic output\n",
        "\n",
        "**Instructions:**\n",
        "Replace the placeholder below with the correct initialization using the ChatOpenAI class."
      ],
      "metadata": {
        "id": "fFoHTsT1VOqu"
      }
    },
    {
      "cell_type": "code",
      "source": [
        "llm = ChatOpenAI(openai_api_key=OPENAI_API_KEY, model=GPT_MODEL, temperature=0)"
      ],
      "metadata": {
        "id": "gjjKmpA5KCmB"
      },
      "execution_count": 22,
      "outputs": []
    },
    {
      "cell_type": "markdown",
      "source": [
        "#### 2.2.3 Complete the `FoodTaggingSchema` Class Definition **[20 points]**\n",
        "\n",
        "**Task:**  \n",
        "Define a dictionary-based schema for tagging food reviews using the `FoodTaggingSchema` class. Your job is to complete the class by filling in the type hints and descriptions according to the criteria below:\n",
        "\n",
        "- `food_category`: A **string** representing the food category (e.g., Candy, Chips, Tea, Coffee). The category should **not be too specific** (e.g., brand names) and **not too general** (e.g., \"drinks\", \"meal\", \"food\").\n",
        "- `sentiment`: A **string** indicating the sentiment of the review (Positive, Negative, Neutral).\n",
        "- `topic_of_concern`: A **list of strings** identifying the key aspects discussed in the review (e.g., Taste, Freshness, Packaging). The list should contain a maximum of 3 items.\n",
        "\n",
        "*Note:* For the `food_category` field, there may be cases where the product being reviewed is **not food** or is **unidentifiable**. Ensure your prompt accounts for these scenarios:\n",
        "- Use **`NONE_FOOD`** when the product reviewed is not food.\n",
        "- Use **`UNIDENTIFY`** when the category cannot be determined.\n",
        "\n",
        "**Instructions:**\n",
        "\n",
        "- Complete the pydantic-class by defining the fields with correct type hints and descriptions.\n",
        "- Ensure the descriptions are detailed and meaningful for each field.\n"
      ],
      "metadata": {
        "id": "K-6otvD6Vjdl"
      }
    },
    {
      "cell_type": "code",
      "source": [
        "foodTaggingSchema = {\n",
        "    \"title\": \"FoodTaggingSchema\",\n",
        "    \"type\": \"object\",\n",
        "    \"description\": \"Schema for tagging food reviews based on food category, sentiment, and topics of concern.\",\n",
        "    \"properties\": {\n",
        "        \"food_category\": {\n",
        "            \"type\": \"string\", # fill in the blank\n",
        "            \"description\": \"\"\"\n",
        "              The broad category of food or drink being reviewed (e.g., Candy, Chips, Tea, Coffee, Seafood, Fruit).\n",
        "              If the item is not food, use 'NONE_FOOD'.\n",
        "              If you cannot determine the category, use 'UNIDENTIFY'.\n",
        "              Avoid overly specific categories (e.g., brand names) or overly general categories (e.g., 'drinks', 'meal', 'food').\n",
        "            \"\"\"\n",
        "        },\n",
        "        \"sentiment\": {\n",
        "            \"type\": \"string\",\n",
        "            \"description\": \"\"\"\n",
        "              The sentiment expressed in the review, categorized as either 'positive', 'negative', or 'neutral'.\n",
        "            \"\"\",\n",
        "            \"enum\": [\"positive\", \"negative\", \"neutral\"], # fill in 2 more choices for sentiment analysis\n",
        "            \"default\": \"neutral\"\n",
        "        },\n",
        "        \"topic_of_concern\": {\n",
        "            \"type\": \"array\",\n",
        "            \"description\": \"\"\"\n",
        "              A list of up to 3 key topics or aspects discussed in the review.\n",
        "              Examples include: Taste, Freshness, Packaging, Price, Texture, Value, Ingredients.\n",
        "            \"\"\",\n",
        "            \"items\": {\n",
        "                \"type\": \"string\" # fill in type of element in the array\n",
        "            },\n",
        "            \"maxItems\": 3 # fill in the blank\n",
        "        }\n",
        "    },\n",
        "    \"required\": [\"food_category\", \"sentiment\", \"topic_of_concern\"]\n",
        "}"
      ],
      "metadata": {
        "id": "RpZzWS54t67p"
      },
      "execution_count": 37,
      "outputs": []
    },
    {
      "cell_type": "markdown",
      "source": [
        "#### 2.2.4 Complete the code to define a structured output LLM\n",
        "\n"
      ],
      "metadata": {
        "id": "MymkF9uyXFPq"
      }
    },
    {
      "cell_type": "code",
      "source": [
        "llm_structured = llm.with_structured_output(foodTaggingSchema) # fill in the blank"
      ],
      "metadata": {
        "id": "3P866LaKXZ4Z"
      },
      "execution_count": 38,
      "outputs": []
    },
    {
      "cell_type": "markdown",
      "source": [
        "#### 2.2.5 Define `chain` object for Review Tagging"
      ],
      "metadata": {
        "id": "YTcuh4QNX-cY"
      }
    },
    {
      "cell_type": "markdown",
      "source": [],
      "metadata": {
        "id": "ScFOhdQvdlif"
      }
    },
    {
      "cell_type": "code",
      "source": [
        "chain = tagging_prompt | llm_structured"
      ],
      "metadata": {
        "id": "ENh-N5_5YJ-X"
      },
      "execution_count": 39,
      "outputs": []
    },
    {
      "cell_type": "markdown",
      "source": [
        "### 2.3 Implement a Function to Tag a Review\n",
        "\n",
        "**Task:**\n",
        "Define a function named `tag_review` that:\n",
        "- Accepts two parameters: `title` and `review`.\n",
        "- Prepares an input dictionary containing these two arguments.\n",
        "- Invokes a predefined chain using the `input` dictionary.\n",
        "- Extracts and returns the following information from the response:\n",
        "  - `food_category`: The category of food being reviewed.\n",
        "  - `sentiment`: The sentiment of the review (e.g., Positive, Negative, Neutral).\n",
        "  - `topic_of_concern`: A list of topics that the review is concerned with.\n",
        "\n",
        "**Instructions:**\n",
        "1. Replace `chain._(input)` with the correct function or method call that processes the input.\n",
        "2. Ensure the return statement accurately extracts the `food_category`, `sentiment`, and `topic_of_concern` fields from the response **respectively**.\n"
      ],
      "metadata": {
        "id": "GO-lR3VGcjqI"
      }
    },
    {
      "cell_type": "code",
      "source": [
        "def tag_review(title, review):\n",
        "    input = {\n",
        "        \"title\": title,\n",
        "        \"review\": review\n",
        "    }\n",
        "\n",
        "    # Feed the input using `invoke` method\n",
        "    res = chain.invoke(input) # fill in the blank\n",
        "\n",
        "    # Extract and return the required fields from the response\n",
        "    return res['food_category'], res['sentiment'], res['topic_of_concern'] # fill in the blank"
      ],
      "metadata": {
        "id": "VWpgGWYIcsil"
      },
      "execution_count": 40,
      "outputs": []
    },
    {
      "cell_type": "markdown",
      "source": [
        "## 3. Apply the `tag_review` Function to a DataFrame\n",
        "\n",
        "Apply the tag_review function to tag reviews in a DataFrame `df` by extracting and labeling the following fields:\n",
        "\n",
        "- food_category\n",
        "- sentiment\n",
        "- topic_of_concern\n",
        "\n",
        "This process may take some time and will use your OpenAI API credits.\n"
      ],
      "metadata": {
        "id": "S5mVHlY0iL5H"
      }
    },
    {
      "cell_type": "code",
      "source": [
        "df[['food_category', 'sentiment', 'topic_of_concern']] = (\n",
        "    df\n",
        "    .progress_apply(\n",
        "        lambda x: tag_review(x['review_title'], x['review_text']),\n",
        "        axis=1,\n",
        "        result_type='expand'\n",
        "    )\n",
        ")"
      ],
      "metadata": {
        "id": "B2PgpjF4fHYu",
        "colab": {
          "base_uri": "https://localhost:8080/"
        },
        "collapsed": true,
        "outputId": "147eb82d-540b-4c6a-afbf-51f480745477"
      },
      "execution_count": 56,
      "outputs": [
        {
          "output_type": "stream",
          "name": "stderr",
          "text": [
            "100%|██████████| 100/100 [01:10<00:00,  1.42it/s]\n"
          ]
        }
      ]
    },
    {
      "cell_type": "markdown",
      "source": [
        "## 4. Define Utility Functions\n",
        "\n",
        "In this section, we will create utility functions to support semantic search. A `client` object and `get_embedding` function is already provided, which takes input text and applies GPT’s embedding to generate vector representations. Your task is to implement two additional functions that will be essential for performing semantic search."
      ],
      "metadata": {
        "id": "F9JXreF7k5bA"
      }
    },
    {
      "cell_type": "code",
      "source": [
        "# Initiate API connections\n",
        "client = openai.OpenAI(api_key=OPENAI_API_KEY)\n",
        "\n",
        "# Define Embedding function\n",
        "def get_embedding(text):\n",
        "    response = client.embeddings.create(\n",
        "        input=text,\n",
        "        model='text-embedding-3-large'\n",
        "    )\n",
        "    return response.data[0].embedding"
      ],
      "metadata": {
        "id": "IsAeYRu1NwmF"
      },
      "execution_count": 62,
      "outputs": []
    },
    {
      "cell_type": "markdown",
      "source": [
        "### 4.1 Implement a Function to Calculate Cosine Similarity\n",
        "\n",
        "Task:\n",
        "Complete the `cosine_similarity` function to calculate the cosine similarity between two vectors `vec1` and `vec2`.\n",
        "The cosine similarity is defined as the dot product of the vectors divided by the product of their magnitudes.\n",
        "\n",
        "Formula:\n",
        "Cosine Similarity = (vec1 · vec2) / (||vec1|| * ||vec2||)\n",
        "\n",
        "Instructions:\n",
        "1. Replace the placeholders (`_`) with the correct NumPy function calls.\n",
        "2. Ensure that the dot product and norms are calculated correctly."
      ],
      "metadata": {
        "id": "_XoIFhtNNg_2"
      }
    },
    {
      "cell_type": "code",
      "source": [
        "def cosine_similarity(vec1, vec2):\n",
        "    dot_product = np.dot(vec1, vec2) / (np.linalg.norm(vec1) * np.linalg.norm(vec2)) # fill in the blank\n",
        "    return dot_product"
      ],
      "metadata": {
        "id": "lwB1bZeINaEJ"
      },
      "execution_count": 63,
      "outputs": []
    },
    {
      "cell_type": "markdown",
      "source": [
        "### 4.2 Implement a Function for Semantic Search\n",
        "\n",
        "Task:\n",
        "Complete the `semantic_search` function, which performs a semantic search based on cosine similarity.\n",
        "The function should:\n",
        "- Convert the query into an embedding.\n",
        "- Compute the similarity between the query embedding and the embeddings in the specified DataFrame column.\n",
        "- Sort the DataFrame based on the similarity scores.\n",
        "\n",
        "Instructions:\n",
        "1. Fill in the blanks (`_`) with the appropriate function calls to convert the query and column values into embeddings and calculate cosine similarity.\n",
        "2. Ensure the DataFrame is sorted correctly based on the similarity scores.\n",
        "\n",
        "Parameter Explanation:\n",
        "- `query`: A string representing the search query. This will be converted into an embedding.\n",
        "- `df`: A Pandas DataFrame containing the data to be searched.\n",
        "- `col`: The name of the column in `df` that contains the text or embeddings to be compared with the query."
      ],
      "metadata": {
        "id": "D5T3otDfPIvg"
      }
    },
    {
      "cell_type": "code",
      "source": [
        "def semantic_search(query, df, col):\n",
        "    query_emb = get_embedding(query) # fill in the blank\n",
        "    df['similarity'] = df[col].apply(lambda x: cosine_similarity(query_emb, x)) # fill in the blank\n",
        "    return df.sort_values('similarity', ascending=False)"
      ],
      "metadata": {
        "id": "a-cpyaZAN0-O"
      },
      "execution_count": 64,
      "outputs": []
    },
    {
      "cell_type": "markdown",
      "source": [
        "## 5. Apply your functions to answer the provided questions\n",
        "   \n",
        "Use the created functions and the tagged data to perform semantic searches and derive insights based on the questions given."
      ],
      "metadata": {
        "id": "zKxB6RoZk7a9"
      }
    },
    {
      "cell_type": "markdown",
      "source": [
        "### 5.1 How many positive/negative/nuetral reviews from this data? **[5 points]**\n",
        "\n",
        "*Hint:* `value_counts` method"
      ],
      "metadata": {
        "id": "8ZPahk7ClFYP"
      }
    },
    {
      "cell_type": "code",
      "source": [
        "# Count values of `sentiment` column\n",
        "df['sentiment'].value_counts() # fill in the blank"
      ],
      "metadata": {
        "id": "_gO9DWSRrZHP",
        "colab": {
          "base_uri": "https://localhost:8080/",
          "height": 207
        },
        "outputId": "a7f5cd43-8c18-420a-a093-f8b1f11573fd"
      },
      "execution_count": 65,
      "outputs": [
        {
          "output_type": "execute_result",
          "data": {
            "text/plain": [
              "sentiment\n",
              "positive    72\n",
              "negative    23\n",
              "neutral      5\n",
              "Name: count, dtype: int64"
            ],
            "text/html": [
              "<div>\n",
              "<style scoped>\n",
              "    .dataframe tbody tr th:only-of-type {\n",
              "        vertical-align: middle;\n",
              "    }\n",
              "\n",
              "    .dataframe tbody tr th {\n",
              "        vertical-align: top;\n",
              "    }\n",
              "\n",
              "    .dataframe thead th {\n",
              "        text-align: right;\n",
              "    }\n",
              "</style>\n",
              "<table border=\"1\" class=\"dataframe\">\n",
              "  <thead>\n",
              "    <tr style=\"text-align: right;\">\n",
              "      <th></th>\n",
              "      <th>count</th>\n",
              "    </tr>\n",
              "    <tr>\n",
              "      <th>sentiment</th>\n",
              "      <th></th>\n",
              "    </tr>\n",
              "  </thead>\n",
              "  <tbody>\n",
              "    <tr>\n",
              "      <th>positive</th>\n",
              "      <td>72</td>\n",
              "    </tr>\n",
              "    <tr>\n",
              "      <th>negative</th>\n",
              "      <td>23</td>\n",
              "    </tr>\n",
              "    <tr>\n",
              "      <th>neutral</th>\n",
              "      <td>5</td>\n",
              "    </tr>\n",
              "  </tbody>\n",
              "</table>\n",
              "</div><br><label><b>dtype:</b> int64</label>"
            ]
          },
          "metadata": {},
          "execution_count": 65
        }
      ]
    },
    {
      "cell_type": "code",
      "source": [
        "# @title Answer to 5.1 (please run the cell after filling-in the answer) {\"run\":\"auto\",\"vertical-output\":true,\"display-mode\":\"form\"}\n",
        "positive_reviews = 72 # @param {\"type\":\"integer\"}\n",
        "negative_reviews = 23 # @param {\"type\":\"integer\"}\n",
        "neutral_reviews = 5 # @param {\"type\":\"integer\"}"
      ],
      "metadata": {
        "id": "JccTzXM5plfL"
      },
      "execution_count": 66,
      "outputs": []
    },
    {
      "cell_type": "markdown",
      "source": [
        "### 5.2 List me 3 `review_id` mentioned about 'Healthy Product' or any related terms. **[5 points]**"
      ],
      "metadata": {
        "id": "WKrrJZ6glLC7"
      }
    },
    {
      "cell_type": "markdown",
      "source": [
        "#### 5.2.1 Concatenate `topic_of_concern` column into single string\n",
        "\n",
        "- Use `, ` as delimiter\n",
        "- Save the concatenated string into new column, `toc_concat`\n",
        "\n",
        "*Hint:* Use `join` method"
      ],
      "metadata": {
        "id": "5emLdiYtiaNB"
      }
    },
    {
      "cell_type": "code",
      "source": [
        "df['toc_concat'] = df['topic_of_concern'].progress_apply(lambda x: ', '.join(x)) # fill in the blank"
      ],
      "metadata": {
        "id": "s5XIRCjiiZSf",
        "colab": {
          "base_uri": "https://localhost:8080/"
        },
        "outputId": "84db5917-5b0c-4fff-f408-dbf6110c6d44"
      },
      "execution_count": 68,
      "outputs": [
        {
          "output_type": "stream",
          "name": "stderr",
          "text": [
            "100%|██████████| 100/100 [00:00<00:00, 138838.27it/s]\n"
          ]
        }
      ]
    },
    {
      "cell_type": "markdown",
      "source": [
        "#### 5.2.2 Apply Embedding to the concatenated column\n",
        "\n",
        "- Apply embedding to column `toc_concat`\n",
        "- Save the embedded value into new column, `toc_emb`"
      ],
      "metadata": {
        "id": "QpL7PbwUjBE-"
      }
    },
    {
      "cell_type": "code",
      "source": [
        "df['toc_emb'] = df['toc_concat'].progress_apply(lambda x: get_embedding(x)) # fill in the blank"
      ],
      "metadata": {
        "id": "m9Q4ri80pAB8",
        "colab": {
          "base_uri": "https://localhost:8080/"
        },
        "outputId": "e7c87611-eb35-4f20-f0b4-37ba37309fc8"
      },
      "execution_count": 69,
      "outputs": [
        {
          "output_type": "stream",
          "name": "stderr",
          "text": [
            "100%|██████████| 100/100 [00:24<00:00,  4.14it/s]\n"
          ]
        }
      ]
    },
    {
      "cell_type": "markdown",
      "source": [
        "#### 5.2.3 Apply Similarity of the embedded column with the key word `Healthy Product`\n",
        "\n",
        "- Define `Healthy Product` as `query` for searching\n",
        "- Use semantic search function to get similarity score between `query` and `toc_emb`"
      ],
      "metadata": {
        "id": "jAt65AnHkBgC"
      }
    },
    {
      "cell_type": "code",
      "source": [
        "query = 'Healthy Product'\n",
        "df_result_hp = semantic_search(query=query, df=df, col='toc_emb')"
      ],
      "metadata": {
        "id": "yZrwIba6kvR0"
      },
      "execution_count": 70,
      "outputs": []
    },
    {
      "cell_type": "markdown",
      "source": [
        "#### 5.2.4 Analyze the search result from similarity score\n",
        "\n",
        "- Look into rows with best score, check their original `topic_of_concern` column if it's related to **Healthy Product**\n",
        "- If so, paste their `review_id` into the following form to answer the question"
      ],
      "metadata": {
        "id": "L-3PjBi9HV56"
      }
    },
    {
      "cell_type": "code",
      "source": [
        "df_result_hp.sort_values('similarity', ascending=False).head(3)"
      ],
      "metadata": {
        "id": "nIQf8HSjkztr",
        "colab": {
          "base_uri": "https://localhost:8080/",
          "height": 315
        },
        "outputId": "93583324-94ee-4cd2-828e-0d02d25f20f6"
      },
      "execution_count": 71,
      "outputs": [
        {
          "output_type": "execute_result",
          "data": {
            "text/plain": [
              "    review_id  product_id         user_id  review_score  \\\n",
              "75     567964  B0030VJ8YU  A12WA0NDY18R6W             5   \n",
              "95     567224  B000LL0R92  A30RH40O7RT9VS             3   \n",
              "43     422062  B002OVICJO  A136BYILR08J32             5   \n",
              "\n",
              "                                         review_title  \\\n",
              "75                            Yummy organic baby food   \n",
              "95  I didn't like these, but maybe they are good f...   \n",
              "43                       Liv-a-littles chicken treats   \n",
              "\n",
              "                                          review_text  review_dt  \\\n",
              "75  This baby food is both convenient and healthy.... 2011-04-28   \n",
              "95  These drink are good enought that if you are b... 2007-10-29   \n",
              "43  If you're looking for a yummy treat for your c... 2008-05-26   \n",
              "\n",
              "   food_category sentiment                   topic_of_concern  \\\n",
              "75     Baby Food  positive         [Convenience, Healthiness]   \n",
              "95         Drink  negative                   [Flavor, Health]   \n",
              "43      Pet Food  positive  [Taste, Ingredients, Healthiness]   \n",
              "\n",
              "                         toc_concat  \\\n",
              "75         Convenience, Healthiness   \n",
              "95                   Flavor, Health   \n",
              "43  Taste, Ingredients, Healthiness   \n",
              "\n",
              "                                              toc_emb  similarity  \n",
              "75  [-0.004231154918670654, 0.020362433046102524, ...    0.550808  \n",
              "95  [0.013091282919049263, 0.005196539685130119, -...    0.512285  \n",
              "43  [0.022436153143644333, -0.01871277391910553, -...    0.483890  "
            ],
            "text/html": [
              "\n",
              "  <div id=\"df-826f078b-179a-4396-bf4c-a67bbc461d9d\" class=\"colab-df-container\">\n",
              "    <div>\n",
              "<style scoped>\n",
              "    .dataframe tbody tr th:only-of-type {\n",
              "        vertical-align: middle;\n",
              "    }\n",
              "\n",
              "    .dataframe tbody tr th {\n",
              "        vertical-align: top;\n",
              "    }\n",
              "\n",
              "    .dataframe thead th {\n",
              "        text-align: right;\n",
              "    }\n",
              "</style>\n",
              "<table border=\"1\" class=\"dataframe\">\n",
              "  <thead>\n",
              "    <tr style=\"text-align: right;\">\n",
              "      <th></th>\n",
              "      <th>review_id</th>\n",
              "      <th>product_id</th>\n",
              "      <th>user_id</th>\n",
              "      <th>review_score</th>\n",
              "      <th>review_title</th>\n",
              "      <th>review_text</th>\n",
              "      <th>review_dt</th>\n",
              "      <th>food_category</th>\n",
              "      <th>sentiment</th>\n",
              "      <th>topic_of_concern</th>\n",
              "      <th>toc_concat</th>\n",
              "      <th>toc_emb</th>\n",
              "      <th>similarity</th>\n",
              "    </tr>\n",
              "  </thead>\n",
              "  <tbody>\n",
              "    <tr>\n",
              "      <th>75</th>\n",
              "      <td>567964</td>\n",
              "      <td>B0030VJ8YU</td>\n",
              "      <td>A12WA0NDY18R6W</td>\n",
              "      <td>5</td>\n",
              "      <td>Yummy organic baby food</td>\n",
              "      <td>This baby food is both convenient and healthy....</td>\n",
              "      <td>2011-04-28</td>\n",
              "      <td>Baby Food</td>\n",
              "      <td>positive</td>\n",
              "      <td>[Convenience, Healthiness]</td>\n",
              "      <td>Convenience, Healthiness</td>\n",
              "      <td>[-0.004231154918670654, 0.020362433046102524, ...</td>\n",
              "      <td>0.550808</td>\n",
              "    </tr>\n",
              "    <tr>\n",
              "      <th>95</th>\n",
              "      <td>567224</td>\n",
              "      <td>B000LL0R92</td>\n",
              "      <td>A30RH40O7RT9VS</td>\n",
              "      <td>3</td>\n",
              "      <td>I didn't like these, but maybe they are good f...</td>\n",
              "      <td>These drink are good enought that if you are b...</td>\n",
              "      <td>2007-10-29</td>\n",
              "      <td>Drink</td>\n",
              "      <td>negative</td>\n",
              "      <td>[Flavor, Health]</td>\n",
              "      <td>Flavor, Health</td>\n",
              "      <td>[0.013091282919049263, 0.005196539685130119, -...</td>\n",
              "      <td>0.512285</td>\n",
              "    </tr>\n",
              "    <tr>\n",
              "      <th>43</th>\n",
              "      <td>422062</td>\n",
              "      <td>B002OVICJO</td>\n",
              "      <td>A136BYILR08J32</td>\n",
              "      <td>5</td>\n",
              "      <td>Liv-a-littles chicken treats</td>\n",
              "      <td>If you're looking for a yummy treat for your c...</td>\n",
              "      <td>2008-05-26</td>\n",
              "      <td>Pet Food</td>\n",
              "      <td>positive</td>\n",
              "      <td>[Taste, Ingredients, Healthiness]</td>\n",
              "      <td>Taste, Ingredients, Healthiness</td>\n",
              "      <td>[0.022436153143644333, -0.01871277391910553, -...</td>\n",
              "      <td>0.483890</td>\n",
              "    </tr>\n",
              "  </tbody>\n",
              "</table>\n",
              "</div>\n",
              "    <div class=\"colab-df-buttons\">\n",
              "\n",
              "  <div class=\"colab-df-container\">\n",
              "    <button class=\"colab-df-convert\" onclick=\"convertToInteractive('df-826f078b-179a-4396-bf4c-a67bbc461d9d')\"\n",
              "            title=\"Convert this dataframe to an interactive table.\"\n",
              "            style=\"display:none;\">\n",
              "\n",
              "  <svg xmlns=\"http://www.w3.org/2000/svg\" height=\"24px\" viewBox=\"0 -960 960 960\">\n",
              "    <path d=\"M120-120v-720h720v720H120Zm60-500h600v-160H180v160Zm220 220h160v-160H400v160Zm0 220h160v-160H400v160ZM180-400h160v-160H180v160Zm440 0h160v-160H620v160ZM180-180h160v-160H180v160Zm440 0h160v-160H620v160Z\"/>\n",
              "  </svg>\n",
              "    </button>\n",
              "\n",
              "  <style>\n",
              "    .colab-df-container {\n",
              "      display:flex;\n",
              "      gap: 12px;\n",
              "    }\n",
              "\n",
              "    .colab-df-convert {\n",
              "      background-color: #E8F0FE;\n",
              "      border: none;\n",
              "      border-radius: 50%;\n",
              "      cursor: pointer;\n",
              "      display: none;\n",
              "      fill: #1967D2;\n",
              "      height: 32px;\n",
              "      padding: 0 0 0 0;\n",
              "      width: 32px;\n",
              "    }\n",
              "\n",
              "    .colab-df-convert:hover {\n",
              "      background-color: #E2EBFA;\n",
              "      box-shadow: 0px 1px 2px rgba(60, 64, 67, 0.3), 0px 1px 3px 1px rgba(60, 64, 67, 0.15);\n",
              "      fill: #174EA6;\n",
              "    }\n",
              "\n",
              "    .colab-df-buttons div {\n",
              "      margin-bottom: 4px;\n",
              "    }\n",
              "\n",
              "    [theme=dark] .colab-df-convert {\n",
              "      background-color: #3B4455;\n",
              "      fill: #D2E3FC;\n",
              "    }\n",
              "\n",
              "    [theme=dark] .colab-df-convert:hover {\n",
              "      background-color: #434B5C;\n",
              "      box-shadow: 0px 1px 3px 1px rgba(0, 0, 0, 0.15);\n",
              "      filter: drop-shadow(0px 1px 2px rgba(0, 0, 0, 0.3));\n",
              "      fill: #FFFFFF;\n",
              "    }\n",
              "  </style>\n",
              "\n",
              "    <script>\n",
              "      const buttonEl =\n",
              "        document.querySelector('#df-826f078b-179a-4396-bf4c-a67bbc461d9d button.colab-df-convert');\n",
              "      buttonEl.style.display =\n",
              "        google.colab.kernel.accessAllowed ? 'block' : 'none';\n",
              "\n",
              "      async function convertToInteractive(key) {\n",
              "        const element = document.querySelector('#df-826f078b-179a-4396-bf4c-a67bbc461d9d');\n",
              "        const dataTable =\n",
              "          await google.colab.kernel.invokeFunction('convertToInteractive',\n",
              "                                                    [key], {});\n",
              "        if (!dataTable) return;\n",
              "\n",
              "        const docLinkHtml = 'Like what you see? Visit the ' +\n",
              "          '<a target=\"_blank\" href=https://colab.research.google.com/notebooks/data_table.ipynb>data table notebook</a>'\n",
              "          + ' to learn more about interactive tables.';\n",
              "        element.innerHTML = '';\n",
              "        dataTable['output_type'] = 'display_data';\n",
              "        await google.colab.output.renderOutput(dataTable, element);\n",
              "        const docLink = document.createElement('div');\n",
              "        docLink.innerHTML = docLinkHtml;\n",
              "        element.appendChild(docLink);\n",
              "      }\n",
              "    </script>\n",
              "  </div>\n",
              "\n",
              "\n",
              "<div id=\"df-5f49a813-b0ce-42fe-a473-bf737251ab87\">\n",
              "  <button class=\"colab-df-quickchart\" onclick=\"quickchart('df-5f49a813-b0ce-42fe-a473-bf737251ab87')\"\n",
              "            title=\"Suggest charts\"\n",
              "            style=\"display:none;\">\n",
              "\n",
              "<svg xmlns=\"http://www.w3.org/2000/svg\" height=\"24px\"viewBox=\"0 0 24 24\"\n",
              "     width=\"24px\">\n",
              "    <g>\n",
              "        <path d=\"M19 3H5c-1.1 0-2 .9-2 2v14c0 1.1.9 2 2 2h14c1.1 0 2-.9 2-2V5c0-1.1-.9-2-2-2zM9 17H7v-7h2v7zm4 0h-2V7h2v10zm4 0h-2v-4h2v4z\"/>\n",
              "    </g>\n",
              "</svg>\n",
              "  </button>\n",
              "\n",
              "<style>\n",
              "  .colab-df-quickchart {\n",
              "      --bg-color: #E8F0FE;\n",
              "      --fill-color: #1967D2;\n",
              "      --hover-bg-color: #E2EBFA;\n",
              "      --hover-fill-color: #174EA6;\n",
              "      --disabled-fill-color: #AAA;\n",
              "      --disabled-bg-color: #DDD;\n",
              "  }\n",
              "\n",
              "  [theme=dark] .colab-df-quickchart {\n",
              "      --bg-color: #3B4455;\n",
              "      --fill-color: #D2E3FC;\n",
              "      --hover-bg-color: #434B5C;\n",
              "      --hover-fill-color: #FFFFFF;\n",
              "      --disabled-bg-color: #3B4455;\n",
              "      --disabled-fill-color: #666;\n",
              "  }\n",
              "\n",
              "  .colab-df-quickchart {\n",
              "    background-color: var(--bg-color);\n",
              "    border: none;\n",
              "    border-radius: 50%;\n",
              "    cursor: pointer;\n",
              "    display: none;\n",
              "    fill: var(--fill-color);\n",
              "    height: 32px;\n",
              "    padding: 0;\n",
              "    width: 32px;\n",
              "  }\n",
              "\n",
              "  .colab-df-quickchart:hover {\n",
              "    background-color: var(--hover-bg-color);\n",
              "    box-shadow: 0 1px 2px rgba(60, 64, 67, 0.3), 0 1px 3px 1px rgba(60, 64, 67, 0.15);\n",
              "    fill: var(--button-hover-fill-color);\n",
              "  }\n",
              "\n",
              "  .colab-df-quickchart-complete:disabled,\n",
              "  .colab-df-quickchart-complete:disabled:hover {\n",
              "    background-color: var(--disabled-bg-color);\n",
              "    fill: var(--disabled-fill-color);\n",
              "    box-shadow: none;\n",
              "  }\n",
              "\n",
              "  .colab-df-spinner {\n",
              "    border: 2px solid var(--fill-color);\n",
              "    border-color: transparent;\n",
              "    border-bottom-color: var(--fill-color);\n",
              "    animation:\n",
              "      spin 1s steps(1) infinite;\n",
              "  }\n",
              "\n",
              "  @keyframes spin {\n",
              "    0% {\n",
              "      border-color: transparent;\n",
              "      border-bottom-color: var(--fill-color);\n",
              "      border-left-color: var(--fill-color);\n",
              "    }\n",
              "    20% {\n",
              "      border-color: transparent;\n",
              "      border-left-color: var(--fill-color);\n",
              "      border-top-color: var(--fill-color);\n",
              "    }\n",
              "    30% {\n",
              "      border-color: transparent;\n",
              "      border-left-color: var(--fill-color);\n",
              "      border-top-color: var(--fill-color);\n",
              "      border-right-color: var(--fill-color);\n",
              "    }\n",
              "    40% {\n",
              "      border-color: transparent;\n",
              "      border-right-color: var(--fill-color);\n",
              "      border-top-color: var(--fill-color);\n",
              "    }\n",
              "    60% {\n",
              "      border-color: transparent;\n",
              "      border-right-color: var(--fill-color);\n",
              "    }\n",
              "    80% {\n",
              "      border-color: transparent;\n",
              "      border-right-color: var(--fill-color);\n",
              "      border-bottom-color: var(--fill-color);\n",
              "    }\n",
              "    90% {\n",
              "      border-color: transparent;\n",
              "      border-bottom-color: var(--fill-color);\n",
              "    }\n",
              "  }\n",
              "</style>\n",
              "\n",
              "  <script>\n",
              "    async function quickchart(key) {\n",
              "      const quickchartButtonEl =\n",
              "        document.querySelector('#' + key + ' button');\n",
              "      quickchartButtonEl.disabled = true;  // To prevent multiple clicks.\n",
              "      quickchartButtonEl.classList.add('colab-df-spinner');\n",
              "      try {\n",
              "        const charts = await google.colab.kernel.invokeFunction(\n",
              "            'suggestCharts', [key], {});\n",
              "      } catch (error) {\n",
              "        console.error('Error during call to suggestCharts:', error);\n",
              "      }\n",
              "      quickchartButtonEl.classList.remove('colab-df-spinner');\n",
              "      quickchartButtonEl.classList.add('colab-df-quickchart-complete');\n",
              "    }\n",
              "    (() => {\n",
              "      let quickchartButtonEl =\n",
              "        document.querySelector('#df-5f49a813-b0ce-42fe-a473-bf737251ab87 button');\n",
              "      quickchartButtonEl.style.display =\n",
              "        google.colab.kernel.accessAllowed ? 'block' : 'none';\n",
              "    })();\n",
              "  </script>\n",
              "</div>\n",
              "\n",
              "    </div>\n",
              "  </div>\n"
            ],
            "application/vnd.google.colaboratory.intrinsic+json": {
              "type": "dataframe",
              "summary": "{\n  \"name\": \"df_result_hp\",\n  \"rows\": 3,\n  \"fields\": [\n    {\n      \"column\": \"review_id\",\n      \"properties\": {\n        \"dtype\": \"number\",\n        \"std\": 84023,\n        \"min\": 422062,\n        \"max\": 567964,\n        \"num_unique_values\": 3,\n        \"samples\": [\n          567964,\n          567224,\n          422062\n        ],\n        \"semantic_type\": \"\",\n        \"description\": \"\"\n      }\n    },\n    {\n      \"column\": \"product_id\",\n      \"properties\": {\n        \"dtype\": \"string\",\n        \"num_unique_values\": 3,\n        \"samples\": [\n          \"B0030VJ8YU\",\n          \"B000LL0R92\",\n          \"B002OVICJO\"\n        ],\n        \"semantic_type\": \"\",\n        \"description\": \"\"\n      }\n    },\n    {\n      \"column\": \"user_id\",\n      \"properties\": {\n        \"dtype\": \"string\",\n        \"num_unique_values\": 3,\n        \"samples\": [\n          \"A12WA0NDY18R6W\",\n          \"A30RH40O7RT9VS\",\n          \"A136BYILR08J32\"\n        ],\n        \"semantic_type\": \"\",\n        \"description\": \"\"\n      }\n    },\n    {\n      \"column\": \"review_score\",\n      \"properties\": {\n        \"dtype\": \"number\",\n        \"std\": 1,\n        \"min\": 3,\n        \"max\": 5,\n        \"num_unique_values\": 2,\n        \"samples\": [\n          3,\n          5\n        ],\n        \"semantic_type\": \"\",\n        \"description\": \"\"\n      }\n    },\n    {\n      \"column\": \"review_title\",\n      \"properties\": {\n        \"dtype\": \"string\",\n        \"num_unique_values\": 3,\n        \"samples\": [\n          \"Yummy organic baby food\",\n          \"I didn't like these, but maybe they are good for you...\"\n        ],\n        \"semantic_type\": \"\",\n        \"description\": \"\"\n      }\n    },\n    {\n      \"column\": \"review_text\",\n      \"properties\": {\n        \"dtype\": \"string\",\n        \"num_unique_values\": 3,\n        \"samples\": [\n          \"This baby food is both convenient and healthy. it's great to not worry about what my son is eating and be able to grab this when I'm in a pinch!\",\n          \"These drink are good enought that if you are buying them for health you will like them, but don't think they will be a nice treat to have, there is very little flavor in them.\"\n        ],\n        \"semantic_type\": \"\",\n        \"description\": \"\"\n      }\n    },\n    {\n      \"column\": \"review_dt\",\n      \"properties\": {\n        \"dtype\": \"date\",\n        \"min\": \"2007-10-29 00:00:00\",\n        \"max\": \"2011-04-28 00:00:00\",\n        \"num_unique_values\": 3,\n        \"samples\": [\n          \"2011-04-28 00:00:00\",\n          \"2007-10-29 00:00:00\"\n        ],\n        \"semantic_type\": \"\",\n        \"description\": \"\"\n      }\n    },\n    {\n      \"column\": \"food_category\",\n      \"properties\": {\n        \"dtype\": \"string\",\n        \"num_unique_values\": 3,\n        \"samples\": [\n          \"Baby Food\",\n          \"Drink\"\n        ],\n        \"semantic_type\": \"\",\n        \"description\": \"\"\n      }\n    },\n    {\n      \"column\": \"sentiment\",\n      \"properties\": {\n        \"dtype\": \"string\",\n        \"num_unique_values\": 2,\n        \"samples\": [\n          \"negative\",\n          \"positive\"\n        ],\n        \"semantic_type\": \"\",\n        \"description\": \"\"\n      }\n    },\n    {\n      \"column\": \"topic_of_concern\",\n      \"properties\": {\n        \"dtype\": \"object\",\n        \"semantic_type\": \"\",\n        \"description\": \"\"\n      }\n    },\n    {\n      \"column\": \"toc_concat\",\n      \"properties\": {\n        \"dtype\": \"string\",\n        \"num_unique_values\": 3,\n        \"samples\": [\n          \"Convenience, Healthiness\",\n          \"Flavor, Health\"\n        ],\n        \"semantic_type\": \"\",\n        \"description\": \"\"\n      }\n    },\n    {\n      \"column\": \"toc_emb\",\n      \"properties\": {\n        \"dtype\": \"object\",\n        \"semantic_type\": \"\",\n        \"description\": \"\"\n      }\n    },\n    {\n      \"column\": \"similarity\",\n      \"properties\": {\n        \"dtype\": \"number\",\n        \"std\": 0.0335862893746243,\n        \"min\": 0.48389022288078776,\n        \"max\": 0.550807848867463,\n        \"num_unique_values\": 3,\n        \"samples\": [\n          0.550807848867463,\n          0.5122854402051779\n        ],\n        \"semantic_type\": \"\",\n        \"description\": \"\"\n      }\n    }\n  ]\n}"
            }
          },
          "metadata": {},
          "execution_count": 71
        }
      ]
    },
    {
      "cell_type": "code",
      "source": [
        "# @title Answer to 5.2 (please run the cell after filling-in the answer){\"run\":\"auto\",\"vertical-output\":true,\"display-mode\":\"form\"}\n",
        "first_id = \"75\" # @param {\"type\":\"string\"}\n",
        "second_id = \"95\" # @param {\"type\":\"string\"}\n",
        "third_id = \"43\" # @param {\"type\":\"string\"}"
      ],
      "metadata": {
        "id": "eXNZ0jWywR-B"
      },
      "execution_count": 72,
      "outputs": []
    },
    {
      "cell_type": "markdown",
      "source": [
        "### 5.3 What is the most common drink that is in the top 10 similarity score with the word `Beverages`? **[5 points]**"
      ],
      "metadata": {
        "id": "TJP5P_JzlQm-"
      }
    },
    {
      "cell_type": "markdown",
      "source": [
        "#### 5.3.1 Apply Embedding to the `food_category`\n",
        "\n",
        "- Save the embedded value into new column, `food_cat_emb`"
      ],
      "metadata": {
        "id": "PXtJl2A1Q0xC"
      }
    },
    {
      "cell_type": "code",
      "source": [
        "df['food_cat_emb'] = df['food_category'].apply(lambda x: get_embedding(x)) # fill in the blank"
      ],
      "metadata": {
        "id": "9fmUR2wSPm1m",
        "collapsed": true
      },
      "execution_count": 73,
      "outputs": []
    },
    {
      "cell_type": "markdown",
      "source": [
        "#### 5.3.2 Apply Similarity of the embedded column with the key word `Beverages`\n",
        "\n",
        "- Define `Beverages` as `query` for searching\n",
        "- Use semantic search function to get similarity score between `query` and column `food_cat_emb`"
      ],
      "metadata": {
        "id": "wf6IEFX5RRvL"
      }
    },
    {
      "cell_type": "code",
      "source": [
        "query = 'Beverages' # fill in the blank\n",
        "df_result_bev = semantic_search(query=query, df=df, col='food_cat_emb') # fill in the blank"
      ],
      "metadata": {
        "id": "2ANTAoa0pqHD"
      },
      "execution_count": 74,
      "outputs": []
    },
    {
      "cell_type": "markdown",
      "source": [
        "#### 5.3.3 Analyze the top 10 search result from similarity score\n",
        "\n",
        "- Look at the top 10 rows with best `cosine_similarity` score, check their for their food category"
      ],
      "metadata": {
        "id": "iA9Da3XHRcZX"
      }
    },
    {
      "cell_type": "code",
      "source": [
        "df_result_bev.sort_values('similarity', ascending=False).head(10) # fill in the blank"
      ],
      "metadata": {
        "id": "8rSZYUIpPjQb",
        "colab": {
          "base_uri": "https://localhost:8080/",
          "height": 35
        },
        "outputId": "942db32e-e4d0-4cda-f7ec-5f90c7c91a9a"
      },
      "execution_count": 84,
      "outputs": [
        {
          "output_type": "execute_result",
          "data": {
            "text/plain": [
              "'Coffee'"
            ],
            "application/vnd.google.colaboratory.intrinsic+json": {
              "type": "string"
            }
          },
          "metadata": {},
          "execution_count": 84
        }
      ]
    },
    {
      "cell_type": "code",
      "source": [
        "# @title Answer to 5.3 (please run the cell after filling-in the answer){\"run\":\"auto\",\"vertical-output\":true}\n",
        "most_common_beverage = \"Coffee\" # @param {\"type\":\"string\"}"
      ],
      "metadata": {
        "cellView": "form",
        "id": "COLQxGrQlQNK"
      },
      "execution_count": 85,
      "outputs": []
    },
    {
      "cell_type": "markdown",
      "source": [
        "## Answer for grading\n",
        "\n",
        "Run all the following cells to print the answer out. This will contribute to a total of **35 points**. **Make sure to submit the notebook with all the answers printed out.**\n",
        "\n",
        "If `NameError` raises, try running the `Answer Form` of the question."
      ],
      "metadata": {
        "id": "1S3RcGo105Fy"
      }
    },
    {
      "cell_type": "markdown",
      "source": [
        "### 2.2.3 Tagging Schema Answer [20 points]"
      ],
      "metadata": {
        "id": "wBYt1eyHvIV1"
      }
    },
    {
      "cell_type": "code",
      "source": [
        "print(\"<TODO_SCHEMA_FILL_OUTPUT_BEGIN>\")\n",
        "print(foodTaggingSchema['properties']['food_category']['type'])\n",
        "print(\"<ANS_SPLIT>\")\n",
        "print('|'.join(foodTaggingSchema['properties']['sentiment']['enum']))\n",
        "print(\"<ANS_SPLIT>\")\n",
        "print(foodTaggingSchema['properties']['topic_of_concern']['items']['type'])\n",
        "print(\"<ANS_SPLIT>\")\n",
        "print(foodTaggingSchema['properties']['topic_of_concern']['maxItems'])\n",
        "print(\"<TODO_SCHEMA_FILL_OUTPUT_END>\")\n",
        "print(\"<TODO_SCHEMA_OUTPUT_BEGIN>\")\n",
        "print(foodTaggingSchema)\n",
        "print(\"<TODO_SCHEMA_OUTPUT_END>\")"
      ],
      "metadata": {
        "id": "FOAm7rPjvB6U",
        "colab": {
          "base_uri": "https://localhost:8080/"
        },
        "outputId": "a29d24d3-1afd-4b4d-e2e0-9bc8cc38e354"
      },
      "execution_count": 86,
      "outputs": [
        {
          "output_type": "stream",
          "name": "stdout",
          "text": [
            "<TODO_SCHEMA_FILL_OUTPUT_BEGIN>\n",
            "string\n",
            "<ANS_SPLIT>\n",
            "positive|negative|neutral\n",
            "<ANS_SPLIT>\n",
            "string\n",
            "<ANS_SPLIT>\n",
            "3\n",
            "<TODO_SCHEMA_FILL_OUTPUT_END>\n",
            "<TODO_SCHEMA_OUTPUT_BEGIN>\n",
            "{'title': 'FoodTaggingSchema', 'type': 'object', 'description': 'Schema for tagging food reviews based on food category, sentiment, and topics of concern.', 'properties': {'food_category': {'type': 'string', 'description': \"\\n              The broad category of food or drink being reviewed (e.g., Candy, Chips, Tea, Coffee, Seafood, Fruit).\\n              If the item is not food, use 'NONE_FOOD'.\\n              If you cannot determine the category, use 'UNIDENTIFY'.\\n              Avoid overly specific categories (e.g., brand names) or overly general categories (e.g., 'drinks', 'meal', 'food'). \\n            \"}, 'sentiment': {'type': 'string', 'description': \"\\n              The sentiment expressed in the review, categorized as either 'positive', 'negative', or 'neutral'.\\n            \", 'enum': ['positive', 'negative', 'neutral'], 'default': 'neutral'}, 'topic_of_concern': {'type': 'array', 'description': '\\n              A list of up to 3 key topics or aspects discussed in the review.\\n              Examples include: Taste, Freshness, Packaging, Price, Texture, Value, Ingredients.\\n            ', 'items': {'type': 'string'}, 'maxItems': 3}}, 'required': ['food_category', 'sentiment', 'topic_of_concern']}\n",
            "<TODO_SCHEMA_OUTPUT_END>\n"
          ]
        }
      ]
    },
    {
      "cell_type": "markdown",
      "source": [
        "### 5.1 Answer [5 points]"
      ],
      "metadata": {
        "id": "xh8ELOFt05F0"
      }
    },
    {
      "cell_type": "code",
      "source": [
        "print(\"<TODO_5_1_OUTPUT_BEGIN>\")\n",
        "print(positive_reviews)\n",
        "print(\"<ANS_SPLIT>\")\n",
        "print(negative_reviews)\n",
        "print(\"<ANS_SPLIT>\")\n",
        "print(neutral_reviews)\n",
        "print(\"TODO_5_1_OUTPUT_END\")"
      ],
      "metadata": {
        "id": "uwaun-83waBQ",
        "colab": {
          "base_uri": "https://localhost:8080/"
        },
        "outputId": "40ba6b5e-6815-4103-eede-70a373683179"
      },
      "execution_count": 87,
      "outputs": [
        {
          "output_type": "stream",
          "name": "stdout",
          "text": [
            "<TODO_5_1_OUTPUT_BEGIN>\n",
            "72\n",
            "<ANS_SPLIT>\n",
            "23\n",
            "<ANS_SPLIT>\n",
            "5\n",
            "TODO_5_1_OUTPUT_END\n"
          ]
        }
      ]
    },
    {
      "cell_type": "markdown",
      "source": [
        "### 5.2 Answer [5 points]"
      ],
      "metadata": {
        "id": "R8hRAcJY05F1"
      }
    },
    {
      "cell_type": "code",
      "source": [
        "print(\"<TODO_5_2_OUTPUT_BEGIN>\")\n",
        "print(first_id)\n",
        "print(\"<ANS_SPLIT>\")\n",
        "print(second_id)\n",
        "print(\"<ANS_SPLIT>\")\n",
        "print(third_id)\n",
        "print(\"<TODO_5_2_OUTPUT_BEGIN>\")"
      ],
      "metadata": {
        "id": "t4CxBwmh05F1",
        "colab": {
          "base_uri": "https://localhost:8080/"
        },
        "outputId": "4b39c3b2-dc02-4277-9086-f8746688fecf"
      },
      "execution_count": 88,
      "outputs": [
        {
          "output_type": "stream",
          "name": "stdout",
          "text": [
            "<TODO_5_2_OUTPUT_BEGIN>\n",
            "75\n",
            "<ANS_SPLIT>\n",
            "95\n",
            "<ANS_SPLIT>\n",
            "43\n",
            "<TODO_5_2_OUTPUT_BEGIN>\n"
          ]
        }
      ]
    },
    {
      "cell_type": "markdown",
      "source": [
        "### 5.3 Answer [5 points]"
      ],
      "metadata": {
        "id": "VGjui5Pp05F1"
      }
    },
    {
      "cell_type": "code",
      "source": [
        "print(\"<TODO_5_3_OUTPUT_BEGIN>\")\n",
        "print(most_common_beverage)\n",
        "print(\"<TODO_5_3_OUTPUT_BEGIN>\")"
      ],
      "metadata": {
        "collapsed": true,
        "id": "p17H3K-105F1",
        "colab": {
          "base_uri": "https://localhost:8080/"
        },
        "outputId": "44dd8a04-2442-46ba-c1e1-c9f21d25332e"
      },
      "execution_count": 89,
      "outputs": [
        {
          "output_type": "stream",
          "name": "stdout",
          "text": [
            "<TODO_5_3_OUTPUT_BEGIN>\n",
            "Coffee\n",
            "<TODO_5_3_OUTPUT_BEGIN>\n"
          ]
        }
      ]
    },
    {
      "cell_type": "markdown",
      "source": [
        "# Part 3: Sentiment Analysis [30 Points]\n",
        "\n",
        "#### Sentiment analysis is the process of determining the emotional tone behind a body of text, typically classifying it as positive, negative, or neutral. It often involves preprocessing and cleaning the text data to remove noise, followed by vectorizing the text to transform it into a numerical format suitable for analysis. These steps are crucial for building accurate models that can effectively analyze sentiment in large datasets.\n",
        "\n",
        "#### In this task, you need to complete four sub-task functions related to the Sentiment Analysis process covered in class. You can use a sanity check to verify the correctness of your functions before submitting.\n",
        "\n",
        "#### **Make sure that you run all sanity check cells before submitting**"
      ],
      "metadata": {
        "id": "tb3d0HFlABtZ"
      }
    },
    {
      "cell_type": "code",
      "source": [
        "import math\n",
        "import numpy as np\n",
        "import spacy\n",
        "import nltk\n",
        "import re\n",
        "from nltk.sentiment.vader import SentimentIntensityAnalyzer"
      ],
      "metadata": {
        "id": "EdEiUjaIBOJB"
      },
      "execution_count": 90,
      "outputs": []
    },
    {
      "cell_type": "code",
      "source": [
        "!python -m spacy download en_core_web_lg"
      ],
      "metadata": {
        "id": "QFJQQUPRBPoo",
        "colab": {
          "base_uri": "https://localhost:8080/"
        },
        "outputId": "1d969e4b-8fe8-44a9-b7b4-f58a66567aac"
      },
      "execution_count": 91,
      "outputs": [
        {
          "output_type": "stream",
          "name": "stdout",
          "text": [
            "Collecting en-core-web-lg==3.7.1\n",
            "  Downloading https://github.com/explosion/spacy-models/releases/download/en_core_web_lg-3.7.1/en_core_web_lg-3.7.1-py3-none-any.whl (587.7 MB)\n",
            "\u001b[2K     \u001b[90m━━━━━━━━━━━━━━━━━━━━━━━━━━━━━━━━━━━━━━━━\u001b[0m \u001b[32m587.7/587.7 MB\u001b[0m \u001b[31m874.3 kB/s\u001b[0m eta \u001b[36m0:00:00\u001b[0m\n",
            "\u001b[?25hRequirement already satisfied: spacy<3.8.0,>=3.7.2 in /usr/local/lib/python3.10/dist-packages (from en-core-web-lg==3.7.1) (3.7.5)\n",
            "Requirement already satisfied: spacy-legacy<3.1.0,>=3.0.11 in /usr/local/lib/python3.10/dist-packages (from spacy<3.8.0,>=3.7.2->en-core-web-lg==3.7.1) (3.0.12)\n",
            "Requirement already satisfied: spacy-loggers<2.0.0,>=1.0.0 in /usr/local/lib/python3.10/dist-packages (from spacy<3.8.0,>=3.7.2->en-core-web-lg==3.7.1) (1.0.5)\n",
            "Requirement already satisfied: murmurhash<1.1.0,>=0.28.0 in /usr/local/lib/python3.10/dist-packages (from spacy<3.8.0,>=3.7.2->en-core-web-lg==3.7.1) (1.0.10)\n",
            "Requirement already satisfied: cymem<2.1.0,>=2.0.2 in /usr/local/lib/python3.10/dist-packages (from spacy<3.8.0,>=3.7.2->en-core-web-lg==3.7.1) (2.0.8)\n",
            "Requirement already satisfied: preshed<3.1.0,>=3.0.2 in /usr/local/lib/python3.10/dist-packages (from spacy<3.8.0,>=3.7.2->en-core-web-lg==3.7.1) (3.0.9)\n",
            "Requirement already satisfied: thinc<8.3.0,>=8.2.2 in /usr/local/lib/python3.10/dist-packages (from spacy<3.8.0,>=3.7.2->en-core-web-lg==3.7.1) (8.2.5)\n",
            "Requirement already satisfied: wasabi<1.2.0,>=0.9.1 in /usr/local/lib/python3.10/dist-packages (from spacy<3.8.0,>=3.7.2->en-core-web-lg==3.7.1) (1.1.3)\n",
            "Requirement already satisfied: srsly<3.0.0,>=2.4.3 in /usr/local/lib/python3.10/dist-packages (from spacy<3.8.0,>=3.7.2->en-core-web-lg==3.7.1) (2.4.8)\n",
            "Requirement already satisfied: catalogue<2.1.0,>=2.0.6 in /usr/local/lib/python3.10/dist-packages (from spacy<3.8.0,>=3.7.2->en-core-web-lg==3.7.1) (2.0.10)\n",
            "Requirement already satisfied: weasel<0.5.0,>=0.1.0 in /usr/local/lib/python3.10/dist-packages (from spacy<3.8.0,>=3.7.2->en-core-web-lg==3.7.1) (0.4.1)\n",
            "Requirement already satisfied: typer<1.0.0,>=0.3.0 in /usr/local/lib/python3.10/dist-packages (from spacy<3.8.0,>=3.7.2->en-core-web-lg==3.7.1) (0.12.5)\n",
            "Requirement already satisfied: tqdm<5.0.0,>=4.38.0 in /usr/local/lib/python3.10/dist-packages (from spacy<3.8.0,>=3.7.2->en-core-web-lg==3.7.1) (4.66.5)\n",
            "Requirement already satisfied: requests<3.0.0,>=2.13.0 in /usr/local/lib/python3.10/dist-packages (from spacy<3.8.0,>=3.7.2->en-core-web-lg==3.7.1) (2.32.3)\n",
            "Requirement already satisfied: pydantic!=1.8,!=1.8.1,<3.0.0,>=1.7.4 in /usr/local/lib/python3.10/dist-packages (from spacy<3.8.0,>=3.7.2->en-core-web-lg==3.7.1) (2.9.2)\n",
            "Requirement already satisfied: jinja2 in /usr/local/lib/python3.10/dist-packages (from spacy<3.8.0,>=3.7.2->en-core-web-lg==3.7.1) (3.1.4)\n",
            "Requirement already satisfied: setuptools in /usr/local/lib/python3.10/dist-packages (from spacy<3.8.0,>=3.7.2->en-core-web-lg==3.7.1) (71.0.4)\n",
            "Requirement already satisfied: packaging>=20.0 in /usr/local/lib/python3.10/dist-packages (from spacy<3.8.0,>=3.7.2->en-core-web-lg==3.7.1) (24.1)\n",
            "Requirement already satisfied: langcodes<4.0.0,>=3.2.0 in /usr/local/lib/python3.10/dist-packages (from spacy<3.8.0,>=3.7.2->en-core-web-lg==3.7.1) (3.4.1)\n",
            "Requirement already satisfied: numpy>=1.19.0 in /usr/local/lib/python3.10/dist-packages (from spacy<3.8.0,>=3.7.2->en-core-web-lg==3.7.1) (1.26.4)\n",
            "Requirement already satisfied: language-data>=1.2 in /usr/local/lib/python3.10/dist-packages (from langcodes<4.0.0,>=3.2.0->spacy<3.8.0,>=3.7.2->en-core-web-lg==3.7.1) (1.2.0)\n",
            "Requirement already satisfied: annotated-types>=0.6.0 in /usr/local/lib/python3.10/dist-packages (from pydantic!=1.8,!=1.8.1,<3.0.0,>=1.7.4->spacy<3.8.0,>=3.7.2->en-core-web-lg==3.7.1) (0.7.0)\n",
            "Requirement already satisfied: pydantic-core==2.23.4 in /usr/local/lib/python3.10/dist-packages (from pydantic!=1.8,!=1.8.1,<3.0.0,>=1.7.4->spacy<3.8.0,>=3.7.2->en-core-web-lg==3.7.1) (2.23.4)\n",
            "Requirement already satisfied: typing-extensions>=4.6.1 in /usr/local/lib/python3.10/dist-packages (from pydantic!=1.8,!=1.8.1,<3.0.0,>=1.7.4->spacy<3.8.0,>=3.7.2->en-core-web-lg==3.7.1) (4.12.2)\n",
            "Requirement already satisfied: charset-normalizer<4,>=2 in /usr/local/lib/python3.10/dist-packages (from requests<3.0.0,>=2.13.0->spacy<3.8.0,>=3.7.2->en-core-web-lg==3.7.1) (3.3.2)\n",
            "Requirement already satisfied: idna<4,>=2.5 in /usr/local/lib/python3.10/dist-packages (from requests<3.0.0,>=2.13.0->spacy<3.8.0,>=3.7.2->en-core-web-lg==3.7.1) (3.10)\n",
            "Requirement already satisfied: urllib3<3,>=1.21.1 in /usr/local/lib/python3.10/dist-packages (from requests<3.0.0,>=2.13.0->spacy<3.8.0,>=3.7.2->en-core-web-lg==3.7.1) (2.2.3)\n",
            "Requirement already satisfied: certifi>=2017.4.17 in /usr/local/lib/python3.10/dist-packages (from requests<3.0.0,>=2.13.0->spacy<3.8.0,>=3.7.2->en-core-web-lg==3.7.1) (2024.8.30)\n",
            "Requirement already satisfied: blis<0.8.0,>=0.7.8 in /usr/local/lib/python3.10/dist-packages (from thinc<8.3.0,>=8.2.2->spacy<3.8.0,>=3.7.2->en-core-web-lg==3.7.1) (0.7.11)\n",
            "Requirement already satisfied: confection<1.0.0,>=0.0.1 in /usr/local/lib/python3.10/dist-packages (from thinc<8.3.0,>=8.2.2->spacy<3.8.0,>=3.7.2->en-core-web-lg==3.7.1) (0.1.5)\n",
            "Requirement already satisfied: click>=8.0.0 in /usr/local/lib/python3.10/dist-packages (from typer<1.0.0,>=0.3.0->spacy<3.8.0,>=3.7.2->en-core-web-lg==3.7.1) (8.1.7)\n",
            "Requirement already satisfied: shellingham>=1.3.0 in /usr/local/lib/python3.10/dist-packages (from typer<1.0.0,>=0.3.0->spacy<3.8.0,>=3.7.2->en-core-web-lg==3.7.1) (1.5.4)\n",
            "Requirement already satisfied: rich>=10.11.0 in /usr/local/lib/python3.10/dist-packages (from typer<1.0.0,>=0.3.0->spacy<3.8.0,>=3.7.2->en-core-web-lg==3.7.1) (13.9.2)\n",
            "Requirement already satisfied: cloudpathlib<1.0.0,>=0.7.0 in /usr/local/lib/python3.10/dist-packages (from weasel<0.5.0,>=0.1.0->spacy<3.8.0,>=3.7.2->en-core-web-lg==3.7.1) (0.19.0)\n",
            "Requirement already satisfied: smart-open<8.0.0,>=5.2.1 in /usr/local/lib/python3.10/dist-packages (from weasel<0.5.0,>=0.1.0->spacy<3.8.0,>=3.7.2->en-core-web-lg==3.7.1) (7.0.5)\n",
            "Requirement already satisfied: MarkupSafe>=2.0 in /usr/local/lib/python3.10/dist-packages (from jinja2->spacy<3.8.0,>=3.7.2->en-core-web-lg==3.7.1) (2.1.5)\n",
            "Requirement already satisfied: marisa-trie>=0.7.7 in /usr/local/lib/python3.10/dist-packages (from language-data>=1.2->langcodes<4.0.0,>=3.2.0->spacy<3.8.0,>=3.7.2->en-core-web-lg==3.7.1) (1.2.0)\n",
            "Requirement already satisfied: markdown-it-py>=2.2.0 in /usr/local/lib/python3.10/dist-packages (from rich>=10.11.0->typer<1.0.0,>=0.3.0->spacy<3.8.0,>=3.7.2->en-core-web-lg==3.7.1) (3.0.0)\n",
            "Requirement already satisfied: pygments<3.0.0,>=2.13.0 in /usr/local/lib/python3.10/dist-packages (from rich>=10.11.0->typer<1.0.0,>=0.3.0->spacy<3.8.0,>=3.7.2->en-core-web-lg==3.7.1) (2.18.0)\n",
            "Requirement already satisfied: wrapt in /usr/local/lib/python3.10/dist-packages (from smart-open<8.0.0,>=5.2.1->weasel<0.5.0,>=0.1.0->spacy<3.8.0,>=3.7.2->en-core-web-lg==3.7.1) (1.16.0)\n",
            "Requirement already satisfied: mdurl~=0.1 in /usr/local/lib/python3.10/dist-packages (from markdown-it-py>=2.2.0->rich>=10.11.0->typer<1.0.0,>=0.3.0->spacy<3.8.0,>=3.7.2->en-core-web-lg==3.7.1) (0.1.2)\n",
            "Installing collected packages: en-core-web-lg\n",
            "Successfully installed en-core-web-lg-3.7.1\n",
            "\u001b[38;5;2m✔ Download and installation successful\u001b[0m\n",
            "You can now load the package via spacy.load('en_core_web_lg')\n",
            "\u001b[38;5;3m⚠ Restart to reload dependencies\u001b[0m\n",
            "If you are in a Jupyter or Colab notebook, you may need to restart Python in\n",
            "order to load all the package's dependencies. You can do this by selecting the\n",
            "'Restart kernel' or 'Restart runtime' option.\n"
          ]
        }
      ]
    },
    {
      "cell_type": "code",
      "source": [
        "### Initialize SpaCy and NLTK\n",
        "nlp = spacy.load(\"en_core_web_lg\")\n",
        "\n",
        "nltk.download('vader_lexicon')\n",
        "sid = SentimentIntensityAnalyzer()"
      ],
      "metadata": {
        "colab": {
          "base_uri": "https://localhost:8080/"
        },
        "id": "IYd9vJ7DBUGV",
        "outputId": "9e8cc137-1c30-4581-a6c1-a6b505964671"
      },
      "execution_count": 92,
      "outputs": [
        {
          "output_type": "stream",
          "name": "stderr",
          "text": [
            "[nltk_data] Downloading package vader_lexicon to /root/nltk_data...\n"
          ]
        }
      ]
    },
    {
      "cell_type": "markdown",
      "source": [
        "## Task 1: Clean & Preprocess text with REGEX [7.5 Points]\n",
        "\n",
        "#### Cleaning and preprocessing text with regex in Python involves using regular expressions to identify and remove unwanted elements from the text, such as special characters, numbers, or extra spaces. This process is essential for preparing raw text data for analysis by normalizing the text, reducing noise, and ensuring consistency. By applying regex patterns, you can efficiently clean the text, making it more suitable for tasks like tokenization, vectorization, and sentiment analysis."
      ],
      "metadata": {
        "id": "OW0FNnDkA_rp"
      }
    },
    {
      "cell_type": "code",
      "source": [
        "### TO DO: Use regex to remove number (0-9) and these 3 symbols (, . !) from the text_input\n",
        "### Hint: re.sub() can be used for replacing occurrences of a regex pattern with a specified replacement string. Also, You can use sanity check for debugging.\n",
        "### Expected Output: Text without number (0-9) and these 3 symbols (, . !)\n",
        "\n",
        "def regex_clean(text_input):\n",
        "  ### BEGIN YOUR ANSWER\n",
        "  return re.sub(r\"[0-9,.!]+\", \"\", text_input)\n",
        "  ### END YOUR ANSWER"
      ],
      "metadata": {
        "id": "pdQgCQT2AAdf"
      },
      "execution_count": 97,
      "outputs": []
    },
    {
      "cell_type": "code",
      "source": [
        "### ***** PLEASE RUN AND DO NOT CHANGE ANYTHING IN THIS CELL ******\n",
        "### Sanity Check: regex_clean\n",
        "\n",
        "regex_clean_1 = \"Hello, world0123!\"\n",
        "regex_clean_2 = \"1.I won lottery.!!!\"\n",
        "\n",
        "assert regex_clean(regex_clean_1) == \"Hello world\", \"regex_clean_1: Wrong Output\"\n",
        "print(\"regex_clean_1: Passed!\")\n",
        "\n",
        "assert regex_clean(regex_clean_2) == \"I won lottery\", \"regex_clean_2: Wrong Output\"\n",
        "print(\"regex_clean_2: Passed!\")"
      ],
      "metadata": {
        "id": "BKNMlMd1Bo0-",
        "colab": {
          "base_uri": "https://localhost:8080/"
        },
        "outputId": "67ad7098-bf82-457c-f168-1a5ae62983be"
      },
      "execution_count": 98,
      "outputs": [
        {
          "output_type": "stream",
          "name": "stdout",
          "text": [
            "regex_clean_1: Passed!\n",
            "regex_clean_2: Passed!\n"
          ]
        }
      ]
    },
    {
      "cell_type": "markdown",
      "source": [
        "## Task 2: Vectorize text using SpaCy [7.5 Points]\n",
        "\n",
        "#### Vectorizing text using SpaCy involves converting text data into numerical representations, called vectors, that capture the meaning and context of the words or phrases. SpaCy provides powerful tools like pre-trained word embeddings that transform text into dense vectors, which reflect semantic similarities and differences. These vectors can then be used for various natural language processing tasks, such as sentiment analysis, text classification, or clustering, enabling machine learning models to understand and process text data more effectively."
      ],
      "metadata": {
        "id": "44ybKp8kBj6z"
      }
    },
    {
      "cell_type": "code",
      "source": [
        "### TO DO: Use SpaCy \"en_core_web_lg\" to vectorize the text_input and save value as vector_output\n",
        "### Hint: You can call the variable 'nlp' in the function.\n",
        "### Expected Output: Vector of the text_input\n",
        "\n",
        "def spacy_vectorize(text_input):\n",
        "  ### BEGIN YOUR ANSWER\n",
        "  return nlp(text_input).vector\n",
        "  ### END YOUR ANSWER"
      ],
      "metadata": {
        "id": "y6MUxlGz_3xf"
      },
      "execution_count": 99,
      "outputs": []
    },
    {
      "cell_type": "code",
      "source": [
        "### ***** PLEASE RUN AND DO NOT CHANGE ANYTHING IN THIS CELL ******\n",
        "### Sanity Check: spacy_vectorize\n",
        "\n",
        "spacy_vectorize_1 = \"Hello World\"\n",
        "spacy_vectorize_2 = \"This is a cat.\"\n",
        "\n",
        "assert np.allclose(spacy_vectorize(spacy_vectorize_1), [ 1.9091499 , -0.45174998,  6.0755    , -2.40725   ,  1.6430551 ,\n",
        "        1.22375   , -0.16766998, -2.6821    ,  2.07438   ,  3.67405   ,\n",
        "        1.06575   ,  1.355615  , -2.1858    ,  3.25365   , -0.96880007,\n",
        "       -0.84369993,  3.050255  ,  1.929425  ,  0.266375  , -1.4181999 ,\n",
        "        2.23065   ,  0.13395   ,  0.342965  , -1.3394501 ,  0.47084004,\n",
        "        4.08997   , -4.8279247 ,  0.82527   , -0.23190004, -0.78024995,\n",
        "       -0.64109   ,  1.39115   ,  1.01615   ,  2.80055   , -3.33231   ,\n",
        "        2.213785  , -0.04525006, -0.45984995, -2.32922   , -2.417888  ,\n",
        "        0.20391501,  1.33049   , -0.563985  ,  1.6517899 , -2.4878802 ,\n",
        "       -3.03185   , -4.56585   ,  1.74856   , -1.357615  , -3.959625  ,\n",
        "       -0.69825   , -2.26605   , -0.72382504, -2.1701    ,  1.7167001 ,\n",
        "        1.4455001 , -0.5869755 , -0.85075   , -2.0085502 ,  0.3819    ,\n",
        "        1.27522   ,  2.0743499 , -0.825005  ,  3.4989    ,  2.49142   ,\n",
        "       -0.873825  , -2.3759599 ,  0.15710002,  4.71345   , -0.96141493,\n",
        "        0.97319996,  2.310585  , -0.8499249 , -1.6558999 , -1.2397499 ,\n",
        "       -3.4123    , -0.290385  ,  1.2902601 ,  4.49415   , -0.531245  ,\n",
        "       -0.30260015, -0.5022    , -1.4202    ,  2.66235   ,  2.96855   ,\n",
        "       -2.3820899 , -0.51495004, -3.87338   , -2.63205   , -4.5396    ,\n",
        "       -0.962265  ,  3.0814    , -1.27605   , -1.2235    , -4.5558    ,\n",
        "        1.517935  , -0.57454   , -1.419395  , -1.28969   ,  1.01775   ,\n",
        "        1.5958949 , -0.93831   ,  0.29061398,  1.4059498 , -0.40600002,\n",
        "        0.8541    , -0.68939996, -0.8835    ,  0.232621  ,  0.258035  ,\n",
        "        2.1965249 ,  1.03335   , -1.72347   ,  0.54244006,  0.31351   ,\n",
        "       -2.8723998 ,  0.831015  , -1.2166994 , -0.57189   ,  2.9512    ,\n",
        "       -1.379975  ,  0.05383   ,  3.03583   ,  0.05925   ,  3.7099    ,\n",
        "        1.7822    ,  0.90089995, -0.93752   , -0.21735   , -0.35956   ,\n",
        "        0.37635005,  3.199625  , -0.17940009, -1.82325   , -0.800265  ,\n",
        "       -2.078645  ,  1.5732349 , -0.98045003, -2.45435   ,  3.3913498 ,\n",
        "        0.816275  ,  1.681535  ,  1.073505  ,  1.8717201 , -2.70605   ,\n",
        "       -0.81369   , -4.704305  , -0.44801   , -1.9599199 ,  0.331795  ,\n",
        "        1.54905   ,  0.448628  , -3.3199    ,  0.476015  , -1.8448    ,\n",
        "       -0.20492001,  2.029295  ,  0.07160002,  2.6872551 , -1.6288    ,\n",
        "        1.235345  ,  1.317705  , -1.9263599 , -0.38435   , -3.817655  ,\n",
        "       -1.144415  , -2.076225  , -1.4848001 ,  1.5587001 , -3.9872901 ,\n",
        "       -1.8787    , -0.4929    , -3.1566    ,  2.332205  , -0.27949995,\n",
        "       -0.89615506, -0.972535  ,  0.66885   , -0.097805  , -1.4099    ,\n",
        "        0.54473996,  2.80335   , -2.785755  , -1.03169   ,  0.14777   ,\n",
        "        4.7942    , -0.43314993, -1.8141501 ,  2.64845   ,  1.3605    ,\n",
        "       -1.07244   ,  3.8125    ,  0.4349    ,  3.1717026 ,  1.961475  ,\n",
        "       -0.32695   , -1.58219   ,  2.23975   ,  1.095645  ,  3.9083    ,\n",
        "        1.88625   , -0.103234  , -0.88906   , -0.5008501 ,  5.5821753 ,\n",
        "       -0.35721502, -0.81245005,  1.1631999 , -2.726985  , -0.3377    ,\n",
        "        1.5778999 ,  2.3084202 , -0.77995   , -1.0862    , -0.85148996,\n",
        "        1.3574849 , -1.22574   ,  0.48182   ,  2.32545   , -3.6890001 ,\n",
        "       -0.553385  ,  0.51283497, -2.75875   , -1.10565   , -6.53037   ,\n",
        "       -0.86206496,  0.32465   ,  2.204345  , -2.70668   ,  1.98566   ,\n",
        "       -1.339125  ,  1.17286   , -0.297028  ,  1.8505    , -0.36110997,\n",
        "        1.0040851 , -1.047425  ,  0.82317   ,  0.478855  ,  0.33419997,\n",
        "        2.25532   ,  0.473225  ,  1.1447845 , -0.43174   , -0.54912496,\n",
        "       -0.94259   , -1.265725  , -1.479     , -1.01386   ,  0.2139035 ,\n",
        "       -1.92481   , -4.812345  , -1.598245  , -1.266505  , -0.6402    ,\n",
        "       -3.97715   ,  0.97725004, -4.9416847 ,  1.13679   ,  2.8118    ,\n",
        "        0.829285  , -4.5960503 ,  1.8581    , -0.70976   , -1.4105451 ,\n",
        "       -3.03318   , -2.25385   , -0.45599997, -1.1853501 ,  1.188738  ,\n",
        "        0.31739998,  0.855105  ,  1.8125999 ,  1.8716501 , -1.5424001 ,\n",
        "       -0.26905   , -1.5464    ,  0.50355005,  0.10933   ,  2.1044002 ,\n",
        "        0.82834995,  0.517655  ,  2.0570998 , -3.6235    , -0.42475003,\n",
        "        0.8547085 ,  3.8453999 , -0.36260003,  0.8638995 ,  3.07476   ,\n",
        "        1.7916199 , -0.07744998,  0.73646003,  1.40165   , -1.0778465 ,\n",
        "       -3.5363998 ,  0.75514895, -1.166235  , -3.014495  , -1.0041499 ]) == True, \"spacy_vectorize_1: Wrong Output\"\n",
        "print(\"spacy_vectorize_1: Passed!\")\n",
        "\n",
        "assert np.allclose(spacy_vectorize(spacy_vectorize_2), [-5.1525068e-01,  3.3550200e+00, -3.1942058e+00, -3.7386200e+00,\n",
        "        6.2822609e+00, -5.1502001e-01,  3.1933394e-01,  2.0876498e+00,\n",
        "        1.4574479e+00,  1.1849389e-01,  1.0310520e+01, -2.3752013e-01,\n",
        "       -1.0822041e+00,  8.7533605e-01,  2.1434102e+00,  2.7598598e+00,\n",
        "        1.7363818e+00,  2.4873600e+00,  9.3288791e-01, -8.0104399e-01,\n",
        "        7.9022008e-01,  1.4068760e+00, -3.2576861e+00, -1.4497462e-01,\n",
        "       -3.5770001e+00, -2.9040198e+00, -2.8258998e+00, -2.1282201e+00,\n",
        "       -3.2122798e+00,  4.4936083e-02, -9.3070203e-01, -4.8406202e-01,\n",
        "       -3.2052238e+00, -8.0821002e-01, -4.3008800e+00,  9.2272198e-01,\n",
        "        8.8425463e-01,  4.6460000e-01,  5.6586399e+00, -5.5996007e-01,\n",
        "       -1.9406722e+00,  4.9976605e-01,  1.9287260e+00, -4.2426005e-01,\n",
        "       -2.4993002e+00,  2.3217678e+00,  3.4900203e+00, -3.3036518e+00,\n",
        "       -2.2066395e+00, -5.9411001e-01, -6.2006605e-01,  1.6725420e+00,\n",
        "        3.4256377e+00, -3.1799202e+00,  5.1342005e-01, -3.2105997e-01,\n",
        "        2.9841797e+00,  8.2749999e-01, -9.0579844e-01,  6.0143000e-01,\n",
        "        1.4841321e+00, -1.7128880e+00, -3.8300015e-02, -5.5789995e-01,\n",
        "       -2.7657757e+00, -8.8112041e-02, -3.4344602e+00, -6.1846356e+00,\n",
        "        2.9752400e+00,  2.4428980e+00, -4.2204332e-02,  3.0471997e+00,\n",
        "       -4.6080999e+00, -2.0597601e-01, -4.3766794e-01,  1.3226600e+00,\n",
        "       -2.7763600e+00,  2.7712102e+00, -2.7255280e+00, -7.9127997e-01,\n",
        "       -5.3278599e+00, -2.5735700e+00,  6.4166194e-01, -1.3083364e+00,\n",
        "        2.3878360e+00, -1.5716702e+00,  2.2275715e+00,  5.7804799e-01,\n",
        "        3.7506242e+00, -2.9679279e+00, -8.5738802e-01, -4.6682458e+00,\n",
        "        3.9121425e+00, -7.4809999e+00,  6.8826199e-01, -4.5307999e+00,\n",
        "       -4.4429404e-01,  8.1760027e-02, -4.2538404e-01, -4.9222360e+00,\n",
        "        7.6188183e-01,  7.7960002e-01,  6.2873201e+00,  6.4020529e+00,\n",
        "        2.1447120e+00,  4.6194186e+00,  7.8504041e-02,  2.3271642e+00,\n",
        "       -3.5233657e+00,  2.9579301e+00, -2.3646080e+00,  4.1450725e+00,\n",
        "       -5.2480614e-01,  4.8736520e+00,  5.7585800e-01, -1.2049781e+00,\n",
        "       -2.6510799e+00,  2.4680258e-03,  2.7278199e+00, -6.6711998e-01,\n",
        "       -1.2842820e+00, -2.0238199e+00, -1.5410120e+00,  5.8798203e+00,\n",
        "       -1.9881001e+00, -6.8943801e+00,  3.4059811e-02, -6.2057996e-01,\n",
        "        2.7027278e+00, -2.8297079e+00, -2.8847060e+00, -1.2029999e+00,\n",
        "        5.8111439e+00, -7.5403605e+00, -4.8309737e-01,  8.7368393e-01,\n",
        "        2.2249398e+00, -4.3276601e+00,  5.3056002e+00, -2.8657200e+00,\n",
        "       -1.8121380e+00, -2.4238411e-01,  3.0637522e+00,  2.2479560e+00,\n",
        "        1.4982580e+00,  1.1447401e+00, -3.6077163e+00, -3.3542195e-01,\n",
        "       -3.4776998e-01,  3.6801600e+00,  2.5131402e+00,  5.4348302e+00,\n",
        "        1.0040540e+00,  2.4681199e+00,  2.4649601e-01,  2.4969239e+00,\n",
        "        5.1022220e+00,  3.4736018e+00,  2.8122789e-01,  3.5790208e-01,\n",
        "       -1.9040579e+00, -2.0078850e+00,  1.5827520e+00,  2.6213200e+00,\n",
        "       -4.8154202e+00, -3.1938400e+00, -3.7035301e+00,  5.6587391e+00,\n",
        "        2.6762402e+00, -6.9629952e-02,  3.8428657e+00, -8.7008762e-01,\n",
        "        3.2447200e+00,  1.1510401e+00,  1.2628801e-01, -3.8476224e+00,\n",
        "        6.0685790e-01, -2.0399571e-03, -3.7674537e+00, -7.1674001e-01,\n",
        "       -1.0998760e+00,  1.5341840e+00,  1.6909180e+00, -3.6566799e+00,\n",
        "       -3.3844619e+00, -7.9374206e-01, -3.7961879e+00, -3.4601181e+00,\n",
        "       -9.8252803e-01,  3.4114003e+00, -2.1496696e+00, -7.1959990e-01,\n",
        "       -2.2053800e+00, -3.7677798e+00,  2.7276399e+00, -1.6924605e-01,\n",
        "       -3.0168099e+00, -3.6999942e-03,  1.2836021e+00, -3.8780200e+00,\n",
        "        5.0803035e-01, -9.0892601e-01, -3.5374198e+00, -3.6654201e+00,\n",
        "        1.5899861e+00,  1.8346682e+00, -6.6831002e+00,  1.5564820e+00,\n",
        "       -3.7149956e+00, -3.7630200e+00,  4.5250001e+00,  2.0020201e+00,\n",
        "       -4.0279999e-01,  2.5854721e+00,  1.1243280e+00,  1.7673798e-01,\n",
        "       -8.1888998e-01, -2.1178601e+00, -2.4210601e+00,  4.5965600e-01,\n",
        "       -2.7663758e+00, -2.4932561e+00,  1.5002759e+00, -3.0449599e-01,\n",
        "       -3.7684008e-01, -7.2592008e-01,  2.7756200e+00, -2.7147999e-01,\n",
        "        4.4642601e+00, -1.6031481e+00, -3.9000988e-03, -9.0072603e+00,\n",
        "        1.7786318e+00,  4.6200242e+00, -4.9403801e+00,  3.1929597e-01,\n",
        "       -1.3880199e+00,  9.0721129e-03,  1.3808960e+00,  1.5602281e+00,\n",
        "        1.7240620e+00,  6.1998796e-01,  3.5996997e+00,  2.3757000e+00,\n",
        "       -4.1756921e+00, -2.2395339e+00, -3.8822072e+00,  2.0884180e+00,\n",
        "       -1.7062393e-01,  3.8123124e+00,  2.4698810e-01,  4.3285400e-01,\n",
        "       -5.1090002e+00, -4.3618999e+00, -2.2364192e+00, -1.0938101e+00,\n",
        "        3.9004002e+00,  5.5234003e+00,  7.7447397e-01, -2.3161778e+00,\n",
        "       -1.2803020e+00,  2.8454998e+00,  2.4919000e+00,  6.7252998e+00,\n",
        "       -1.9188640e+00, -1.0170660e+00, -2.4665399e+00,  7.8406394e-01,\n",
        "       -3.7017677e+00,  1.0613760e+00,  5.0155802e+00, -1.6745160e+00,\n",
        "       -5.1563793e-01, -2.8973603e+00,  2.0842299e+00,  8.4648001e-01,\n",
        "        2.1587601e+00,  2.6430061e+00, -5.7316399e-01,  1.3787849e+00,\n",
        "        1.5152200e-01, -3.9843597e+00, -4.6193199e+00,  1.4414209e+00,\n",
        "        8.4691324e+00, -1.7156000e+00,  2.9018404e+00,  1.5891964e-02,\n",
        "       -2.0408401e+00,  3.0835021e+00,  1.3132802e+00,  9.1946000e-01,\n",
        "        5.1444678e+00,  5.1536405e-01, -1.0884761e+00,  3.9948399e+00,\n",
        "       -7.9524004e-01,  1.5913141e+00, -3.6228924e+00,  2.8538461e+00]) == True, \"spacy_vectorize_2: Wrong Output\"\n",
        "print(\"spacy_vectorize_2: Passed!\")"
      ],
      "metadata": {
        "id": "ixpwCjnVB8xk",
        "colab": {
          "base_uri": "https://localhost:8080/"
        },
        "outputId": "41265630-84d0-4600-99c5-4daa88463efd"
      },
      "execution_count": 100,
      "outputs": [
        {
          "output_type": "stream",
          "name": "stdout",
          "text": [
            "spacy_vectorize_1: Passed!\n",
            "spacy_vectorize_2: Passed!\n"
          ]
        }
      ]
    },
    {
      "cell_type": "markdown",
      "source": [
        "## Task 3: Find text similarity using SpaCy [7.5 Points]\n",
        "\n",
        "#### SpaCy provides a built-in function to calculate cosine similarity, which measures how similar two texts are by comparing the angles between their vector representations. This method, with values ranging from -1 to 1, is effective for assessing semantic similarity in tasks like document comparison and clustering."
      ],
      "metadata": {
        "id": "9LSPcLGwBkgf"
      }
    },
    {
      "cell_type": "code",
      "source": [
        "### TO DO: Use SpaCy \"en_core_web_lg\" to find cosine similarity of 2 texts\n",
        "### Hint: You can call the variable 'nlp' in the function.\n",
        "### Expected Output: Vector of the text_input\n",
        "\n",
        "def spacy_similarity(text_input_1, text_input_2):\n",
        "  ### BEGIN YOUR ANSWER\n",
        "  doc1 = nlp(text_input_1)\n",
        "  doc2 = nlp(text_input_2)\n",
        "  return doc1.similarity(doc2)\n",
        "  ### END YOUR ANSWER"
      ],
      "metadata": {
        "id": "BGSXV4BU_huf"
      },
      "execution_count": 101,
      "outputs": []
    },
    {
      "cell_type": "code",
      "source": [
        "### ***** PLEASE RUN AND DO NOT CHANGE ANYTHING IN THIS CELL ******\n",
        "### Sanity Check: spacy_similarity\n",
        "\n",
        "spacy_similarity_1_a = \"Hello World\"\n",
        "spacy_similarity_1_b = \"This is a cat.\"\n",
        "spacy_similarity_2_a = \"Water\"\n",
        "spacy_similarity_2_b = \"Drinking\"\n",
        "\n",
        "assert math.isclose(spacy_similarity(spacy_similarity_1_a, spacy_similarity_1_b), 0.011677389356738732) == True, \"spacy_similarity_1: Wrong Output\"\n",
        "print(\"spacy_similarity_1: Passed!\")\n",
        "\n",
        "assert math.isclose(spacy_similarity(spacy_similarity_2_a, spacy_similarity_2_b), 0.4627892310102833) == True, \"spacy_similarity_2: Wrong Output\"\n",
        "print(\"spacy_similarity_2: Passed!\")"
      ],
      "metadata": {
        "id": "hr2n-uHqCFfP",
        "colab": {
          "base_uri": "https://localhost:8080/"
        },
        "outputId": "3c533aee-1b9c-4363-b1a6-85b3b4be8ce1"
      },
      "execution_count": 102,
      "outputs": [
        {
          "output_type": "stream",
          "name": "stdout",
          "text": [
            "spacy_similarity_1: Passed!\n",
            "spacy_similarity_2: Passed!\n"
          ]
        }
      ]
    },
    {
      "cell_type": "markdown",
      "source": [
        "## Task 4: Analyze text sentiment using NLTK \"VADER\" [7.5 Points]\n",
        "\n",
        "#### VADER (Valence Aware Dictionary and sEntiment Reasoner) in NLTK is a tool for analyzing text sentiment, specifically designed to capture both the polarity (positive, negative, neutral) and intensity of sentiments expressed in social media and other informal text. VADER uses a pre-built lexicon of words and assigns them sentiment scores, allowing it to effectively handle slang, emojis, and negations. It's easy to implement and provides quick, reliable sentiment analysis, making it ideal for applications like social media monitoring and opinion mining."
      ],
      "metadata": {
        "id": "qj0fLTK_B0ir"
      }
    },
    {
      "cell_type": "code",
      "source": [
        "### TO DO: Use NLTK \"VADER\" to analyze sentiment in text data\n",
        "### Hint: You can call the variable 'sid' in the function.\n",
        "### Expected Output: NLTK VADER sentiment output format like -> {'neg': 0.0, 'neu': 0.484, 'pos': 0.516, 'compound': 0.4927}\n",
        "\n",
        "def nltk_sentimentanalysis(text_input):\n",
        "  ### BEGIN YOUR ANSWER\n",
        "  return sid.polarity_scores(text_input)\n",
        "  ### END YOUR ANSWER"
      ],
      "metadata": {
        "id": "YAG0mxtIB0_B"
      },
      "execution_count": 105,
      "outputs": []
    },
    {
      "cell_type": "code",
      "source": [
        "### ***** PLEASE RUN AND DO NOT CHANGE ANYTHING IN THIS CELL ******\n",
        "### Sanity Check: nltk_sentimentanalysis\n",
        "\n",
        "nltk_sentimentanalysis_1 = \"It is marvelous.\"\n",
        "nltk_sentimentanalysis_2 = \"This movie is suck.\"\n",
        "\n",
        "assert nltk_sentimentanalysis(nltk_sentimentanalysis_1) == {'neg': 0.0, 'neu': 0.339, 'pos': 0.661, 'compound': 0.5994}, \"nltk_sentimentanalysis_1: Wrong Output\"\n",
        "print(\"nltk_sentimentanalysis_1: Passed!\")\n",
        "\n",
        "assert nltk_sentimentanalysis(nltk_sentimentanalysis_2) == {'neg': 0.492, 'neu': 0.508, 'pos': 0.0, 'compound': -0.4404}, \"nltk_sentimentanalysis_2: Wrong Output\"\n",
        "print(\"nltk_sentimentanalysis_2: Passed!\")"
      ],
      "metadata": {
        "id": "dxKiB0BHCJbb",
        "colab": {
          "base_uri": "https://localhost:8080/"
        },
        "outputId": "33b3637c-eb72-496f-c924-23d384dd6f0c"
      },
      "execution_count": 106,
      "outputs": [
        {
          "output_type": "stream",
          "name": "stdout",
          "text": [
            "nltk_sentimentanalysis_1: Passed!\n",
            "nltk_sentimentanalysis_2: Passed!\n"
          ]
        }
      ]
    }
  ]
}