{
  "nbformat": 4,
  "nbformat_minor": 0,
  "metadata": {
    "colab": {
      "provenance": [],
      "include_colab_link": true
    },
    "kernelspec": {
      "name": "python3",
      "display_name": "Python 3"
    },
    "language_info": {
      "name": "python"
    }
  },
  "cells": [
    {
      "cell_type": "markdown",
      "metadata": {
        "id": "view-in-github",
        "colab_type": "text"
      },
      "source": [
        "<a href=\"https://colab.research.google.com/github/ubinix-warun/mad-bootcamp-2024/blob/main/colab/Lesson_7_Colab_for_Chapter_7_2_7_3_7_4.ipynb\" target=\"_parent\"><img src=\"https://colab.research.google.com/assets/colab-badge.svg\" alt=\"Open In Colab\"/></a>"
      ]
    },
    {
      "cell_type": "markdown",
      "source": [
        "# Chapter 7.2 Binary Classification – Confusion Matrix"
      ],
      "metadata": {
        "id": "f0b4acfh7dLH"
      }
    },
    {
      "cell_type": "code",
      "execution_count": null,
      "metadata": {
        "id": "8s812_OVRJYu"
      },
      "outputs": [],
      "source": [
        "# Chapter 7.2 Binary Classification – Confusion Matrix\n",
        "import numpy as np\n",
        "\n",
        "# Mock data for y_true and y_pred using True and False\n",
        "y_true = np.array([True, True, True, True, True, False, False, False, False, False])\n",
        "\n",
        "y_pred = np.array([True, True, True, True, False, True, True, False, False, False])\n"
      ]
    },
    {
      "cell_type": "code",
      "source": [
        "# Manual Calculations\n",
        "# Initialize counters\n",
        "TP = 0\n",
        "TN = 0\n",
        "FP = 0\n",
        "FN = 0\n",
        "\n",
        "# Calculate TP, TN, FP, FN\n",
        "for yt, yp in zip(y_true, y_pred):\n",
        "    if yt == True and yp == True:\n",
        "        TP += 1\n",
        "    elif yt == False and yp == False:\n",
        "        TN += 1\n",
        "    elif yt == False and yp == True:\n",
        "        FP += 1\n",
        "    elif yt == True and yp == False:\n",
        "        FN += 1\n",
        "\n",
        "# Print the results\n",
        "print(f\"True Positives (TP): {TP}\")\n",
        "print(f\"True Negatives (TN): {TN}\")\n",
        "print(f\"False Positives (FP): {FP}\")\n",
        "print(f\"False Negatives (FN): {FN}\")"
      ],
      "metadata": {
        "colab": {
          "base_uri": "https://localhost:8080/"
        },
        "id": "zYT15lESLUoG",
        "outputId": "7d5f44f4-db68-469c-d36e-c40566eef62c",
        "collapsed": true
      },
      "execution_count": null,
      "outputs": [
        {
          "output_type": "stream",
          "name": "stdout",
          "text": [
            "True Positives (TP): 4\n",
            "True Negatives (TN): 3\n",
            "False Positives (FP): 2\n",
            "False Negatives (FN): 1\n"
          ]
        }
      ]
    },
    {
      "cell_type": "code",
      "source": [
        "# Compute the confusion matrix\n",
        "from sklearn.metrics import confusion_matrix\n",
        "cm = confusion_matrix(y_true, y_pred)\n",
        "print(cm)\n"
      ],
      "metadata": {
        "colab": {
          "base_uri": "https://localhost:8080/"
        },
        "id": "uIq0dFRc-Jw-",
        "outputId": "3772471a-2414-405a-cc2d-19b401ce6461",
        "collapsed": true
      },
      "execution_count": null,
      "outputs": [
        {
          "output_type": "stream",
          "name": "stdout",
          "text": [
            "[[3 2]\n",
            " [1 4]]\n"
          ]
        }
      ]
    },
    {
      "cell_type": "code",
      "source": [
        "# Extract TN, FP, FN, TP from confusion matrix\n",
        "tn, fp, fn, tp = cm.ravel()\n",
        "\n",
        "# Print the results\n",
        "print(f'True Positives (TP): {tp}')\n",
        "print(f'True Negatives (TN): {tn}')\n",
        "print(f'False Positives (FP): {fp}')\n",
        "print(f'False Negatives (FN): {fn}')"
      ],
      "metadata": {
        "colab": {
          "base_uri": "https://localhost:8080/"
        },
        "id": "Eg_sw26q9L9Y",
        "outputId": "961246be-1280-41bb-d9aa-8bb480ec9e08",
        "collapsed": true
      },
      "execution_count": null,
      "outputs": [
        {
          "output_type": "stream",
          "name": "stdout",
          "text": [
            "True Positives (TP): 4\n",
            "True Negatives (TN): 3\n",
            "False Positives (FP): 2\n",
            "False Negatives (FN): 1\n"
          ]
        }
      ]
    },
    {
      "cell_type": "code",
      "source": [
        "# Display the confusion matrix\n",
        "from sklearn.metrics import ConfusionMatrixDisplay\n",
        "import matplotlib.pyplot as plt\n",
        "\n",
        "disp = ConfusionMatrixDisplay(confusion_matrix=cm, display_labels=['False', 'True'])\n",
        "disp.plot(cmap=plt.cm.Blues)\n",
        "plt.show()\n",
        "\n",
        "\n"
      ],
      "metadata": {
        "colab": {
          "base_uri": "https://localhost:8080/",
          "height": 455
        },
        "id": "7f5XjUcx1g7G",
        "outputId": "56b2a352-8c95-4f38-bad9-25c10e63640f"
      },
      "execution_count": null,
      "outputs": [
        {
          "output_type": "display_data",
          "data": {
            "text/plain": [
              "<Figure size 640x480 with 2 Axes>"
            ],
            "image/png": "[encoded data removed]"
          },
          "metadata": {}
        }
      ]
    },
    {
      "cell_type": "markdown",
      "source": [
        "# Chapter 7.3 Binary Classification – Evaluation Metrics"
      ],
      "metadata": {
        "id": "R-veZGVE72IX"
      }
    },
    {
      "cell_type": "code",
      "source": [
        "# Chapter 7.3 Binary Classification – Evaluation Metrics\n",
        "\n",
        "# Manual calculations for accuracy, precision, recall, and F1 score\n",
        "accuracy_manual = (tp + tn) / (tp + tn + fp + fn)\n",
        "precision_manual = tp / (tp + fp) if (tp + fp) != 0 else 0\n",
        "recall_manual = tp / (tp + fn) if (tp + fn) != 0 else 0\n",
        "f1_manual = 2 * (precision_manual * recall_manual) / (precision_manual + recall_manual) if (precision_manual + recall_manual) != 0 else 0\n",
        "\n",
        "\n",
        "# Print manual calculation results\n",
        "print(f'Accuracy (Manual): {accuracy_manual}')\n",
        "print(f'Precision (Manual): {precision_manual}')\n",
        "print(f'Recall (Manual): {recall_manual}')\n",
        "print(f'F1 Score (Manual): {f1_manual}')"
      ],
      "metadata": {
        "colab": {
          "base_uri": "https://localhost:8080/"
        },
        "id": "wBtPGw6X9_4j",
        "outputId": "f3f7c0b7-b489-4b5d-b2a4-d66f2b2781e6",
        "collapsed": true
      },
      "execution_count": null,
      "outputs": [
        {
          "output_type": "stream",
          "name": "stdout",
          "text": [
            "Accuracy (Manual): 0.7\n",
            "Precision (Manual): 0.6666666666666666\n",
            "Recall (Manual): 0.8\n",
            "F1 Score (Manual): 0.7272727272727272\n"
          ]
        }
      ]
    },
    {
      "cell_type": "code",
      "source": [
        "# Calculate accuracy, precision, recall, and F1 score\n",
        "from sklearn.metrics import accuracy_score, precision_score, recall_score, f1_score\n",
        "accuracy = accuracy_score(y_true, y_pred)\n",
        "precision = precision_score(y_true, y_pred)\n",
        "recall = recall_score(y_true, y_pred)\n",
        "f1 = f1_score(y_true, y_pred)\n",
        "\n",
        "\n",
        "# Print the results\n",
        "print(f'Accuracy: {accuracy}')\n",
        "print(f'Precision: {precision}')\n",
        "print(f'Recall: {recall}')\n",
        "print(f'F1 Score: {f1}')"
      ],
      "metadata": {
        "colab": {
          "base_uri": "https://localhost:8080/"
        },
        "id": "ch4mxFws9iW_",
        "outputId": "41112d3f-c804-4f6c-c494-c080606fdec2",
        "collapsed": true
      },
      "execution_count": null,
      "outputs": [
        {
          "output_type": "stream",
          "name": "stdout",
          "text": [
            "Accuracy: 0.7\n",
            "Precision: 0.6666666666666666\n",
            "Recall: 0.8\n",
            "F1 Score: 0.7272727272727272\n"
          ]
        }
      ]
    },
    {
      "cell_type": "markdown",
      "source": [
        "# Chapter 7.4 Binary Classification - Imbalanced Dataset"
      ],
      "metadata": {
        "id": "Kj56mWCh8eMF"
      }
    },
    {
      "cell_type": "code",
      "source": [
        "# Chapter 7.4 Binary Classification - Imbalanced Dataset\n",
        "import numpy as np\n",
        "\n",
        "# Mock data for y_true and y_pred using True and False\n",
        "y_true2 = np.array([True, False, False, False, False, False, False, False, False, False])\n",
        "\n",
        "y_pred2 = np.array([False, False, False, False, False, False,False, False, False, False])\n"
      ],
      "metadata": {
        "id": "zzDvkdr6_ikh"
      },
      "execution_count": null,
      "outputs": []
    },
    {
      "cell_type": "code",
      "source": [
        "# Compute the confusion matrix\n",
        "from sklearn.metrics import confusion_matrix\n",
        "cm2 = confusion_matrix(y_true2, y_pred2)\n",
        "print(cm2)\n"
      ],
      "metadata": {
        "colab": {
          "base_uri": "https://localhost:8080/"
        },
        "id": "fdnEMSw-ABAM",
        "outputId": "d05776d0-e52a-47c5-f4ee-6d65c91a61d2",
        "collapsed": true
      },
      "execution_count": null,
      "outputs": [
        {
          "output_type": "stream",
          "name": "stdout",
          "text": [
            "[[9 0]\n",
            " [1 0]]\n"
          ]
        }
      ]
    },
    {
      "cell_type": "code",
      "source": [
        "# Extract TN, FP, FN, TP from confusion matrix\n",
        "tn, fp, fn, tp = cm2.ravel()\n",
        "\n",
        "# Print the results\n",
        "print(f'True Positives (TP): {tp}')\n",
        "print(f'True Negatives (TN): {tn}')\n",
        "print(f'False Positives (FP): {fp}')\n",
        "print(f'False Negatives (FN): {fn}')"
      ],
      "metadata": {
        "colab": {
          "base_uri": "https://localhost:8080/"
        },
        "id": "sZEuqMnxAVYn",
        "outputId": "62e14379-e733-4245-fd78-054d9d45c8bd",
        "collapsed": true
      },
      "execution_count": null,
      "outputs": [
        {
          "output_type": "stream",
          "name": "stdout",
          "text": [
            "True Positives (TP): 0\n",
            "True Negatives (TN): 9\n",
            "False Positives (FP): 0\n",
            "False Negatives (FN): 1\n"
          ]
        }
      ]
    },
    {
      "cell_type": "code",
      "source": [
        "from sklearn.metrics import ConfusionMatrixDisplay, accuracy_score, precision_score, recall_score, f1_score\n",
        "accuracy = accuracy_score(y_true2, y_pred2)\n",
        "precision = precision_score(y_true2, y_pred2)\n",
        "recall = recall_score(y_true2, y_pred2)\n",
        "f1 = f1_score(y_true2, y_pred2)\n",
        "\n",
        "\n",
        "# Print the results\n",
        "print(f'Accuracy: {accuracy}')\n",
        "print(f'Precision: {precision}')\n",
        "print(f'Recall: {recall}')\n",
        "print(f'F1 Score: {f1}')"
      ],
      "metadata": {
        "colab": {
          "base_uri": "https://localhost:8080/"
        },
        "id": "BS6cNlCJAKpV",
        "outputId": "a45a366d-4c47-47a6-99e7-97459e8f7c57",
        "collapsed": true
      },
      "execution_count": null,
      "outputs": [
        {
          "output_type": "stream",
          "name": "stdout",
          "text": [
            "Accuracy: 0.9\n",
            "Precision: 0.0\n",
            "Recall: 0.0\n",
            "F1 Score: 0.0\n"
          ]
        },
        {
          "output_type": "stream",
          "name": "stderr",
          "text": [
            "/usr/local/lib/python3.10/dist-packages/sklearn/metrics/_classification.py:1344: UndefinedMetricWarning: Precision is ill-defined and being set to 0.0 due to no predicted samples. Use `zero_division` parameter to control this behavior.\n",
            "  _warn_prf(average, modifier, msg_start, len(result))\n"
          ]
        }
      ]
    },
    {
      "cell_type": "code",
      "source": [
        "# Manual calculation of sensitivity (recall for positive class)\n",
        "sensitivity = tp / (tp + fn) if (tp + fn) != 0 else 0\n",
        "\n",
        "# Manual calculation of specificity (recall for negative class)\n",
        "specificity = tn / (tn + fp) if (tn + fp) != 0 else 0\n",
        "\n",
        "# Manual calculation of balanced accuracy\n",
        "balanced_accuracy_manual = (sensitivity + specificity) / 2\n",
        "\n",
        "# Print manual calculation results\n",
        "print(f'Sensitivity (Recall for Positive Class): {sensitivity}')\n",
        "print(f'Specificity (Recall for Negative Class): {specificity}')\n",
        "print(f'Balanced Accuracy (Manual): {balanced_accuracy_manual}')"
      ],
      "metadata": {
        "colab": {
          "base_uri": "https://localhost:8080/"
        },
        "id": "ZeDSfTlQA6Ua",
        "outputId": "28aebf0c-19ac-4d66-b101-e55687d42f79",
        "collapsed": true
      },
      "execution_count": null,
      "outputs": [
        {
          "output_type": "stream",
          "name": "stdout",
          "text": [
            "Sensitivity (Recall for Positive Class): 0.0\n",
            "Specificity (Recall for Negative Class): 1.0\n",
            "Balanced Accuracy (Manual): 0.5\n"
          ]
        }
      ]
    },
    {
      "cell_type": "code",
      "source": [
        "from sklearn.metrics import balanced_accuracy_score\n",
        "\n",
        "# Assuming y_true2 and y_pred2 are defined\n",
        "balanced_accuracy = balanced_accuracy_score(y_true2, y_pred2)\n",
        "print(f'Balanced Accuracy: {balanced_accuracy}')"
      ],
      "metadata": {
        "colab": {
          "base_uri": "https://localhost:8080/"
        },
        "id": "8U3B4l6jA63T",
        "outputId": "e55d6611-5144-4c96-c06d-3b96ac9af2f6",
        "collapsed": true
      },
      "execution_count": null,
      "outputs": [
        {
          "output_type": "stream",
          "name": "stdout",
          "text": [
            "Balanced Accuracy: 0.5\n"
          ]
        }
      ]
    }
  ]
}