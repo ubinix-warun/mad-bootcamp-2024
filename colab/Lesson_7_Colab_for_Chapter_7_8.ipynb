{
  "nbformat": 4,
  "nbformat_minor": 0,
  "metadata": {
    "colab": {
      "provenance": [],
      "include_colab_link": true
    },
    "kernelspec": {
      "name": "python3",
      "display_name": "Python 3"
    },
    "language_info": {
      "name": "python"
    }
  },
  "cells": [
    {
      "cell_type": "markdown",
      "metadata": {
        "id": "view-in-github",
        "colab_type": "text"
      },
      "source": [
        "<a href=\"https://colab.research.google.com/github/ubinix-warun/mad-bootcamp-2024/blob/main/colab/Lesson_7_Colab_for_Chapter_7_8.ipynb\" target=\"_parent\"><img src=\"https://colab.research.google.com/assets/colab-badge.svg\" alt=\"Open In Colab\"/></a>"
      ]
    },
    {
      "cell_type": "markdown",
      "source": [
        "# Chapter 7.8 Regression"
      ],
      "metadata": {
        "id": "HiWGGrjBYr1o"
      }
    },
    {
      "cell_type": "markdown",
      "source": [
        "##1. Environment Setting"
      ],
      "metadata": {
        "id": "4VPHwJ4vYum0"
      }
    },
    {
      "cell_type": "code",
      "source": [
        "!pip install --upgrade scikit-learn==1.4"
      ],
      "metadata": {
        "colab": {
          "base_uri": "https://localhost:8080/"
        },
        "id": "-_he0lBpNpPy",
        "outputId": "8f5ee215-cc06-448c-bb02-fc80e9fd7960"
      },
      "execution_count": null,
      "outputs": [
        {
          "output_type": "stream",
          "name": "stdout",
          "text": [
            "Collecting scikit-learn==1.4\n",
            "  Downloading scikit_learn-1.4.0-1-cp310-cp310-manylinux_2_17_x86_64.manylinux2014_x86_64.whl (12.1 MB)\n",
            "\u001b[2K     \u001b[90m━━━━━━━━━━━━━━━━━━━━━━━━━━━━━━━━━━━━━━━━\u001b[0m \u001b[32m12.1/12.1 MB\u001b[0m \u001b[31m51.4 MB/s\u001b[0m eta \u001b[36m0:00:00\u001b[0m\n",
            "\u001b[?25hRequirement already satisfied: numpy<2.0,>=1.19.5 in /usr/local/lib/python3.10/dist-packages (from scikit-learn==1.4) (1.25.2)\n",
            "Requirement already satisfied: scipy>=1.6.0 in /usr/local/lib/python3.10/dist-packages (from scikit-learn==1.4) (1.11.4)\n",
            "Requirement already satisfied: joblib>=1.2.0 in /usr/local/lib/python3.10/dist-packages (from scikit-learn==1.4) (1.4.2)\n",
            "Requirement already satisfied: threadpoolctl>=2.0.0 in /usr/local/lib/python3.10/dist-packages (from scikit-learn==1.4) (3.5.0)\n",
            "Installing collected packages: scikit-learn\n",
            "  Attempting uninstall: scikit-learn\n",
            "    Found existing installation: scikit-learn 1.2.2\n",
            "    Uninstalling scikit-learn-1.2.2:\n",
            "      Successfully uninstalled scikit-learn-1.2.2\n",
            "Successfully installed scikit-learn-1.4.0\n"
          ]
        }
      ]
    },
    {
      "cell_type": "markdown",
      "source": [
        "## 2.Given Data"
      ],
      "metadata": {
        "id": "F24cQBweU9XB"
      }
    },
    {
      "cell_type": "code",
      "execution_count": null,
      "metadata": {
        "id": "4gODc1AOYjDC"
      },
      "outputs": [],
      "source": [
        "# Chapter 7.8 Regression\n",
        "import numpy as np\n",
        "\n",
        "# True values\n",
        "y_true = np.array([10, 20, 30, 40, 50])\n",
        "\n",
        "# Predicted values\n",
        "y_pred = np.array([12, 18, 30, 32, 51])\n"
      ]
    },
    {
      "cell_type": "markdown",
      "source": [
        "## 3. Manual calculations"
      ],
      "metadata": {
        "id": "6_Vtz6-_U_4u"
      }
    },
    {
      "cell_type": "code",
      "source": [
        "# Manual calculations\n",
        "\n",
        "# Mean Absolute Error (MAE)\n",
        "mae_manual = np.mean(np.abs(y_true - y_pred))\n",
        "\n",
        "# Mean Squared Error (MSE)\n",
        "mse_manual = np.mean((y_true - y_pred)**2)\n",
        "\n",
        "# Root Mean Squared Error (RMSE)\n",
        "rmse_manual = np.sqrt(mse_manual)\n",
        "\n",
        "# Mean Absolute Percentage Error (MAPE)\n",
        "mape_manual = np.mean(np.abs((y_true - y_pred) / y_true) * 100)\n",
        "\n",
        "# R-squared (R^2)\n",
        "ss_res = np.sum((y_true - y_pred)**2)\n",
        "ss_total = np.sum((y_true - np.mean(y_true))**2)\n",
        "r2_manual = 1 - (ss_res / ss_total)\n",
        "\n",
        "# Printing results\n",
        "print(f\"Manual Calculations:\")\n",
        "print(f\"MAE: {mae_manual}\")\n",
        "print(f\"MSE: {mse_manual}\")\n",
        "print(f\"RMSE: {rmse_manual}\")\n",
        "print(f\"MAPE: {mape_manual}\")\n",
        "print(f\"R-squared: {r2_manual}\\n\")\n",
        "\n",
        "\n"
      ],
      "metadata": {
        "colab": {
          "base_uri": "https://localhost:8080/"
        },
        "id": "EJHmj-cqN5fG",
        "outputId": "a01e9797-4627-45cf-ac54-a0b40d7e81a5"
      },
      "execution_count": null,
      "outputs": [
        {
          "output_type": "stream",
          "name": "stdout",
          "text": [
            "Manual Calculations:\n",
            "MAE: 2.6\n",
            "MSE: 14.6\n",
            "RMSE: 3.82099463490856\n",
            "MAPE: 10.4\n",
            "R-squared: 0.927\n",
            "\n"
          ]
        }
      ]
    },
    {
      "cell_type": "markdown",
      "source": [
        "## 4. Library calculations"
      ],
      "metadata": {
        "id": "yYTtUXwKVDeT"
      }
    },
    {
      "cell_type": "code",
      "source": [
        "# Library calculations\n",
        "from sklearn.metrics import mean_absolute_error, mean_squared_error, root_mean_squared_error, mean_absolute_percentage_error, r2_score\n",
        "\n",
        "# MAE\n",
        "mae_lib = mean_absolute_error(y_true, y_pred)\n",
        "\n",
        "# MSE\n",
        "mse_lib = mean_squared_error(y_true, y_pred)\n",
        "\n",
        "# RMSE\n",
        "rmse_lib = root_mean_squared_error(y_true, y_pred)\n",
        "\n",
        "# MAPE\n",
        "mape_lib = mean_absolute_percentage_error(y_true, y_pred)\n",
        "\n",
        "# R-squared\n",
        "r2_lib = r2_score(y_true, y_pred)\n",
        "\n",
        "\n",
        "\n",
        "print(f\"Library Calculations:\")\n",
        "print(f\"MAE: {mae_lib}\")\n",
        "print(f\"MSE: {mse_lib}\")\n",
        "print(f\"RMSE: {rmse_lib}\")\n",
        "print(f\"MAPE: {mape_lib}\")\n",
        "print(f\"R-squared: {r2_lib}\")`\n"
      ],
      "metadata": {
        "colab": {
          "base_uri": "https://localhost:8080/"
        },
        "id": "z-rOnppFODSX",
        "outputId": "72f0d052-06ca-4c27-b3ef-8535f06a48c6"
      },
      "execution_count": null,
      "outputs": [
        {
          "output_type": "stream",
          "name": "stdout",
          "text": [
            "Library Calculations:\n",
            "MAE: 2.6\n",
            "MSE: 14.6\n",
            "RMSE: 3.82099463490856\n",
            "MAPE: 0.10400000000000001\n",
            "R-squared: 0.927\n"
          ]
        }
      ]
    }
  ]
}