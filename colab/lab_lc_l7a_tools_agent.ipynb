{
  "cells": [
    {
      "cell_type": "markdown",
      "metadata": {
        "id": "view-in-github",
        "colab_type": "text"
      },
      "source": [
        "<a href=\"https://colab.research.google.com/github/ubinix-warun/mad-bootcamp-2024/blob/main/colab/lab_lc_l7a_tools_agent.ipynb\" target=\"_parent\"><img src=\"https://colab.research.google.com/assets/colab-badge.svg\" alt=\"Open In Colab\"/></a>"
      ]
    },
    {
      "cell_type": "markdown",
      "id": "5e6d1c5a",
      "metadata": {
        "id": "5e6d1c5a"
      },
      "source": [
        "# LC-L7a-Lab: Tools/Agent\n",
        "\n",
        "This code lab will guide you through the basics of LangChain Agent and Tools calling."
      ]
    },
    {
      "cell_type": "code",
      "execution_count": null,
      "id": "3c809772",
      "metadata": {
        "ExecuteTime": {
          "end_time": "2024-06-06T18:16:44.909096Z",
          "start_time": "2024-06-06T18:16:41.370232Z"
        },
        "collapsed": true,
        "id": "3c809772"
      },
      "outputs": [],
      "source": [
        "!pip install -q langchain==0.2.2\n",
        "!pip install -q langchain_community==0.2.3\n",
        "!pip install -q langchain-openai==0.1.8\n",
        "!pip install -q langgraph==0.0.64\n",
        "\n",
        "!pip install -q requests==2.32.3\n",
        "!pip install -q beautifulsoup4==4.12.2"
      ]
    },
    {
      "cell_type": "markdown",
      "id": "81296c66",
      "metadata": {
        "id": "81296c66"
      },
      "source": [
        "## Prerequisite: Generate OpenAI key\n",
        "\n",
        "Generate key from: https://platform.openai.com/api-keys"
      ]
    },
    {
      "cell_type": "code",
      "execution_count": null,
      "id": "7070a7e6",
      "metadata": {
        "ExecuteTime": {
          "end_time": "2024-06-06T19:23:22.819189Z",
          "start_time": "2024-06-06T19:23:22.817217Z"
        },
        "id": "7070a7e6"
      },
      "outputs": [],
      "source": [
        "import os\n",
        "\n",
        "# TODO-1: put your generated openai key here\n",
        "os.environ[\"OPENAI_API_KEY\"] = \"\""
      ]
    },
    {
      "cell_type": "markdown",
      "id": "335a1c27",
      "metadata": {
        "id": "335a1c27"
      },
      "source": [
        "## Task1: Build KBank Job Search Tools"
      ]
    },
    {
      "cell_type": "code",
      "execution_count": null,
      "id": "1c56a85f",
      "metadata": {
        "ExecuteTime": {
          "end_time": "2024-06-06T18:51:37.636577Z",
          "start_time": "2024-06-06T18:51:37.634344Z"
        },
        "id": "1c56a85f"
      },
      "outputs": [],
      "source": [
        "from langchain_openai import ChatOpenAI\n",
        "from langchain_core.messages import HumanMessage, SystemMessage\n",
        "from langchain_core.prompts import ChatPromptTemplate\n",
        "from langchain_core.output_parsers import StrOutputParser, JsonOutputParser\n",
        "\n",
        "from bs4 import BeautifulSoup"
      ]
    },
    {
      "cell_type": "code",
      "execution_count": null,
      "id": "72c05490",
      "metadata": {
        "ExecuteTime": {
          "end_time": "2024-06-06T18:46:24.454935Z",
          "start_time": "2024-06-06T18:46:24.442466Z"
        },
        "id": "72c05490"
      },
      "outputs": [],
      "source": [
        "# model\n",
        "model = ChatOpenAI(model=\"gpt-3.5-turbo\", temperature=0.0)\n",
        "\n",
        "# prompt template\n",
        "prompt_template = ChatPromptTemplate.from_messages(\n",
        "    [(\"system\",\n",
        "\"\"\"\n",
        "You are HTML content extractor.\n",
        "A HTML text will be given, your task is to parse information into JSON with these following keys:\n",
        "- job_title: string, a job title name.\n",
        "- job_link: string, a url link to job description page, typically after \"href=\"\n",
        "- job_location: string, a job location.\n",
        "- job_facility: string, a job facility.\n",
        "answer as JSON object.\n",
        "\"\"\"),\n",
        "     (\"user\", \"{html}\")]\n",
        ")\n",
        "\n",
        "# parser\n",
        "parser = JsonOutputParser()\n",
        "\n",
        "html_job_extractor_chain = prompt_template | model | parser"
      ]
    },
    {
      "cell_type": "code",
      "execution_count": null,
      "id": "2ed8d25b",
      "metadata": {
        "ExecuteTime": {
          "end_time": "2024-06-06T19:29:38.558903Z",
          "start_time": "2024-06-06T19:29:38.554637Z"
        },
        "id": "2ed8d25b"
      },
      "outputs": [],
      "source": [
        "import requests, json\n",
        "from langchain.pydantic_v1 import BaseModel, Field\n",
        "from typing import List\n",
        "from langchain_core.tools import tool\n",
        "\n",
        "\n",
        "class JobEntry(BaseModel):\n",
        "    job_title: str = Field(description=\"job title name.\")\n",
        "    job_link: str = Field(description=\"url link to job description page.\")\n",
        "    job_location: str = Field(description=\"job location.\")\n",
        "    job_facility: str = Field(description=\"job facility.\")\n",
        "    job_description: str = Field(description=\"job description.\")\n",
        "\n",
        "# note: this run in sync (future works: change to async)\n",
        "\n",
        "def get_job_description(url):\n",
        "    response = requests.get(\"https://www.kasikorncareers.com\"+url)\n",
        "    html_content = response.text\n",
        "    soup = BeautifulSoup(html_content, 'html.parser')\n",
        "    job_desc_content = soup.find('span', class_='jobdescription')\n",
        "    return job_desc_content.get_text()\n",
        "\n",
        "@tool\n",
        "def search_job(query: str) -> List[JobEntry]:\n",
        "    \"\"\"searching the opening job.\"\"\"\n",
        "\n",
        "    # make GET request\n",
        "    query_text = \"+\".join([e for e in query.split(\" \") if e])\n",
        "    response = requests.get(\"https://www.kasikorncareers.com/search/?q=\"+query_text)\n",
        "\n",
        "    # using bs to extract only job content\n",
        "    html_content = response.text\n",
        "    soup = BeautifulSoup(html_content, 'html.parser')\n",
        "    html_job_contents = soup.find_all('td', class_='colTitle')\n",
        "\n",
        "    # prase job content from HTML to json using LLM!\n",
        "    jobs, max_job = [], 3\n",
        "    for each_job_content in html_job_contents[:max_job]:\n",
        "        try:\n",
        "            job_detail = html_job_extractor_chain.invoke({\"html\": each_job_content})\n",
        "            job_detail[\"job_description\"] = get_job_description(job_detail[\"job_link\"])\n",
        "            jobs.append(job_detail)\n",
        "        except:\n",
        "            print(\"warning: error parsing html job\")\n",
        "            pass\n",
        "\n",
        "    return jobs"
      ]
    },
    {
      "cell_type": "code",
      "execution_count": null,
      "id": "96614b75",
      "metadata": {
        "ExecuteTime": {
          "end_time": "2024-06-06T19:31:35.111363Z",
          "start_time": "2024-06-06T19:31:32.474404Z"
        },
        "id": "96614b75"
      },
      "outputs": [],
      "source": [
        "search_job(\"Software Developer\")"
      ]
    },
    {
      "cell_type": "code",
      "source": [
        "search_job(\"Analyst\")"
      ],
      "metadata": {
        "id": "QYvvPob3Yfip"
      },
      "id": "QYvvPob3Yfip",
      "execution_count": null,
      "outputs": []
    },
    {
      "cell_type": "markdown",
      "source": [
        "## Task2: Write Agent"
      ],
      "metadata": {
        "id": "wNAAMfGZW6JH"
      },
      "id": "wNAAMfGZW6JH"
    },
    {
      "cell_type": "code",
      "execution_count": null,
      "id": "2434a0f1",
      "metadata": {
        "ExecuteTime": {
          "end_time": "2024-06-06T19:35:01.675777Z",
          "start_time": "2024-06-06T19:35:01.661583Z"
        },
        "id": "2434a0f1"
      },
      "outputs": [],
      "source": [
        "from langgraph.prebuilt import create_react_agent\n",
        "from langgraph.checkpoint.sqlite import SqliteSaver\n",
        "\n",
        "memory = SqliteSaver.from_conn_string(\":memory:\")\n",
        "\n",
        "model = ChatOpenAI(model=\"gpt-3.5-turbo\", temperature=0.0)\n",
        "\n",
        "agent_executor = create_react_agent(model, [search_job], checkpointer=memory)\n",
        "config = {\"configurable\": {\"thread_id\": \"room-0001\"}}"
      ]
    },
    {
      "cell_type": "code",
      "execution_count": null,
      "id": "8bd55e92",
      "metadata": {
        "ExecuteTime": {
          "end_time": "2024-06-06T19:35:42.397057Z",
          "start_time": "2024-06-06T19:35:41.434679Z"
        },
        "id": "8bd55e92"
      },
      "outputs": [],
      "source": [
        "response = agent_executor.invoke({\"messages\": [HumanMessage(content=\"hi! I'm KhunThong\")]}, config)\n",
        "\n",
        "response[\"messages\"]"
      ]
    },
    {
      "cell_type": "code",
      "execution_count": null,
      "id": "8f861cf4",
      "metadata": {
        "ExecuteTime": {
          "end_time": "2024-06-06T19:35:59.997020Z",
          "start_time": "2024-06-06T19:35:58.673193Z"
        },
        "id": "8f861cf4"
      },
      "outputs": [],
      "source": [
        "response = agent_executor.invoke({\"messages\": [HumanMessage(content=\"what is my name\")]}, config)\n",
        "\n",
        "response[\"messages\"][-1].content"
      ]
    },
    {
      "cell_type": "code",
      "execution_count": null,
      "id": "aa9ba364",
      "metadata": {
        "ExecuteTime": {
          "end_time": "2024-06-06T19:30:05.585319Z",
          "start_time": "2024-06-06T19:29:55.294768Z"
        },
        "collapsed": true,
        "id": "aa9ba364"
      },
      "outputs": [],
      "source": [
        "response = agent_executor.invoke({\"messages\": [HumanMessage(content= \"Hello, Do you have Analyst Job opening?\")]}, config)\n",
        "\n",
        "response[\"messages\"]"
      ]
    },
    {
      "cell_type": "code",
      "source": [
        "response[\"messages\"][-1].content"
      ],
      "metadata": {
        "id": "rR2r4nFJaUle"
      },
      "id": "rR2r4nFJaUle",
      "execution_count": null,
      "outputs": []
    }
  ],
  "metadata": {
    "kernelspec": {
      "display_name": "Python 3 (ipykernel)",
      "language": "python",
      "name": "python3"
    },
    "language_info": {
      "codemirror_mode": {
        "name": "ipython",
        "version": 3
      },
      "file_extension": ".py",
      "mimetype": "text/x-python",
      "name": "python",
      "nbconvert_exporter": "python",
      "pygments_lexer": "ipython3",
      "version": "3.11.0"
    },
    "toc": {
      "base_numbering": 1,
      "nav_menu": {},
      "number_sections": true,
      "sideBar": true,
      "skip_h1_title": false,
      "title_cell": "Table of Contents",
      "title_sidebar": "Contents",
      "toc_cell": false,
      "toc_position": {},
      "toc_section_display": true,
      "toc_window_display": false
    },
    "colab": {
      "provenance": [],
      "toc_visible": true,
      "include_colab_link": true
    }
  },
  "nbformat": 4,
  "nbformat_minor": 5
}