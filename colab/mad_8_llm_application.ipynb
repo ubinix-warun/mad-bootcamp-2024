{
  "nbformat": 4,
  "nbformat_minor": 0,
  "metadata": {
    "colab": {
      "provenance": [],
      "include_colab_link": true
    },
    "kernelspec": {
      "name": "python3",
      "display_name": "Python 3"
    },
    "language_info": {
      "name": "python"
    }
  },
  "cells": [
    {
      "cell_type": "markdown",
      "metadata": {
        "id": "view-in-github",
        "colab_type": "text"
      },
      "source": [
        "<a href=\"https://colab.research.google.com/github/ubinix-warun/mad-bootcamp-2024/blob/main/colab/mad_8_llm_application.ipynb\" target=\"_parent\"><img src=\"https://colab.research.google.com/assets/colab-badge.svg\" alt=\"Open In Colab\"/></a>"
      ]
    },
    {
      "cell_type": "markdown",
      "source": [
        "**Note**: For those who are not familiar with Google's Colab, please visit https://colab.research.google.com/ for more information and how-to."
      ],
      "metadata": {
        "id": "xFCsVQ9ndRpF"
      }
    },
    {
      "cell_type": "markdown",
      "source": [
        "\n",
        "<h1> 0. OpenAI's API Setup </h1>"
      ],
      "metadata": {
        "id": "gLLai970Yvyh"
      }
    },
    {
      "cell_type": "markdown",
      "source": [
        "Install the Openai module"
      ],
      "metadata": {
        "id": "5EynbIdrKzAA"
      }
    },
    {
      "cell_type": "code",
      "source": [
        "!pip install openai"
      ],
      "metadata": {
        "id": "0A7z6bVU5fkn",
        "collapsed": true
      },
      "execution_count": null,
      "outputs": []
    },
    {
      "cell_type": "markdown",
      "source": [
        "Check for the version of OpenAI module. <br>\n",
        "The version should be 1.0.0 or above. If not, run `!pip install --upgrade --force-reinstall openai`"
      ],
      "metadata": {
        "id": "if_dRNFWA5Qv"
      }
    },
    {
      "cell_type": "code",
      "source": [
        "import openai\n",
        "print(openai.__version__)"
      ],
      "metadata": {
        "colab": {
          "base_uri": "https://localhost:8080/"
        },
        "id": "pznrQLGv5X7J",
        "outputId": "16421bee-39dd-443d-ce57-536726918a4d"
      },
      "execution_count": null,
      "outputs": [
        {
          "output_type": "stream",
          "name": "stdout",
          "text": [
            "1.35.3\n"
          ]
        }
      ]
    },
    {
      "cell_type": "code",
      "source": [
        "OPENAI_API_KEY = '<your api key>'\n",
        "GPT4 = 'gpt-4-1106-preview'\n",
        "GPT3 = \"gpt-3.5-turbo\""
      ],
      "metadata": {
        "id": "VYJl6dit5sIk"
      },
      "execution_count": null,
      "outputs": []
    },
    {
      "cell_type": "markdown",
      "source": [
        "<h3> Helper Function for API Calling<h3>"
      ],
      "metadata": {
        "id": "AsrVSmonAs0l"
      }
    },
    {
      "cell_type": "markdown",
      "source": [
        "To connect to OpenAI API, the API key is passed into `openai` instance."
      ],
      "metadata": {
        "id": "qMvjytT2Cahs"
      }
    },
    {
      "cell_type": "code",
      "source": [
        "client = openai.OpenAI(api_key=OPENAI_API_KEY)"
      ],
      "metadata": {
        "id": "4e5oIgQy5veO"
      },
      "execution_count": null,
      "outputs": []
    },
    {
      "cell_type": "markdown",
      "source": [
        "In this demonstration, we will be using OpenAI's `gpt-3.5-turbo` model and the chat completion endpoint `client.chat.completions` as shown in function `get_completion`."
      ],
      "metadata": {
        "id": "ztZELQNKBTA9"
      }
    },
    {
      "cell_type": "code",
      "source": [
        "def get_completion(prompt, model=GPT3):\n",
        "    messages = [{\"role\": \"user\", \"content\": prompt}]\n",
        "    response = client.chat.completions.create(\n",
        "        model=model,\n",
        "        messages=messages,\n",
        "        temperature=0\n",
        "    )\n",
        "    return response.choices[0].message.content"
      ],
      "metadata": {
        "id": "Kua5i5VJCYD6"
      },
      "execution_count": null,
      "outputs": []
    },
    {
      "cell_type": "markdown",
      "source": [
        "Check for API connection, try asking some question by replacing `<insert your question>` with your own."
      ],
      "metadata": {
        "id": "_nJtHyxpC4Ac"
      }
    },
    {
      "cell_type": "code",
      "source": [
        "text = \"\"\"\n",
        "<insert your question>\n",
        "\"\"\"\n",
        "\n",
        "prompt = f\"\"\"\n",
        "As an professional assistance, answer the given question, or instruction, outlined by angle brackets.\n",
        "Text: <{text}>\n",
        "\"\"\"\n",
        "\n",
        "resp = get_completion(f'{prompt}')\n",
        "print(resp)"
      ],
      "metadata": {
        "colab": {
          "base_uri": "https://localhost:8080/"
        },
        "id": "PwlgtMZ45w8Z",
        "outputId": "5abe069f-d0bd-4391-8506-a9d403f728d3"
      },
      "execution_count": null,
      "outputs": [
        {
          "output_type": "stream",
          "name": "stdout",
          "text": [
            "Why did the scarecrow win an award? Because he was outstanding in his field!\n"
          ]
        }
      ]
    },
    {
      "cell_type": "markdown",
      "source": [
        "<h1> 1. LangChain: Post Tagging <h1>"
      ],
      "metadata": {
        "id": "qBqgVPkkl_xh"
      }
    },
    {
      "cell_type": "markdown",
      "source": [
        "<h2> 1.1 Setup </h2>"
      ],
      "metadata": {
        "id": "HR3EehjHcIwl"
      }
    },
    {
      "cell_type": "markdown",
      "source": [
        "**Installation**\n",
        "*   LangChain Core\n",
        "*   LangChain for OpenAI\n",
        "*   LangChain from Community (in case that langchain-openai requires)"
      ],
      "metadata": {
        "id": "Fd1qI1OkYy-L"
      }
    },
    {
      "cell_type": "code",
      "source": [
        "!pip install langchain\n",
        "!pip install langchain-openai\n",
        "!pip install langchain-community"
      ],
      "metadata": {
        "id": "MDA5OTpzmDae",
        "collapsed": true
      },
      "execution_count": null,
      "outputs": []
    },
    {
      "cell_type": "markdown",
      "source": [
        "**Import**\n",
        "*   `ChatOpenAI`: For creating `llms` object\n",
        "*   `ChatPromptTemplate`: For generating `prompt` from prompt template\n",
        "*   `BaseModel, Field, List`: For creating `schema` object"
      ],
      "metadata": {
        "id": "ilMZ_FqDeHLI"
      }
    },
    {
      "cell_type": "code",
      "source": [
        "from langchain_openai import ChatOpenAI\n",
        "from langchain_core.prompts import ChatPromptTemplate\n",
        "from langchain_core.pydantic_v1 import BaseModel, Field\n",
        "from typing import List"
      ],
      "metadata": {
        "id": "ELFqzDHFm_gd"
      },
      "execution_count": null,
      "outputs": []
    },
    {
      "cell_type": "markdown",
      "source": [
        "<h2> 1.2 Data for Demonstration </h2>\n",
        "\n",
        "In this demo, we will be using some mock social media posts, `post_list`, for LangChain Tagging. There are, in total, 10 items in this object. Each of which is a `post-tags` pair, where `post` is a string containing the content of the social media post and the `tags` are the categories or topics that best represent the post.\n"
      ],
      "metadata": {
        "id": "DXo8LMXEcEN-"
      }
    },
    {
      "cell_type": "code",
      "source": [
        "post_list = [\n",
        "    {\n",
        "        \"post\": \"Just finished a killer workout at the gym! Feeling pumped! 💪\",\n",
        "        \"tags\": [\"Fitness\", \"Health\"]\n",
        "    },\n",
        "    {\n",
        "        \"post\": \"Exploring the awesome streets of Paris today. The Eiffel Tower is lit! #travel\",\n",
        "        \"tags\": [\"Travel\", \"Tourism\"]\n",
        "    },\n",
        "    {\n",
        "        \"post\": \"Made a bomb homemade pizza tonight. It was a hit with the fam! 🍕 Extra cheese and fresh basil, definitely doing this again!\",\n",
        "        \"tags\": [\"Food\", \"Cooking\"]\n",
        "    },\n",
        "    {\n",
        "        \"post\": \"Can't wait for the new tech conference next week! So hyped to see the latest gadgets. #TechGeek. Hoping to get a sneak peek at the new smartphones and VR headsets.\",\n",
        "        \"tags\": [\"Tech\", \"Events\"]\n",
        "    },\n",
        "    {\n",
        "        \"post\": \"Watching the game tonight with the crew. Go team! 🏀 We're all decked out in our jerseys and cheering loud. This season has been epic so far!\",\n",
        "        \"tags\": [\"Sports\", \"Entertainment\"]\n",
        "    },\n",
        "    {\n",
        "        \"post\": \"Started a new book today. Loving the mystery and suspense so far. The plot twists are keeping me on the edge of my seat. Highly recommend this to any thriller fans!\",\n",
        "        \"tags\": [\"Books\", \"Entertainment\"]\n",
        "    },\n",
        "    {\n",
        "        \"post\": \"Just copped a new camera. Can't wait to snap some amazing photos on my next trip. Looking forward to capturing beautiful landscapes and candid moments. Any tips for a newbie photographer?\",\n",
        "        \"tags\": [\"Photography\", \"Travel\"]\n",
        "    },\n",
        "    {\n",
        "        \"post\": \"Hit up an amazing concert last night. The energy was insane! The band played all their bangers and the crowd was electric. It was a night to remember.\",\n",
        "        \"tags\": [\"Music\", \"Events\"]\n",
        "    },\n",
        "    {\n",
        "        \"post\": \"Spent the afternoon gardening and planting new flowers. It's so chill to be outdoors. #green #environment\",\n",
        "        \"tags\": [\"Gardening\", \"Outdoor\"]\n",
        "    },\n",
        "    {\n",
        "        \"post\": \"Had an awesome dinner at the new Italian spot downtown. The pasta was delish and the service was on point.\",\n",
        "        \"tags\": [\"Food\", \"Dining\"]\n",
        "    }\n",
        "]\n"
      ],
      "metadata": {
        "id": "Cum-RM0cJA3Q"
      },
      "execution_count": null,
      "outputs": []
    },
    {
      "cell_type": "markdown",
      "source": [
        "<h2> 1.3 Setting up LLM Model, Prompt, and Schema for output format </h2>"
      ],
      "metadata": {
        "id": "Y3zIHJljb6ff"
      }
    },
    {
      "cell_type": "markdown",
      "source": [
        "<h3> LLM Model </h3>\n",
        "\n",
        "Setup LangChain's LLM Object using our `OPENAI_API_KEY` from the previous section. The model used in this demonstration is `gpt-3.5-turbo`. The method  `ChatOpenAI` is a function for creating `llms` object. This object will be our processing core of the overall chain."
      ],
      "metadata": {
        "id": "2LhAPZVRZp_P"
      }
    },
    {
      "cell_type": "code",
      "source": [
        "llm = ChatOpenAI(temperature=0, model=GPT3, openai_api_key=OPENAI_API_KEY)"
      ],
      "metadata": {
        "id": "VDuDjXAAnF4y"
      },
      "execution_count": null,
      "outputs": []
    },
    {
      "cell_type": "markdown",
      "source": [
        "<h3> Prompt </h3>\n",
        "\n",
        "`ChatPromptTemplate` is a Langchain PromptTemplate sub-module, specifically for ChatPrompt. With `ChatPromptTemplate.from_template`, this will create a `prompts` object, waiting for the `post` or data to be plugged in. The object will, then, be fed into the `llms` object."
      ],
      "metadata": {
        "id": "3XxO5CwF3feF"
      }
    },
    {
      "cell_type": "code",
      "source": [
        "tagging_prompt = ChatPromptTemplate.from_template(\n",
        "\"\"\"\n",
        "You are an expert text classifier. Your task is to assign relevant tags to the given social media post.\n",
        "The tags should accurately represent the main topics or categories of the post.\n",
        "\n",
        "Here is the social media post:\n",
        "\"{post}\"\n",
        "\"\"\"\n",
        ")"
      ],
      "metadata": {
        "id": "ROWapDyShrIt"
      },
      "execution_count": null,
      "outputs": []
    },
    {
      "cell_type": "markdown",
      "source": [
        "<h3> Schema </h3>\n",
        "\n",
        "The `schema` used in this demonstration is a Pydantic-model (or dictionary type) acting as a structure format of the tagging task for the LLM to process efficiently. Its purpose is to indicate details of each output field, its desciption, data type, etc.\n",
        "\n",
        "For more infomation, check out https://docs.pydantic.dev/latest/ .\n",
        "<br>\n",
        "<br>\n",
        "The following are the Tagging Fields in this example. Each field requires a `type` (`int`, `str`, `bool`, etc.), to specify the output type, and `description`, which is an instruction of what the LLM should do for this field.\n",
        "\n",
        "*   `categories`:\n",
        "    - **Type**: Array of strings\n",
        "    - **Description**: The categories or topics that best represent the social media post. At least two tags should be provided. If fewer than two clear tags are identified, repeat the most relevant tag to ensure at least two tags.\n",
        "    \n",
        "*   `summary`(optional):\n",
        "    - **Type**: String\n",
        "    - **Description**: A brief summary of the social media post, capturing the main idea or activity described. If the post is too short to summarize meaningfully, repeat the post itself.\n",
        "    \n",
        "*   `sentiment`(optional):\n",
        "    - **Type**: String\n",
        "    - **Description**: The sentiment analysis of the social media post, categorized as 'Positive', 'Neutral', or 'Negative'. Provide a single word indicating the sentiment.\n",
        "\n",
        "Lastly, as mentioned, these tagging fields (`tags`, `summary`, `sentiment`) are just for this demonstration. They can be customized into any field that the users want. For example, count number of hashtag or get a list of places mentioned in the post."
      ],
      "metadata": {
        "id": "myeM4bhAeIII"
      }
    },
    {
      "cell_type": "code",
      "source": [
        "class TaggingSchema(BaseModel):\n",
        "    categories: List[str] = Field(\n",
        "        description=\"\"\"Given a social media post, identify and extract at least two tags that best represent the main topics or categories of the post.\n",
        "        If there are fewer than two clear tags, repeat the most relevant tag to ensure at least two tags are always provided. The tags should be general topics, do not include any specific term.\n",
        "        The output should be an array of these tags.\"\"\",\n",
        "        min_items=2\n",
        "    )\n",
        "    summary: str = Field(\n",
        "        description=\"\"\"Provide a brief summary of the social media post. This summary should capture the main idea or activity described in the post,\n",
        "        using concise and clear language. If the post is too short to summarize meaningfully, repeat the post itself.\"\"\"\n",
        "    )\n",
        "    sentiment: str = Field(\n",
        "        description=\"\"\"Analyze the sentiment of the social media post. Categorize the sentiment as 'Positive', 'Neutral', or 'Negative' based on the tone and content of the post.\n",
        "        Provide a single word indicating the sentiment.\"\"\",\n",
        "        enum=['Positive', 'Negative', 'Neutral']\n",
        "    )"
      ],
      "metadata": {
        "id": "ORDKZVYOZ7eM"
      },
      "execution_count": null,
      "outputs": []
    },
    {
      "cell_type": "markdown",
      "source": [
        "Alternatively, the schema can also be construct from normal python dictionary. This will yield the same result as the Pydantic Model."
      ],
      "metadata": {
        "id": "kyPysagw5NW6"
      }
    },
    {
      "cell_type": "code",
      "source": [
        "dict_schema = {\n",
        "    'title': 'TaggingSchema',\n",
        "    'type': 'object',\n",
        "    'description': 'Schema for tagging, summarizing, and analyzing sentiment of Social Media Posts',\n",
        "    \"properties\": {\n",
        "        \"categories\": {\n",
        "            \"type\": \"array\",\n",
        "            \"minItems\": 2,\n",
        "            \"items\": {\n",
        "                \"type\": \"string\"\n",
        "            },\n",
        "            \"description\": \"\"\"Given a social media post, identify and extract at least two tags that best represent the main topics or categories of the post.\n",
        "            If there are fewer than two clear tags, repeat the most relevant tag to ensure at least two tags are always provided.\n",
        "            The output should be an array of these tags.\"\"\"\n",
        "        },\n",
        "        \"summary\": {\n",
        "            \"type\": \"string\",\n",
        "            \"description\": \"\"\"Provide a brief summary of the social media post. This summary should capture the main idea or activity described in the post,\n",
        "            using concise and clear language. If the post is too short to summarize meaningfully, repeat the post itself.\"\"\"\n",
        "        },\n",
        "        \"sentiment\": {\n",
        "            \"type\": \"string\",\n",
        "            \"description\": \"\"\"Analyze the sentiment of the social media post. Categorize the sentiment as 'Positive', 'Neutral', or 'Negative' based on the tone and content of the post.\n",
        "            Provide a single word indicating the sentiment.\"\"\",\n",
        "            'enum': ['Positive', 'Negative', 'Neutral']\n",
        "        },\n",
        "    },\n",
        "    'required': ['tags', 'summary', 'sentiment']\n",
        "}"
      ],
      "metadata": {
        "id": "QrjNadgNmwV-"
      },
      "execution_count": null,
      "outputs": []
    },
    {
      "cell_type": "markdown",
      "source": [
        "The schema is, then, applied to the `llm` object with function `with_structured_output` forcing the output to be in our configured format."
      ],
      "metadata": {
        "id": "9_Qax9Heg22u"
      }
    },
    {
      "cell_type": "code",
      "source": [
        "llm_structured = llm.with_structured_output(TaggingSchema)\n",
        "\n",
        "# in case you use the dictionary version of schema\n",
        "# llm_structured = llm.with_structured_output(dict_schema)"
      ],
      "metadata": {
        "id": "xQ2q7JDdfGfw"
      },
      "execution_count": null,
      "outputs": []
    },
    {
      "cell_type": "markdown",
      "source": [
        "<h2> 1.3 Create Tagging Chain and Apply </h2>"
      ],
      "metadata": {
        "id": "ysPLEL2Tg0pn"
      }
    },
    {
      "cell_type": "markdown",
      "source": [
        "After all components are set, including `llm_structured` and `tagging_prompt`, we create a `chain` object using LangChain Expression Language (LCEL) (`|`)."
      ],
      "metadata": {
        "id": "_odv9b7ihIk4"
      }
    },
    {
      "cell_type": "code",
      "source": [
        "tagging_chain = tagging_prompt | llm_structured"
      ],
      "metadata": {
        "id": "n78mIEPNfH4A"
      },
      "execution_count": null,
      "outputs": []
    },
    {
      "cell_type": "markdown",
      "source": [
        "Finally, use the chain with some of the input post. By applying `invoke` function, the parameter passed into the function will be sent through the `chain` object, resulted in our desire formatted output. The parameter `input` accepts dict-type object, which the value is the name we define in the `tagging_prompt` object, in this case, `post`.\n",
        "<br>\n",
        "<br>\n",
        "The result is in a `TaggingSchema` object which includes all fields that we previously define in `TaggingSchema` Class. You can access all attributes as usual, or you change the result type into `Dict`/`json`."
      ],
      "metadata": {
        "id": "nfmQnsx98Os_"
      }
    },
    {
      "cell_type": "code",
      "source": [
        "# try passing changing the input post into the chain and observe the output\n",
        "input_post = post_list[4]['post']\n",
        "result = tagging_chain.invoke(input={'post': input_post})\n",
        "result"
      ],
      "metadata": {
        "colab": {
          "base_uri": "https://localhost:8080/"
        },
        "id": "_1MZFEEFbfRn",
        "outputId": "afc9b54e-dde7-49e2-f08b-0b82ac4b25f5"
      },
      "execution_count": null,
      "outputs": [
        {
          "output_type": "execute_result",
          "data": {
            "text/plain": [
              "TaggingSchema(categories=['Sports', 'Socializing'], summary='Watching the game with friends, cheering for the team in jerseys. Exciting season!', sentiment='Positive')"
            ]
          },
          "metadata": {},
          "execution_count": 21
        }
      ]
    },
    {
      "cell_type": "code",
      "source": [
        "print(result.categories)"
      ],
      "metadata": {
        "colab": {
          "base_uri": "https://localhost:8080/"
        },
        "id": "ts7om0Tlh3p3",
        "outputId": "b47e4ccb-e3c3-46da-f47c-51a5e6bf9fd5"
      },
      "execution_count": null,
      "outputs": [
        {
          "output_type": "stream",
          "name": "stdout",
          "text": [
            "['Sports', 'Socializing']\n"
          ]
        }
      ]
    },
    {
      "cell_type": "code",
      "source": [
        "result.dict()"
      ],
      "metadata": {
        "colab": {
          "base_uri": "https://localhost:8080/"
        },
        "id": "0nFeIqsYfmx5",
        "outputId": "82d1a710-9e33-4725-964e-d44b884931c4"
      },
      "execution_count": null,
      "outputs": [
        {
          "output_type": "execute_result",
          "data": {
            "text/plain": [
              "{'categories': ['Sports', 'Socializing'],\n",
              " 'summary': 'Watching the game with friends, cheering for the team in jerseys. Exciting season!',\n",
              " 'sentiment': 'Positive'}"
            ]
          },
          "metadata": {},
          "execution_count": 23
        }
      ]
    },
    {
      "cell_type": "code",
      "source": [
        "print('Post Content:', input_post)\n",
        "print('Topic:', result.dict()['categories'])"
      ],
      "metadata": {
        "colab": {
          "base_uri": "https://localhost:8080/"
        },
        "id": "MMm7lmYb_WJb",
        "outputId": "cd3de70c-4919-4b70-c393-edc648a44161"
      },
      "execution_count": null,
      "outputs": [
        {
          "output_type": "stream",
          "name": "stdout",
          "text": [
            "Post Content: Watching the game tonight with the crew. Go team! 🏀 We're all decked out in our jerseys and cheering loud. This season has been epic so far!\n",
            "Topic: ['Sports', 'Socializing']\n"
          ]
        }
      ]
    },
    {
      "cell_type": "markdown",
      "source": [
        "<h1> 2. Basic Semantic Search using Cosine Similarity"
      ],
      "metadata": {
        "id": "H8dzlSutmVUW"
      }
    },
    {
      "cell_type": "markdown",
      "source": [
        "<h2> 2.1 Data for Demonstration </h2>"
      ],
      "metadata": {
        "id": "7E81_VsNg_O_"
      }
    },
    {
      "cell_type": "markdown",
      "source": [
        "In this demonstration, we are going to use OpenAI embedding for semantic searching. Belows is the story that everyone might be familiar with, **The Tortoise and the Hare**. This story will be our search pool for the semantic search."
      ],
      "metadata": {
        "id": "BbuETPNumj9v"
      }
    },
    {
      "cell_type": "code",
      "source": [
        "storys = \"\"\"\n",
        "\n",
        "Once upon a time, there was a speedy hare who bragged about how fast he could run.\n",
        "\n",
        "Tired of hearing him boast, the slow and steady tortoise challenged him to a race.\n",
        "\n",
        "All the animals in the forest gathered to watch.\n",
        "\n",
        "The hare ran down the road for a while and then paused to rest.\n",
        "\n",
        "He looked back at the slow tortoise and cried out, \"How do you expect to win this race when you are walking along at your slow, slow pace?\"\n",
        "\n",
        "The hare stretched himself out alongside the road and fell asleep, thinking, \"There is plenty of time to relax.\"\n",
        "\n",
        "The tortoise walked and walked, never ever stopping until he came to the finish line.\n",
        "\n",
        "The animals who were watching cheered so loudly for the tortoise that they woke up the hare.\n",
        "\n",
        "The hare stretched, yawned, and began to run again, but it was too late.\n",
        "\n",
        "The tortoise had already crossed the finish line.\n",
        "\n",
        "\"\"\".split('\\n')"
      ],
      "metadata": {
        "id": "DFuNFKg_mU3Z"
      },
      "execution_count": null,
      "outputs": []
    },
    {
      "cell_type": "markdown",
      "source": [
        "Divide the data into chunks and store it in a pandas dataframe."
      ],
      "metadata": {
        "id": "pGETPCHj_fFW"
      }
    },
    {
      "cell_type": "code",
      "source": [
        "story_chunks = [chunk for chunk in storys if chunk != '']"
      ],
      "metadata": {
        "id": "aTN5mRR9njwy"
      },
      "execution_count": null,
      "outputs": []
    },
    {
      "cell_type": "code",
      "source": [
        "import pandas as pd\n",
        "df_story = pd.DataFrame(story_chunks, columns=['story'])"
      ],
      "metadata": {
        "id": "2VBsOHSqoF8u"
      },
      "execution_count": null,
      "outputs": []
    },
    {
      "cell_type": "code",
      "source": [
        "df_story"
      ],
      "metadata": {
        "colab": {
          "base_uri": "https://localhost:8080/",
          "height": 363
        },
        "id": "BLeBVTDz0m5O",
        "outputId": "aa789a5a-973b-4498-fc6e-37f739331cd6"
      },
      "execution_count": null,
      "outputs": [
        {
          "output_type": "execute_result",
          "data": {
            "text/plain": [
              "                                               story\n",
              "0  Once upon a time, there was a speedy hare who ...\n",
              "1  Tired of hearing him boast, the slow and stead...\n",
              "2   All the animals in the forest gathered to watch.\n",
              "3  The hare ran down the road for a while and the...\n",
              "4  He looked back at the slow tortoise and cried ...\n",
              "5  The hare stretched himself out alongside the r...\n",
              "6  The tortoise walked and walked, never ever sto...\n",
              "7  The animals who were watching cheered so loudl...\n",
              "8  The hare stretched, yawned, and began to run a...\n",
              "9  The tortoise had already crossed the finish line."
            ],
            "text/html": [
              "\n",
              "  <div id=\"df-2de4efb0-a573-4c50-92a7-ac7c330c33a5\" class=\"colab-df-container\">\n",
              "    <div>\n",
              "<style scoped>\n",
              "    .dataframe tbody tr th:only-of-type {\n",
              "        vertical-align: middle;\n",
              "    }\n",
              "\n",
              "    .dataframe tbody tr th {\n",
              "        vertical-align: top;\n",
              "    }\n",
              "\n",
              "    .dataframe thead th {\n",
              "        text-align: right;\n",
              "    }\n",
              "</style>\n",
              "<table border=\"1\" class=\"dataframe\">\n",
              "  <thead>\n",
              "    <tr style=\"text-align: right;\">\n",
              "      <th></th>\n",
              "      <th>story</th>\n",
              "    </tr>\n",
              "  </thead>\n",
              "  <tbody>\n",
              "    <tr>\n",
              "      <th>0</th>\n",
              "      <td>Once upon a time, there was a speedy hare who ...</td>\n",
              "    </tr>\n",
              "    <tr>\n",
              "      <th>1</th>\n",
              "      <td>Tired of hearing him boast, the slow and stead...</td>\n",
              "    </tr>\n",
              "    <tr>\n",
              "      <th>2</th>\n",
              "      <td>All the animals in the forest gathered to watch.</td>\n",
              "    </tr>\n",
              "    <tr>\n",
              "      <th>3</th>\n",
              "      <td>The hare ran down the road for a while and the...</td>\n",
              "    </tr>\n",
              "    <tr>\n",
              "      <th>4</th>\n",
              "      <td>He looked back at the slow tortoise and cried ...</td>\n",
              "    </tr>\n",
              "    <tr>\n",
              "      <th>5</th>\n",
              "      <td>The hare stretched himself out alongside the r...</td>\n",
              "    </tr>\n",
              "    <tr>\n",
              "      <th>6</th>\n",
              "      <td>The tortoise walked and walked, never ever sto...</td>\n",
              "    </tr>\n",
              "    <tr>\n",
              "      <th>7</th>\n",
              "      <td>The animals who were watching cheered so loudl...</td>\n",
              "    </tr>\n",
              "    <tr>\n",
              "      <th>8</th>\n",
              "      <td>The hare stretched, yawned, and began to run a...</td>\n",
              "    </tr>\n",
              "    <tr>\n",
              "      <th>9</th>\n",
              "      <td>The tortoise had already crossed the finish line.</td>\n",
              "    </tr>\n",
              "  </tbody>\n",
              "</table>\n",
              "</div>\n",
              "    <div class=\"colab-df-buttons\">\n",
              "\n",
              "  <div class=\"colab-df-container\">\n",
              "    <button class=\"colab-df-convert\" onclick=\"convertToInteractive('df-2de4efb0-a573-4c50-92a7-ac7c330c33a5')\"\n",
              "            title=\"Convert this dataframe to an interactive table.\"\n",
              "            style=\"display:none;\">\n",
              "\n",
              "  <svg xmlns=\"http://www.w3.org/2000/svg\" height=\"24px\" viewBox=\"0 -960 960 960\">\n",
              "    <path d=\"M120-120v-720h720v720H120Zm60-500h600v-160H180v160Zm220 220h160v-160H400v160Zm0 220h160v-160H400v160ZM180-400h160v-160H180v160Zm440 0h160v-160H620v160ZM180-180h160v-160H180v160Zm440 0h160v-160H620v160Z\"/>\n",
              "  </svg>\n",
              "    </button>\n",
              "\n",
              "  <style>\n",
              "    .colab-df-container {\n",
              "      display:flex;\n",
              "      gap: 12px;\n",
              "    }\n",
              "\n",
              "    .colab-df-convert {\n",
              "      background-color: #E8F0FE;\n",
              "      border: none;\n",
              "      border-radius: 50%;\n",
              "      cursor: pointer;\n",
              "      display: none;\n",
              "      fill: #1967D2;\n",
              "      height: 32px;\n",
              "      padding: 0 0 0 0;\n",
              "      width: 32px;\n",
              "    }\n",
              "\n",
              "    .colab-df-convert:hover {\n",
              "      background-color: #E2EBFA;\n",
              "      box-shadow: 0px 1px 2px rgba(60, 64, 67, 0.3), 0px 1px 3px 1px rgba(60, 64, 67, 0.15);\n",
              "      fill: #174EA6;\n",
              "    }\n",
              "\n",
              "    .colab-df-buttons div {\n",
              "      margin-bottom: 4px;\n",
              "    }\n",
              "\n",
              "    [theme=dark] .colab-df-convert {\n",
              "      background-color: #3B4455;\n",
              "      fill: #D2E3FC;\n",
              "    }\n",
              "\n",
              "    [theme=dark] .colab-df-convert:hover {\n",
              "      background-color: #434B5C;\n",
              "      box-shadow: 0px 1px 3px 1px rgba(0, 0, 0, 0.15);\n",
              "      filter: drop-shadow(0px 1px 2px rgba(0, 0, 0, 0.3));\n",
              "      fill: #FFFFFF;\n",
              "    }\n",
              "  </style>\n",
              "\n",
              "    <script>\n",
              "      const buttonEl =\n",
              "        document.querySelector('#df-2de4efb0-a573-4c50-92a7-ac7c330c33a5 button.colab-df-convert');\n",
              "      buttonEl.style.display =\n",
              "        google.colab.kernel.accessAllowed ? 'block' : 'none';\n",
              "\n",
              "      async function convertToInteractive(key) {\n",
              "        const element = document.querySelector('#df-2de4efb0-a573-4c50-92a7-ac7c330c33a5');\n",
              "        const dataTable =\n",
              "          await google.colab.kernel.invokeFunction('convertToInteractive',\n",
              "                                                    [key], {});\n",
              "        if (!dataTable) return;\n",
              "\n",
              "        const docLinkHtml = 'Like what you see? Visit the ' +\n",
              "          '<a target=\"_blank\" href=https://colab.research.google.com/notebooks/data_table.ipynb>data table notebook</a>'\n",
              "          + ' to learn more about interactive tables.';\n",
              "        element.innerHTML = '';\n",
              "        dataTable['output_type'] = 'display_data';\n",
              "        await google.colab.output.renderOutput(dataTable, element);\n",
              "        const docLink = document.createElement('div');\n",
              "        docLink.innerHTML = docLinkHtml;\n",
              "        element.appendChild(docLink);\n",
              "      }\n",
              "    </script>\n",
              "  </div>\n",
              "\n",
              "\n",
              "<div id=\"df-5e5dd704-0e24-4dd4-9259-6744ca496cb3\">\n",
              "  <button class=\"colab-df-quickchart\" onclick=\"quickchart('df-5e5dd704-0e24-4dd4-9259-6744ca496cb3')\"\n",
              "            title=\"Suggest charts\"\n",
              "            style=\"display:none;\">\n",
              "\n",
              "<svg xmlns=\"http://www.w3.org/2000/svg\" height=\"24px\"viewBox=\"0 0 24 24\"\n",
              "     width=\"24px\">\n",
              "    <g>\n",
              "        <path d=\"M19 3H5c-1.1 0-2 .9-2 2v14c0 1.1.9 2 2 2h14c1.1 0 2-.9 2-2V5c0-1.1-.9-2-2-2zM9 17H7v-7h2v7zm4 0h-2V7h2v10zm4 0h-2v-4h2v4z\"/>\n",
              "    </g>\n",
              "</svg>\n",
              "  </button>\n",
              "\n",
              "<style>\n",
              "  .colab-df-quickchart {\n",
              "      --bg-color: #E8F0FE;\n",
              "      --fill-color: #1967D2;\n",
              "      --hover-bg-color: #E2EBFA;\n",
              "      --hover-fill-color: #174EA6;\n",
              "      --disabled-fill-color: #AAA;\n",
              "      --disabled-bg-color: #DDD;\n",
              "  }\n",
              "\n",
              "  [theme=dark] .colab-df-quickchart {\n",
              "      --bg-color: #3B4455;\n",
              "      --fill-color: #D2E3FC;\n",
              "      --hover-bg-color: #434B5C;\n",
              "      --hover-fill-color: #FFFFFF;\n",
              "      --disabled-bg-color: #3B4455;\n",
              "      --disabled-fill-color: #666;\n",
              "  }\n",
              "\n",
              "  .colab-df-quickchart {\n",
              "    background-color: var(--bg-color);\n",
              "    border: none;\n",
              "    border-radius: 50%;\n",
              "    cursor: pointer;\n",
              "    display: none;\n",
              "    fill: var(--fill-color);\n",
              "    height: 32px;\n",
              "    padding: 0;\n",
              "    width: 32px;\n",
              "  }\n",
              "\n",
              "  .colab-df-quickchart:hover {\n",
              "    background-color: var(--hover-bg-color);\n",
              "    box-shadow: 0 1px 2px rgba(60, 64, 67, 0.3), 0 1px 3px 1px rgba(60, 64, 67, 0.15);\n",
              "    fill: var(--button-hover-fill-color);\n",
              "  }\n",
              "\n",
              "  .colab-df-quickchart-complete:disabled,\n",
              "  .colab-df-quickchart-complete:disabled:hover {\n",
              "    background-color: var(--disabled-bg-color);\n",
              "    fill: var(--disabled-fill-color);\n",
              "    box-shadow: none;\n",
              "  }\n",
              "\n",
              "  .colab-df-spinner {\n",
              "    border: 2px solid var(--fill-color);\n",
              "    border-color: transparent;\n",
              "    border-bottom-color: var(--fill-color);\n",
              "    animation:\n",
              "      spin 1s steps(1) infinite;\n",
              "  }\n",
              "\n",
              "  @keyframes spin {\n",
              "    0% {\n",
              "      border-color: transparent;\n",
              "      border-bottom-color: var(--fill-color);\n",
              "      border-left-color: var(--fill-color);\n",
              "    }\n",
              "    20% {\n",
              "      border-color: transparent;\n",
              "      border-left-color: var(--fill-color);\n",
              "      border-top-color: var(--fill-color);\n",
              "    }\n",
              "    30% {\n",
              "      border-color: transparent;\n",
              "      border-left-color: var(--fill-color);\n",
              "      border-top-color: var(--fill-color);\n",
              "      border-right-color: var(--fill-color);\n",
              "    }\n",
              "    40% {\n",
              "      border-color: transparent;\n",
              "      border-right-color: var(--fill-color);\n",
              "      border-top-color: var(--fill-color);\n",
              "    }\n",
              "    60% {\n",
              "      border-color: transparent;\n",
              "      border-right-color: var(--fill-color);\n",
              "    }\n",
              "    80% {\n",
              "      border-color: transparent;\n",
              "      border-right-color: var(--fill-color);\n",
              "      border-bottom-color: var(--fill-color);\n",
              "    }\n",
              "    90% {\n",
              "      border-color: transparent;\n",
              "      border-bottom-color: var(--fill-color);\n",
              "    }\n",
              "  }\n",
              "</style>\n",
              "\n",
              "  <script>\n",
              "    async function quickchart(key) {\n",
              "      const quickchartButtonEl =\n",
              "        document.querySelector('#' + key + ' button');\n",
              "      quickchartButtonEl.disabled = true;  // To prevent multiple clicks.\n",
              "      quickchartButtonEl.classList.add('colab-df-spinner');\n",
              "      try {\n",
              "        const charts = await google.colab.kernel.invokeFunction(\n",
              "            'suggestCharts', [key], {});\n",
              "      } catch (error) {\n",
              "        console.error('Error during call to suggestCharts:', error);\n",
              "      }\n",
              "      quickchartButtonEl.classList.remove('colab-df-spinner');\n",
              "      quickchartButtonEl.classList.add('colab-df-quickchart-complete');\n",
              "    }\n",
              "    (() => {\n",
              "      let quickchartButtonEl =\n",
              "        document.querySelector('#df-5e5dd704-0e24-4dd4-9259-6744ca496cb3 button');\n",
              "      quickchartButtonEl.style.display =\n",
              "        google.colab.kernel.accessAllowed ? 'block' : 'none';\n",
              "    })();\n",
              "  </script>\n",
              "</div>\n",
              "\n",
              "  <div id=\"id_ca7bd917-cb72-4bd6-9283-0fce46924dc6\">\n",
              "    <style>\n",
              "      .colab-df-generate {\n",
              "        background-color: #E8F0FE;\n",
              "        border: none;\n",
              "        border-radius: 50%;\n",
              "        cursor: pointer;\n",
              "        display: none;\n",
              "        fill: #1967D2;\n",
              "        height: 32px;\n",
              "        padding: 0 0 0 0;\n",
              "        width: 32px;\n",
              "      }\n",
              "\n",
              "      .colab-df-generate:hover {\n",
              "        background-color: #E2EBFA;\n",
              "        box-shadow: 0px 1px 2px rgba(60, 64, 67, 0.3), 0px 1px 3px 1px rgba(60, 64, 67, 0.15);\n",
              "        fill: #174EA6;\n",
              "      }\n",
              "\n",
              "      [theme=dark] .colab-df-generate {\n",
              "        background-color: #3B4455;\n",
              "        fill: #D2E3FC;\n",
              "      }\n",
              "\n",
              "      [theme=dark] .colab-df-generate:hover {\n",
              "        background-color: #434B5C;\n",
              "        box-shadow: 0px 1px 3px 1px rgba(0, 0, 0, 0.15);\n",
              "        filter: drop-shadow(0px 1px 2px rgba(0, 0, 0, 0.3));\n",
              "        fill: #FFFFFF;\n",
              "      }\n",
              "    </style>\n",
              "    <button class=\"colab-df-generate\" onclick=\"generateWithVariable('df_story')\"\n",
              "            title=\"Generate code using this dataframe.\"\n",
              "            style=\"display:none;\">\n",
              "\n",
              "  <svg xmlns=\"http://www.w3.org/2000/svg\" height=\"24px\"viewBox=\"0 0 24 24\"\n",
              "       width=\"24px\">\n",
              "    <path d=\"M7,19H8.4L18.45,9,17,7.55,7,17.6ZM5,21V16.75L18.45,3.32a2,2,0,0,1,2.83,0l1.4,1.43a1.91,1.91,0,0,1,.58,1.4,1.91,1.91,0,0,1-.58,1.4L9.25,21ZM18.45,9,17,7.55Zm-12,3A5.31,5.31,0,0,0,4.9,8.1,5.31,5.31,0,0,0,1,6.5,5.31,5.31,0,0,0,4.9,4.9,5.31,5.31,0,0,0,6.5,1,5.31,5.31,0,0,0,8.1,4.9,5.31,5.31,0,0,0,12,6.5,5.46,5.46,0,0,0,6.5,12Z\"/>\n",
              "  </svg>\n",
              "    </button>\n",
              "    <script>\n",
              "      (() => {\n",
              "      const buttonEl =\n",
              "        document.querySelector('#id_ca7bd917-cb72-4bd6-9283-0fce46924dc6 button.colab-df-generate');\n",
              "      buttonEl.style.display =\n",
              "        google.colab.kernel.accessAllowed ? 'block' : 'none';\n",
              "\n",
              "      buttonEl.onclick = () => {\n",
              "        google.colab.notebook.generateWithVariable('df_story');\n",
              "      }\n",
              "      })();\n",
              "    </script>\n",
              "  </div>\n",
              "\n",
              "    </div>\n",
              "  </div>\n"
            ],
            "application/vnd.google.colaboratory.intrinsic+json": {
              "type": "dataframe",
              "variable_name": "df_story",
              "summary": "{\n  \"name\": \"df_story\",\n  \"rows\": 10,\n  \"fields\": [\n    {\n      \"column\": \"story\",\n      \"properties\": {\n        \"dtype\": \"string\",\n        \"num_unique_values\": 10,\n        \"samples\": [\n          \"The hare stretched, yawned, and began to run again, but it was too late.\",\n          \"Tired of hearing him boast, the slow and steady tortoise challenged him to a race.\",\n          \"The hare stretched himself out alongside the road and fell asleep, thinking, \\\"There is plenty of time to relax.\\\"\"\n        ],\n        \"semantic_type\": \"\",\n        \"description\": \"\"\n      }\n    }\n  ]\n}"
            }
          },
          "metadata": {},
          "execution_count": 28
        }
      ]
    },
    {
      "cell_type": "markdown",
      "source": [
        "<h2> 2.2 Text Embedding </h2>"
      ],
      "metadata": {
        "id": "36XQUDWFhEwH"
      }
    },
    {
      "cell_type": "markdown",
      "source": [
        "The OpenAI's API is called from a similar way as when use for `chat.completions`, but this time we are using the `embeddings` class for text embedding.\n",
        "<br>\n",
        "In this demonstration, we will be using `text-embedding-3-large` embedding model since it is a default, and capable for both English and non-English data."
      ],
      "metadata": {
        "id": "pHE4Q9non787"
      }
    },
    {
      "cell_type": "code",
      "source": [
        "embedding_model = \"text-embedding-3-large\""
      ],
      "metadata": {
        "id": "NFs1r_EUhUrP"
      },
      "execution_count": null,
      "outputs": []
    },
    {
      "cell_type": "code",
      "source": [
        "def get_embedding(text):\n",
        "    response = client.embeddings.create(\n",
        "        input=text,\n",
        "        model=embedding_model\n",
        "    )\n",
        "    return response.data[0].embedding"
      ],
      "metadata": {
        "id": "sHinUngppBdA"
      },
      "execution_count": null,
      "outputs": []
    },
    {
      "cell_type": "markdown",
      "source": [
        "Apply the `get_embedding` function to all the story chucks to get their vectorized representations."
      ],
      "metadata": {
        "id": "Dt7MV5a5pRPJ"
      }
    },
    {
      "cell_type": "code",
      "source": [
        "df_story['story_emb'] = df_story['story'].apply(get_embedding)"
      ],
      "metadata": {
        "id": "kneivenepuB7"
      },
      "execution_count": null,
      "outputs": []
    },
    {
      "cell_type": "code",
      "source": [
        "df_story"
      ],
      "metadata": {
        "colab": {
          "base_uri": "https://localhost:8080/",
          "height": 363
        },
        "id": "xsfE6uA8DX6q",
        "outputId": "b0c6e960-df52-4b7a-c5cc-c1dad3d47f28"
      },
      "execution_count": null,
      "outputs": [
        {
          "output_type": "execute_result",
          "data": {
            "text/plain": [
              "                                               story  \\\n",
              "0  Once upon a time, there was a speedy hare who ...   \n",
              "1  Tired of hearing him boast, the slow and stead...   \n",
              "2   All the animals in the forest gathered to watch.   \n",
              "3  The hare ran down the road for a while and the...   \n",
              "4  He looked back at the slow tortoise and cried ...   \n",
              "5  The hare stretched himself out alongside the r...   \n",
              "6  The tortoise walked and walked, never ever sto...   \n",
              "7  The animals who were watching cheered so loudl...   \n",
              "8  The hare stretched, yawned, and began to run a...   \n",
              "9  The tortoise had already crossed the finish line.   \n",
              "\n",
              "                                           story_emb  \n",
              "0  [-0.008668859489262104, -0.01259252056479454, ...  \n",
              "1  [-0.011227128095924854, -0.035865020006895065,...  \n",
              "2  [0.02016708441078663, -0.006326204631477594, -...  \n",
              "3  [-0.005236516706645489, -0.008388666436076164,...  \n",
              "4  [0.0051983497105538845, -0.0004825580108445138...  \n",
              "5  [0.01595405302941799, 0.011277619749307632, -0...  \n",
              "6  [0.01413221936672926, 0.012286463752388954, -0...  \n",
              "7  [-0.01613091304898262, -0.0004371799004729837,...  \n",
              "8  [0.01623072661459446, 0.020464228466153145, -0...  \n",
              "9  [0.024334479123353958, -0.01379484310746193, -...  "
            ],
            "text/html": [
              "\n",
              "  <div id=\"df-ba4723be-eec9-4ced-a45a-8d27634e9014\" class=\"colab-df-container\">\n",
              "    <div>\n",
              "<style scoped>\n",
              "    .dataframe tbody tr th:only-of-type {\n",
              "        vertical-align: middle;\n",
              "    }\n",
              "\n",
              "    .dataframe tbody tr th {\n",
              "        vertical-align: top;\n",
              "    }\n",
              "\n",
              "    .dataframe thead th {\n",
              "        text-align: right;\n",
              "    }\n",
              "</style>\n",
              "<table border=\"1\" class=\"dataframe\">\n",
              "  <thead>\n",
              "    <tr style=\"text-align: right;\">\n",
              "      <th></th>\n",
              "      <th>story</th>\n",
              "      <th>story_emb</th>\n",
              "    </tr>\n",
              "  </thead>\n",
              "  <tbody>\n",
              "    <tr>\n",
              "      <th>0</th>\n",
              "      <td>Once upon a time, there was a speedy hare who ...</td>\n",
              "      <td>[-0.008668859489262104, -0.01259252056479454, ...</td>\n",
              "    </tr>\n",
              "    <tr>\n",
              "      <th>1</th>\n",
              "      <td>Tired of hearing him boast, the slow and stead...</td>\n",
              "      <td>[-0.011227128095924854, -0.035865020006895065,...</td>\n",
              "    </tr>\n",
              "    <tr>\n",
              "      <th>2</th>\n",
              "      <td>All the animals in the forest gathered to watch.</td>\n",
              "      <td>[0.02016708441078663, -0.006326204631477594, -...</td>\n",
              "    </tr>\n",
              "    <tr>\n",
              "      <th>3</th>\n",
              "      <td>The hare ran down the road for a while and the...</td>\n",
              "      <td>[-0.005236516706645489, -0.008388666436076164,...</td>\n",
              "    </tr>\n",
              "    <tr>\n",
              "      <th>4</th>\n",
              "      <td>He looked back at the slow tortoise and cried ...</td>\n",
              "      <td>[0.0051983497105538845, -0.0004825580108445138...</td>\n",
              "    </tr>\n",
              "    <tr>\n",
              "      <th>5</th>\n",
              "      <td>The hare stretched himself out alongside the r...</td>\n",
              "      <td>[0.01595405302941799, 0.011277619749307632, -0...</td>\n",
              "    </tr>\n",
              "    <tr>\n",
              "      <th>6</th>\n",
              "      <td>The tortoise walked and walked, never ever sto...</td>\n",
              "      <td>[0.01413221936672926, 0.012286463752388954, -0...</td>\n",
              "    </tr>\n",
              "    <tr>\n",
              "      <th>7</th>\n",
              "      <td>The animals who were watching cheered so loudl...</td>\n",
              "      <td>[-0.01613091304898262, -0.0004371799004729837,...</td>\n",
              "    </tr>\n",
              "    <tr>\n",
              "      <th>8</th>\n",
              "      <td>The hare stretched, yawned, and began to run a...</td>\n",
              "      <td>[0.01623072661459446, 0.020464228466153145, -0...</td>\n",
              "    </tr>\n",
              "    <tr>\n",
              "      <th>9</th>\n",
              "      <td>The tortoise had already crossed the finish line.</td>\n",
              "      <td>[0.024334479123353958, -0.01379484310746193, -...</td>\n",
              "    </tr>\n",
              "  </tbody>\n",
              "</table>\n",
              "</div>\n",
              "    <div class=\"colab-df-buttons\">\n",
              "\n",
              "  <div class=\"colab-df-container\">\n",
              "    <button class=\"colab-df-convert\" onclick=\"convertToInteractive('df-ba4723be-eec9-4ced-a45a-8d27634e9014')\"\n",
              "            title=\"Convert this dataframe to an interactive table.\"\n",
              "            style=\"display:none;\">\n",
              "\n",
              "  <svg xmlns=\"http://www.w3.org/2000/svg\" height=\"24px\" viewBox=\"0 -960 960 960\">\n",
              "    <path d=\"M120-120v-720h720v720H120Zm60-500h600v-160H180v160Zm220 220h160v-160H400v160Zm0 220h160v-160H400v160ZM180-400h160v-160H180v160Zm440 0h160v-160H620v160ZM180-180h160v-160H180v160Zm440 0h160v-160H620v160Z\"/>\n",
              "  </svg>\n",
              "    </button>\n",
              "\n",
              "  <style>\n",
              "    .colab-df-container {\n",
              "      display:flex;\n",
              "      gap: 12px;\n",
              "    }\n",
              "\n",
              "    .colab-df-convert {\n",
              "      background-color: #E8F0FE;\n",
              "      border: none;\n",
              "      border-radius: 50%;\n",
              "      cursor: pointer;\n",
              "      display: none;\n",
              "      fill: #1967D2;\n",
              "      height: 32px;\n",
              "      padding: 0 0 0 0;\n",
              "      width: 32px;\n",
              "    }\n",
              "\n",
              "    .colab-df-convert:hover {\n",
              "      background-color: #E2EBFA;\n",
              "      box-shadow: 0px 1px 2px rgba(60, 64, 67, 0.3), 0px 1px 3px 1px rgba(60, 64, 67, 0.15);\n",
              "      fill: #174EA6;\n",
              "    }\n",
              "\n",
              "    .colab-df-buttons div {\n",
              "      margin-bottom: 4px;\n",
              "    }\n",
              "\n",
              "    [theme=dark] .colab-df-convert {\n",
              "      background-color: #3B4455;\n",
              "      fill: #D2E3FC;\n",
              "    }\n",
              "\n",
              "    [theme=dark] .colab-df-convert:hover {\n",
              "      background-color: #434B5C;\n",
              "      box-shadow: 0px 1px 3px 1px rgba(0, 0, 0, 0.15);\n",
              "      filter: drop-shadow(0px 1px 2px rgba(0, 0, 0, 0.3));\n",
              "      fill: #FFFFFF;\n",
              "    }\n",
              "  </style>\n",
              "\n",
              "    <script>\n",
              "      const buttonEl =\n",
              "        document.querySelector('#df-ba4723be-eec9-4ced-a45a-8d27634e9014 button.colab-df-convert');\n",
              "      buttonEl.style.display =\n",
              "        google.colab.kernel.accessAllowed ? 'block' : 'none';\n",
              "\n",
              "      async function convertToInteractive(key) {\n",
              "        const element = document.querySelector('#df-ba4723be-eec9-4ced-a45a-8d27634e9014');\n",
              "        const dataTable =\n",
              "          await google.colab.kernel.invokeFunction('convertToInteractive',\n",
              "                                                    [key], {});\n",
              "        if (!dataTable) return;\n",
              "\n",
              "        const docLinkHtml = 'Like what you see? Visit the ' +\n",
              "          '<a target=\"_blank\" href=https://colab.research.google.com/notebooks/data_table.ipynb>data table notebook</a>'\n",
              "          + ' to learn more about interactive tables.';\n",
              "        element.innerHTML = '';\n",
              "        dataTable['output_type'] = 'display_data';\n",
              "        await google.colab.output.renderOutput(dataTable, element);\n",
              "        const docLink = document.createElement('div');\n",
              "        docLink.innerHTML = docLinkHtml;\n",
              "        element.appendChild(docLink);\n",
              "      }\n",
              "    </script>\n",
              "  </div>\n",
              "\n",
              "\n",
              "<div id=\"df-db3afb50-388a-4bfa-9551-2aa0c75f05ec\">\n",
              "  <button class=\"colab-df-quickchart\" onclick=\"quickchart('df-db3afb50-388a-4bfa-9551-2aa0c75f05ec')\"\n",
              "            title=\"Suggest charts\"\n",
              "            style=\"display:none;\">\n",
              "\n",
              "<svg xmlns=\"http://www.w3.org/2000/svg\" height=\"24px\"viewBox=\"0 0 24 24\"\n",
              "     width=\"24px\">\n",
              "    <g>\n",
              "        <path d=\"M19 3H5c-1.1 0-2 .9-2 2v14c0 1.1.9 2 2 2h14c1.1 0 2-.9 2-2V5c0-1.1-.9-2-2-2zM9 17H7v-7h2v7zm4 0h-2V7h2v10zm4 0h-2v-4h2v4z\"/>\n",
              "    </g>\n",
              "</svg>\n",
              "  </button>\n",
              "\n",
              "<style>\n",
              "  .colab-df-quickchart {\n",
              "      --bg-color: #E8F0FE;\n",
              "      --fill-color: #1967D2;\n",
              "      --hover-bg-color: #E2EBFA;\n",
              "      --hover-fill-color: #174EA6;\n",
              "      --disabled-fill-color: #AAA;\n",
              "      --disabled-bg-color: #DDD;\n",
              "  }\n",
              "\n",
              "  [theme=dark] .colab-df-quickchart {\n",
              "      --bg-color: #3B4455;\n",
              "      --fill-color: #D2E3FC;\n",
              "      --hover-bg-color: #434B5C;\n",
              "      --hover-fill-color: #FFFFFF;\n",
              "      --disabled-bg-color: #3B4455;\n",
              "      --disabled-fill-color: #666;\n",
              "  }\n",
              "\n",
              "  .colab-df-quickchart {\n",
              "    background-color: var(--bg-color);\n",
              "    border: none;\n",
              "    border-radius: 50%;\n",
              "    cursor: pointer;\n",
              "    display: none;\n",
              "    fill: var(--fill-color);\n",
              "    height: 32px;\n",
              "    padding: 0;\n",
              "    width: 32px;\n",
              "  }\n",
              "\n",
              "  .colab-df-quickchart:hover {\n",
              "    background-color: var(--hover-bg-color);\n",
              "    box-shadow: 0 1px 2px rgba(60, 64, 67, 0.3), 0 1px 3px 1px rgba(60, 64, 67, 0.15);\n",
              "    fill: var(--button-hover-fill-color);\n",
              "  }\n",
              "\n",
              "  .colab-df-quickchart-complete:disabled,\n",
              "  .colab-df-quickchart-complete:disabled:hover {\n",
              "    background-color: var(--disabled-bg-color);\n",
              "    fill: var(--disabled-fill-color);\n",
              "    box-shadow: none;\n",
              "  }\n",
              "\n",
              "  .colab-df-spinner {\n",
              "    border: 2px solid var(--fill-color);\n",
              "    border-color: transparent;\n",
              "    border-bottom-color: var(--fill-color);\n",
              "    animation:\n",
              "      spin 1s steps(1) infinite;\n",
              "  }\n",
              "\n",
              "  @keyframes spin {\n",
              "    0% {\n",
              "      border-color: transparent;\n",
              "      border-bottom-color: var(--fill-color);\n",
              "      border-left-color: var(--fill-color);\n",
              "    }\n",
              "    20% {\n",
              "      border-color: transparent;\n",
              "      border-left-color: var(--fill-color);\n",
              "      border-top-color: var(--fill-color);\n",
              "    }\n",
              "    30% {\n",
              "      border-color: transparent;\n",
              "      border-left-color: var(--fill-color);\n",
              "      border-top-color: var(--fill-color);\n",
              "      border-right-color: var(--fill-color);\n",
              "    }\n",
              "    40% {\n",
              "      border-color: transparent;\n",
              "      border-right-color: var(--fill-color);\n",
              "      border-top-color: var(--fill-color);\n",
              "    }\n",
              "    60% {\n",
              "      border-color: transparent;\n",
              "      border-right-color: var(--fill-color);\n",
              "    }\n",
              "    80% {\n",
              "      border-color: transparent;\n",
              "      border-right-color: var(--fill-color);\n",
              "      border-bottom-color: var(--fill-color);\n",
              "    }\n",
              "    90% {\n",
              "      border-color: transparent;\n",
              "      border-bottom-color: var(--fill-color);\n",
              "    }\n",
              "  }\n",
              "</style>\n",
              "\n",
              "  <script>\n",
              "    async function quickchart(key) {\n",
              "      const quickchartButtonEl =\n",
              "        document.querySelector('#' + key + ' button');\n",
              "      quickchartButtonEl.disabled = true;  // To prevent multiple clicks.\n",
              "      quickchartButtonEl.classList.add('colab-df-spinner');\n",
              "      try {\n",
              "        const charts = await google.colab.kernel.invokeFunction(\n",
              "            'suggestCharts', [key], {});\n",
              "      } catch (error) {\n",
              "        console.error('Error during call to suggestCharts:', error);\n",
              "      }\n",
              "      quickchartButtonEl.classList.remove('colab-df-spinner');\n",
              "      quickchartButtonEl.classList.add('colab-df-quickchart-complete');\n",
              "    }\n",
              "    (() => {\n",
              "      let quickchartButtonEl =\n",
              "        document.querySelector('#df-db3afb50-388a-4bfa-9551-2aa0c75f05ec button');\n",
              "      quickchartButtonEl.style.display =\n",
              "        google.colab.kernel.accessAllowed ? 'block' : 'none';\n",
              "    })();\n",
              "  </script>\n",
              "</div>\n",
              "\n",
              "  <div id=\"id_490f3b26-be62-4ae4-a3e7-694955df620c\">\n",
              "    <style>\n",
              "      .colab-df-generate {\n",
              "        background-color: #E8F0FE;\n",
              "        border: none;\n",
              "        border-radius: 50%;\n",
              "        cursor: pointer;\n",
              "        display: none;\n",
              "        fill: #1967D2;\n",
              "        height: 32px;\n",
              "        padding: 0 0 0 0;\n",
              "        width: 32px;\n",
              "      }\n",
              "\n",
              "      .colab-df-generate:hover {\n",
              "        background-color: #E2EBFA;\n",
              "        box-shadow: 0px 1px 2px rgba(60, 64, 67, 0.3), 0px 1px 3px 1px rgba(60, 64, 67, 0.15);\n",
              "        fill: #174EA6;\n",
              "      }\n",
              "\n",
              "      [theme=dark] .colab-df-generate {\n",
              "        background-color: #3B4455;\n",
              "        fill: #D2E3FC;\n",
              "      }\n",
              "\n",
              "      [theme=dark] .colab-df-generate:hover {\n",
              "        background-color: #434B5C;\n",
              "        box-shadow: 0px 1px 3px 1px rgba(0, 0, 0, 0.15);\n",
              "        filter: drop-shadow(0px 1px 2px rgba(0, 0, 0, 0.3));\n",
              "        fill: #FFFFFF;\n",
              "      }\n",
              "    </style>\n",
              "    <button class=\"colab-df-generate\" onclick=\"generateWithVariable('df_story')\"\n",
              "            title=\"Generate code using this dataframe.\"\n",
              "            style=\"display:none;\">\n",
              "\n",
              "  <svg xmlns=\"http://www.w3.org/2000/svg\" height=\"24px\"viewBox=\"0 0 24 24\"\n",
              "       width=\"24px\">\n",
              "    <path d=\"M7,19H8.4L18.45,9,17,7.55,7,17.6ZM5,21V16.75L18.45,3.32a2,2,0,0,1,2.83,0l1.4,1.43a1.91,1.91,0,0,1,.58,1.4,1.91,1.91,0,0,1-.58,1.4L9.25,21ZM18.45,9,17,7.55Zm-12,3A5.31,5.31,0,0,0,4.9,8.1,5.31,5.31,0,0,0,1,6.5,5.31,5.31,0,0,0,4.9,4.9,5.31,5.31,0,0,0,6.5,1,5.31,5.31,0,0,0,8.1,4.9,5.31,5.31,0,0,0,12,6.5,5.46,5.46,0,0,0,6.5,12Z\"/>\n",
              "  </svg>\n",
              "    </button>\n",
              "    <script>\n",
              "      (() => {\n",
              "      const buttonEl =\n",
              "        document.querySelector('#id_490f3b26-be62-4ae4-a3e7-694955df620c button.colab-df-generate');\n",
              "      buttonEl.style.display =\n",
              "        google.colab.kernel.accessAllowed ? 'block' : 'none';\n",
              "\n",
              "      buttonEl.onclick = () => {\n",
              "        google.colab.notebook.generateWithVariable('df_story');\n",
              "      }\n",
              "      })();\n",
              "    </script>\n",
              "  </div>\n",
              "\n",
              "    </div>\n",
              "  </div>\n"
            ],
            "application/vnd.google.colaboratory.intrinsic+json": {
              "type": "dataframe",
              "variable_name": "df_story",
              "summary": "{\n  \"name\": \"df_story\",\n  \"rows\": 10,\n  \"fields\": [\n    {\n      \"column\": \"story\",\n      \"properties\": {\n        \"dtype\": \"string\",\n        \"num_unique_values\": 10,\n        \"samples\": [\n          \"The hare stretched, yawned, and began to run again, but it was too late.\",\n          \"Tired of hearing him boast, the slow and steady tortoise challenged him to a race.\",\n          \"The hare stretched himself out alongside the road and fell asleep, thinking, \\\"There is plenty of time to relax.\\\"\"\n        ],\n        \"semantic_type\": \"\",\n        \"description\": \"\"\n      }\n    },\n    {\n      \"column\": \"story_emb\",\n      \"properties\": {\n        \"dtype\": \"object\",\n        \"semantic_type\": \"\",\n        \"description\": \"\"\n      }\n    }\n  ]\n}"
            }
          },
          "metadata": {},
          "execution_count": 32
        }
      ]
    },
    {
      "cell_type": "code",
      "source": [
        "print(df_story.loc[0, 'story'])\n",
        "print(df_story.loc[0, 'story_emb'])"
      ],
      "metadata": {
        "colab": {
          "base_uri": "https://localhost:8080/"
        },
        "id": "34ZYhe2opyYr",
        "outputId": "48364623-254f-4a5a-c52f-1f664ec881dd"
      },
      "execution_count": null,
      "outputs": [
        {
          "output_type": "stream",
          "name": "stdout",
          "text": [
            "Once upon a time, there was a speedy hare who bragged about how fast he could run.\n",
            "[-0.008668859489262104, -0.01259252056479454, -0.010771994479000568, 0.016457030549645424, 0.036252789199352264, 0.009332661516964436, -0.0038842272479087114, -0.01265824306756258, -0.03909201920032501, 0.00621739262714982, -0.027603646740317345, 0.017364008352160454, -0.006542721297591925, -0.03520122170448303, -0.0002735718444455415, 0.05988676846027374, -0.023489387705922127, -0.010055613704025745, 0.006887766998261213, 0.011153187602758408, 0.0037002030294388533, 0.0075975749641656876, -0.0014927329029887915, -0.037435803562402725, -0.02413347363471985, 0.0278928279876709, -0.002088347217068076, 0.0038710827939212322, -0.001399077707901597, -0.017061682417988777, -0.007354400120675564, 0.038066741079092026, 0.026013150811195374, -0.04374520853161812, 0.02500101737678051, 0.024935293942689896, 0.004429727792739868, -0.006894339341670275, -0.024527810513973236, 0.008287666365504265, 0.0062929741106927395, 0.02876036986708641, -0.036068763583898544, -0.02133367583155632, 0.009122347459197044, -0.005639030598104, 0.005300557240843773, 0.04908191040158272, 0.02210920676589012, 0.01792922616004944, 0.0010211706394329667, 0.00590849481523037, 0.01390697993338108, -0.0013432131381705403, 0.023975739255547523, 0.016496464610099792, 0.00443630013614893, -0.07113853842020035, -0.00023660267470404506, -0.021622857078909874, -0.00582962715998292, -0.01938827522099018, -0.0019453997956588864, -0.022266941145062447, -0.006092519033700228, -0.05370881035923958, -0.028155719861388206, 0.011238627135753632, -0.02105763927102089, 0.015366029925644398, -0.03861881420016289, 0.02939131110906601, -0.007170375902205706, -0.004262134432792664, 0.0036311938893049955, 0.014156727120280266, 0.052604664117097855, -0.006483570672571659, -0.002517189597710967, 0.010581397451460361, -0.005537159740924835, -0.02342366613447666, -0.009043480269610882, -0.0373043566942215, 0.04524369165301323, -0.030732059851288795, 0.016180993989109993, -0.044770486652851105, 0.01444590836763382, -0.031547024846076965, 0.031494446098804474, -0.03522751107811928, 0.0020850610453635454, 0.02894439548254013, 0.011540953069925308, 0.020229529589414597, 0.012835695408284664, -0.0005467329174280167, -0.011251771822571754, -0.04566431790590286, 0.010160770267248154, 0.04287766292691231, -0.025303341448307037, -0.047215379774570465, -0.016509609296917915, 0.021267952397465706, -0.035753294825553894, 0.017324574291706085, 0.037383224815130234, -0.006342266220599413, -0.01263852696865797, 0.009142064489424229, 0.017916081473231316, 0.0002458449744153768, -0.04582205414772034, -0.0014869821025058627, -0.0013399269664660096, 0.005343277007341385, -0.00926036573946476, 0.030101118609309196, 0.035385243594646454, -0.007978768087923527, -0.03270374983549118, 0.018507586792111397, 0.0012068379437550902, -0.03291406109929085, 0.01761375553905964, 0.0360424742102623, -0.00467618927359581, -0.058624885976314545, -0.008524268865585327, 0.021254807710647583, -0.02894439548254013, 0.0064901430159807205, 0.006667594891041517, 0.022450964897871017, -0.006260112393647432, -0.0035260370932519436, 0.036068763583898544, 0.022950459271669388, 0.00017776008462533355, -0.028970682993531227, 0.024830136448144913, -0.02292417176067829, -0.010364511981606483, 0.023042472079396248, -0.012309911660850048, -0.018915070220828056, -0.0038415074814110994, 0.01779777929186821, -0.03336097672581673, -0.01472194492816925, 0.0170748271048069, 0.02839232236146927, 0.0037232059985399246, 0.027183018624782562, 0.021044494584202766, -0.006480284500867128, 0.011087464168667793, 0.026512645184993744, -0.016430741176009178, -0.01729828491806984, -0.016601622104644775, -0.035253800451755524, 0.0007607433362863958, 0.005826340988278389, -0.004988373257219791, 0.02228008583188057, -0.014735089614987373, 0.013538931496441364, 0.026197174564003944, -0.022989893332123756, -0.029496466740965843, 0.00571789825335145, 0.003673913888633251, 0.05878262221813202, -0.0006753035122528672, 0.014958547428250313, -0.00032923099934123456, 0.022358953952789307, 0.011396362446248531, 0.0075318519957363605, 0.01068655401468277, 0.006690598092973232, -0.012848840095102787, -0.009838728234171867, -0.0017564463196322322, 0.035437822341918945, -0.024738125503063202, -0.045112244784832, 0.020847324281930923, 0.008123358711600304, 0.0006173851434141397, -0.045033376663923264, -0.03033772110939026, 0.04524369165301323, -0.030127407982945442, 0.019953493028879166, 0.00018577006994746625, 0.0036049047484993935, 0.03780385106801987, 0.001657040324062109, 0.03627907857298851, 0.028550056740641594, -0.03212538734078407, -0.03354500234127045, -0.032361987978219986, 0.008261376991868019, 0.013736099936068058, 0.02531648613512516, 0.04939738288521767, -0.013013147749006748, -0.011100608855485916, 0.007919617928564548, -0.018047526478767395, -0.006427706219255924, -0.003690344514325261, 0.005694895051419735, -0.01340748555958271, -0.02690698206424713, 0.00010905904491664842, 0.00297232111915946, -0.034675437957048416, -0.0062699709087610245, -0.010910012759268284, -1.5249782336468343e-05, 0.004304854199290276, 0.03454399108886719, -0.007025785278528929, 0.01842872053384781, -0.023397376760840416, -0.03125784173607826, 0.026473211124539375, -0.007420123089104891, -0.032677460461854935, 0.03183620423078537, -0.03641052544116974, -0.006033368408679962, 0.0100293243303895, -0.0026190602220594883, 0.009897878393530846, 0.027551067993044853, -0.026867548003792763, -0.03698888421058655, 0.01729828491806984, -0.020637011155486107, -0.007104652933776379, -0.04158949479460716, -0.03554297983646393, -0.06929829716682434, -0.010633976198732853, -0.00853741355240345, 0.03333468735218048, 0.010160770267248154, 0.007229526527225971, 0.023305363953113556, -0.019375130534172058, -0.010443379171192646, 0.01516886055469513, 0.008175937458872795, -0.0023791713174432516, -0.037435803562402725, 0.034307390451431274, 0.026302332058548927, -0.05494439974427223, 0.011790700256824493, 0.0203741192817688, -0.018086960539221764, 0.013709810562431812, -0.06109606847167015, 0.020216384902596474, 0.012901418842375278, 0.01204701978713274, 0.028366032987833023, 0.010246210731565952, -0.0027652939315885305, -0.004764914978295565, -0.02957533486187458, 0.02622346393764019, -0.006582155358046293, -0.0025993434246629477, 0.03922346606850624, 0.024514665827155113, -0.006631447467952967, 0.017600610852241516, 0.0006239574286155403, 0.009056624956429005, -0.00613523880019784, 0.008852883242070675, -0.02672295831143856, -0.01385440118610859, 0.021543988958001137, -0.004199697636067867, 0.014367040246725082, 0.03880283981561661, 0.039197176694869995, 0.005977503955364227, -0.02794540487229824, -0.01883620209991932, 0.014800812117755413, 0.029338732361793518, 0.018586454913020134, 0.013460063375532627, -0.014261883683502674, 0.06246310845017433, -0.03407078608870506, -0.020978771150112152, -0.026696668937802315, -0.007459556683897972, 0.008787160739302635, -0.016062693670392036, 0.032861482352018356, 0.027025284245610237, -0.0034340249840170145, -0.009825583547353745, -0.025066738948225975, -0.01123205479234457, -0.0022395101841539145, 0.0033420128747820854, -0.013525786809623241, 0.002131067216396332, -0.010817999951541424, -0.0354115329682827, 0.026617800816893578, 0.02731446549296379, 0.04224672168493271, -0.049791719764471054, -0.011317495256662369, 0.0023610976058989763, 0.023988882079720497, -0.015536908991634846, -0.031993940472602844, -0.015234583988785744, 0.0557856559753418, 0.016719922423362732, -0.04958140477538109, -0.026644090190529823, -0.004810921382158995, -0.03614763170480728, 0.021675433963537216, -0.017876647412776947, 0.004978514742106199, 0.016023259609937668, 0.04661072790622711, -0.01698281429708004, -0.02437007613480091, 0.0291284192353487, 0.013801823370158672, 0.02024267427623272, -0.01501112524420023, 0.0005545375170186162, 0.019453998655080795, 0.04831952601671219, 0.02363397926092148, 0.013032864779233932, -0.03336097672581673, -0.002911527408286929, -0.0063817002810537815, -0.004774773493409157, 0.03165218234062195, 0.02242467552423477, -0.054050568491220474, 0.0015132713597267866, 0.0026157740503549576, -0.025710824877023697, -0.059308405965566635, 0.0397755391895771, 0.024567244574427605, -0.051290202885866165, 0.010430234484374523, -0.042693641036748886, 0.01462993212044239, -0.04193125292658806, -0.025618812069296837, -0.014143582433462143, 0.015576343052089214, 0.03796158730983734, -0.001407293020747602, -0.01138979010283947, 0.005494439974427223, -0.012178465723991394, -0.011738121509552002, 0.058677464723587036, 0.020913047716021538, -0.00772244855761528, 0.0018287415150552988, 0.025894848629832268, -0.014038425870239735, -0.007354400120675564, -0.00571789825335145, 0.012014158070087433, 0.002793226158246398, 0.01340748555958271, 0.022753290832042694, 0.02486957050859928, 0.04810921102762222, 0.002374242292717099, -0.03070577047765255, -0.015694644302129745, 0.02264813520014286, -0.02142568677663803, -0.0020554857328534126, -0.013394340872764587, -0.02563195675611496, 0.02494843862950802, -8.492639608448371e-05, -0.023765424266457558, 0.021359965205192566, 0.01698281429708004, -0.0036311938893049955, 0.022345809265971184, -0.004781345836818218, -0.007498990744352341, -0.03251972422003746, 0.029654202982783318, -0.006404703017324209, -0.031362999230623245, -0.012553086504340172, -0.0048667858354747295, -0.05134278163313866, -0.0551547147333622, 0.010127909481525421, 0.02894439548254013, -0.00513953622430563, -0.010410518385469913, -0.022621845826506615, 0.0077421655878424644, -0.0032894345931708813, -0.04059050604701042, -0.028287164866924286, -0.04742569476366043, -0.01132406760007143, 0.022884737700223923, 0.0015453113010153174, -0.03485945984721184, -0.02544793300330639, -0.010601114481687546, -0.0063159773126244545, -0.004258848261088133, -0.032940350472927094, 0.03052174672484398, -0.0019404706545174122, 0.0010491028660908341, -0.041063711047172546, 0.028366032987833023, 0.03691001981496811, -0.008504551835358143, -0.011909001506865025, -0.004278565291315317, -0.04174722731113434, -0.0178503580391407, -0.03075834922492504, -0.004462589509785175, 0.00034196479828096926, -0.006421133875846863, 0.004127402324229479, -0.002022624248638749, 0.01039737369865179, -0.033308397978544235, 0.005165825132280588, 0.06540749967098236, 0.029601624235510826, 0.013289184309542179, -0.09243278205394745, 0.0037363506853580475, -0.012369062751531601, -0.009431245736777782, 0.026289187371730804, 0.0015173789579421282, -2.7803895136457868e-05, -0.039197176694869995, -0.017469163984060287, -0.04887159913778305, -0.0015642066719010472, 0.02739333175122738, -1.6584779586992227e-05, 0.00571789825335145, -0.010601114481687546, -0.001733443234115839, 0.02739333175122738, -0.054418615996837616, 0.022030338644981384, 0.010246210731565952, 0.03020627610385418, 0.0027965123299509287, 0.00182545545976609, 0.013335189782083035, -0.0429302416741848, -0.0325985923409462, -0.0014442622195929289, -0.002964105922728777, 0.008931751362979412, -0.013026292435824871, -0.01589181274175644, 0.007748737931251526, 0.02531648613512516, 0.0019684028811752796, -0.030416589230298996, 0.036752283573150635, 0.04529627040028572, 0.006572296842932701, 0.023121340200304985, 0.01324975024908781, 0.003522750921547413, -0.01870475709438324, 0.01572093367576599, -0.005869060754776001, -0.013867545872926712, -0.03039029985666275, -0.0012462717713788152, 0.013604653999209404, 0.04190496355295181, -0.023029327392578125, 0.024935293942689896, 0.038382213562726974, 0.027209307998418808, -0.009812438860535622, 0.052236612886190414, 0.01620728336274624, -0.010410518385469913, 0.0001488009002059698, 0.03244085609912872, 0.0037330645136535168, -0.024514665827155113, 0.016378164291381836, 0.020847324281930923, 0.0066445921547710896, -0.006076088175177574, -0.05152680724859238, -0.05289384350180626, 0.009930740110576153, 0.010528819635510445, -0.0010302074952051044, -0.012684532441198826, -0.026328621432185173, -0.02644692175090313, -0.014209305867552757, 0.041773516684770584, 0.02160971239209175, -0.008984329178929329, -0.038697682321071625, 0.006907484028488398, -0.0038973719347268343, 0.0006551758269779384, -0.02046613208949566, -0.0027307893615216017, -0.016588477417826653, -0.042010121047496796, -0.010495957918465137, 0.002722573932260275, 0.012717394158244133, 0.035937316715717316, 0.0435611829161644, 0.025171896442770958, -0.0008585062460042536, 0.05846714973449707, -0.0075318519957363605, -0.043087977916002274, 0.01138979010283947, 0.014051570557057858, -0.024212341755628586, 0.009220932610332966, 0.008327099494636059, 0.0014976621605455875, -0.024619823321700096, 0.030153697356581688, 0.015116282738745213, -0.04109000042080879, 0.019046515226364136, 0.010923157446086407, 0.010673410259187222, 0.021728012710809708, 0.022253796458244324, -0.013006575405597687, -0.011830134317278862, -0.010384229011833668, -0.04153691604733467, -0.031547024846076965, 0.00919464323669672, -0.0014081145636737347, -0.025553090497851372, 0.015418607741594315, 0.0228715930134058, -0.014695655554533005, 0.022319519892334938, 0.021596567705273628, -0.004498736932873726, 0.016180993989109993, -0.001891178428195417, 0.009378666989505291, 0.049660272896289825, 0.03454399108886719, 0.010403946042060852, 0.007847322151064873, -0.004718909040093422, 0.026236608624458313, -0.027209307998418808, 0.038014162331819534, -0.025171896442770958, -0.0008461832185275853, 0.03748837858438492, -0.014169871807098389, 0.013538931496441364, 0.022345809265971184, 0.00547800911590457, 0.022227507084608078, -0.020584432408213615, 0.01905965991318226, -0.007735593244433403, -0.0012462717713788152, 0.029864516109228134, -0.009253793396055698, 0.014104148373007774, 0.0046696169301867485, 0.04198383167386055, -0.0018977506551891565, 0.02531648613512516, 0.011902429163455963, -0.018008092418313026, -0.016917090862989426, -0.023857437074184418, -0.02038726396858692, -0.014367040246725082, 0.01526087336242199, -0.0022033625282347202, 0.05005461350083351, -0.015957536175847054, 0.007886756211519241, -0.011205765418708324, -0.03475430607795715, 0.00903690792620182, 0.03522751107811928, 0.02423863112926483, -0.002880309009924531, 0.002500758972018957, 0.016509609296917915, 0.013499497435986996, 0.0032467145938426256, 0.012112743221223354, 0.003769212169572711, -0.015931246802210808, 0.013749244622886181, -0.014077859930694103, 0.020268963649868965, -0.0014532990753650665, 0.0008223586482927203, 0.00405510701239109, 0.0013169239973649383, 0.04303539916872978, 0.009450962767004967, 0.002131067216396332, 0.03057432360947132, 0.0006223143427632749, 0.020715879276394844, -0.0030396871734410524, -0.006460567470639944, -0.010699698701500893, -0.02059757709503174, -0.03861881420016289, 0.026565223932266235, 0.010495957918465137, 0.007761882618069649, 0.023134484887123108, -0.016062693670392036, 0.01215874869376421, -0.004607180133461952, 0.02446208894252777, 0.009799294173717499, -0.023712847381830215, 0.020347829908132553, -0.02042669802904129, 0.02327907457947731, 0.008530841208994389, 0.024396365508437157, 0.003199065336957574, 0.006306118797510862, -0.029233574867248535, -0.008123358711600304, -0.0013563577085733414, 0.025145607069134712, 0.0010088474955409765, -0.026210319250822067, -0.0064671398140490055, -0.031362999230623245, -0.02405460551381111, 0.0036147632636129856, -0.005241406615823507, -0.01929626241326332, 0.017271995544433594, 0.010528819635510445, -0.02762993611395359, 0.0013785392511636019, 0.024067750200629234, -0.004416583571583033, -0.00506066856905818, 0.016286151483654976, 0.00487007200717926, 0.02820829674601555, 0.01007533073425293, 0.014997981488704681, 0.009634986519813538, 0.01494540274143219, -0.010081903077661991, -0.001091822749003768, 0.014919113367795944, -0.003608190920203924, -0.005247978959232569, -0.015576343052089214, -0.013670377433300018, -0.035937316715717316, 0.01883620209991932, 0.007683014962822199, 0.002040698193013668, 0.01286198478192091, 0.017902936786413193, -0.03070577047765255, 0.01929626241326332, 0.0035523264668881893, 0.008202225901186466, 0.005744187161326408, 0.032861482352018356, 0.007656725589185953, 0.02042669802904129, -0.01494540274143219, 0.04429727792739868, -0.01783721335232258, 0.013565219938755035, 0.014077859930694103, -0.016049548983573914, -0.014459053054451942, 0.005353135522454977, -0.01292770728468895, 0.025342775508761406, -0.004176694434136152, 0.01281597837805748, 0.03422852233052254, 0.021031349897384644, 0.017640044912695885, -0.04224672168493271, 0.04516482353210449, 0.007012640591710806, 0.0075975749641656876, 0.014840246178209782, 0.011107181198894978, -0.003785642795264721, -0.006076088175177574, 0.006493429187685251, -0.014432763680815697, -0.02446208894252777, 0.008557130582630634, -0.03307179734110832, -0.007512134965509176, 0.01340748555958271, -0.029102129861712456, -0.06046513095498085, 9.2358741312637e-06, 0.01961173303425312, -0.0045808907598257065, -0.030784638598561287, -0.009707282297313213, -0.04009101167321205, -0.00029431565781123936, 0.022358953952789307, 0.004899647086858749, -0.007775026839226484, 0.027025284245610237, 0.0100293243303895, -0.031336709856987, 0.0025681250263005495, 0.032677460461854935, -0.004814207553863525, -0.020637011155486107, -0.01050910260528326, 0.005694895051419735, 0.025697680190205574, 0.008254804648458958, 0.007972195744514465, -0.0060530854389071465, 0.013749244622886181, 0.02322649583220482, -0.018231550231575966, 0.023607689887285233, -0.00421284232288599, 0.012461074627935886, 0.033229533582925797, 0.009976746514439583, 0.0048667858354747295, 0.00039618625305593014, -0.008793733082711697, 0.031494446098804474, 0.00401895958930254, 0.031310420483350754, 0.006145097315311432, 0.04059050604701042, -0.020531855523586273, -0.03627907857298851, 0.012566231191158295, -0.004002528730779886, -0.01231648400425911, 0.004613752476871014, -0.009556119330227375, 0.008484834805130959, -0.012671387754380703, 0.013617798686027527, 0.01516886055469513, 0.0004206269804853946, -0.018218405544757843, 0.007558141369372606, -0.012178465723991394, 0.01123205479234457, -0.026788681745529175, 0.015826091170310974, 0.0026157740503549576, 0.019269973039627075, 0.038198187947273254, 0.018310418352484703, 0.02272700145840645, -0.030916083604097366, -0.00837967824190855, 0.037383224815130234, -0.006493429187685251, 0.019546009600162506, 0.018731046468019485, -0.0064014168456196785, -0.016457030549645424, 0.017534887418150902, -0.027735091745853424, 0.024987872689962387, -0.01406471524387598, 0.019348841160535812, 0.004354146774858236, -0.013341762125492096, -0.016877658665180206, 0.018849346786737442, -0.02553994581103325, 0.013552076183259487, 0.005704753566533327, 0.03357129171490669, 0.013644088059663773, 0.03780385106801987, 0.037067752331495285, 0.011586959473788738, -0.024251773953437805, 0.0012134102871641517, -5.658336522174068e-05, -0.02187260426580906, 0.012263905256986618, 0.03635794669389725, 0.001960187451913953, -0.04248332604765892, 0.008248232305049896, 0.004498736932873726, 0.016877658665180206, 0.005977503955364227, 0.021320531144738197, -0.027498489245772362, 0.0258554145693779, 0.037383224815130234, 0.05131649225950241, -0.004396866541355848, 0.006043226923793554, 0.003519464982673526, 0.01748230867087841, -0.01607583835721016, 0.003314080648124218, -0.004692619666457176, 0.007893328554928303, 0.011186049319803715, 0.003926947247236967, -0.005451720207929611, -0.050475239753723145, 0.023949449881911278, -0.008635997772216797, 0.0040649655275046825, -0.01390697993338108, 0.02536906488239765, -0.02033468522131443, -0.014406474307179451, -0.013322045095264912, 0.0007623864221386611, -0.014682510867714882, 0.009595553390681744, -0.0061188084073364735, 0.021438831463456154, -0.01902022585272789, 0.0258554145693779, -0.016601622104644775, 0.03504348546266556, 0.008300811052322388, -0.0557856559753418, -0.02826087549328804, -0.0010080259526148438, -0.022385243326425552, 0.0027340755332261324, 0.00040974162402562797, 0.020571289584040642, 0.0006362804560922086, -0.0012988501694053411, 0.027498489245772362, -0.017718911170959473, 0.010325077921152115, 0.03391304984688759, 0.005836199503391981, 0.004955511540174484, -0.0013530715368688107, 0.012303339317440987, 0.028523767367005348, 0.027235597372055054, 0.01062083151191473, 0.014800812117755413, -0.02889181673526764, 0.03052174672484398, 0.01865217834711075, -0.024435799568891525, 0.020939337089657784, 0.000385917053790763, -0.003506320295855403, -0.022319519892334938, 0.043009109795093536, 0.007209809496998787, 0.00953640230000019, -0.033439844846725464, 0.016378164291381836, 0.03867139294743538, 0.025566233322024345, -0.004942367319017649, 0.01670677773654461, -0.025250764563679695, 0.01068655401468277, -0.023357942700386047, 0.01979575678706169, 0.005632458254694939, 0.007367544807493687, -0.02305561676621437, -0.006417847704142332, -0.03835592418909073, 0.004922650288790464, 0.0051428223960101604, -0.0014426191337406635, -0.002308519324287772, 0.007873611524701118, -0.014498486183583736, -0.009332661516964436, -0.02862892486155033, -0.045033376663923264, -0.008774016052484512, -0.03307179734110832, 0.007216381840407848, -0.03441254422068596, 0.00035018016933463514, -0.0025500510819256306, 0.053603652864694595, 0.05005461350083351, -0.006815471686422825, 0.016654198989272118, 0.015471186488866806, 0.01775834523141384, -0.01247421931475401, -0.027551067993044853, 0.02061072178184986, 3.306686630821787e-05, 0.02454095520079136, -0.00806420762091875, -0.011757838539779186, 0.0038382213097065687, -0.008642570115625858, -0.007781599182635546, 0.022043483331799507, -0.015063703991472721, -0.012290194630622864, 0.0078078885562717915, 0.009943884797394276, 0.011849851347506046, 0.02925986424088478, -0.036568257957696915, 0.037383224815130234, 0.002045627450570464, -0.024448944255709648, 0.026052584871649742, -0.015089993365108967, -0.013814968056976795, 0.0001532166643301025, -0.013998991809785366, 0.0036147632636129856, 0.007012640591710806, 0.0019782613962888718, 0.014222449623048306, -0.008123358711600304, 0.019217396154999733, 0.03425481170415878, 0.004012387245893478, -0.009030335582792759, 0.012309911660850048, -0.010357939638197422, 0.0012922778259962797, 0.029680492356419563, -0.022845303639769554, 0.005218403413891792, -0.016903948038816452, 0.014853390865027905, -0.01648331992328167, -0.022306375205516815, -0.019585443660616875, 0.0076764426194131374, 0.00040850930963642895, -0.012447929941117764, 0.0006412097136490047, 0.02907584048807621, -0.006854905281215906, -0.009957029484212399, 0.035937316715717316, -0.018586454913020134, -0.005724470596760511, -0.030942372977733612, 0.020071793347597122, 0.012756828218698502, -0.004636755213141441, -0.00896461308002472, -0.002906598150730133, 0.07913045585155487, 0.005767190363258123, -0.022490398958325386, 0.0416683629155159, -0.015996970236301422, -0.00803791917860508, 0.0038842272479087114, 0.012198182754218578, 0.008721437305212021, 0.011337211355566978, 0.0017087971791625023, 0.003248357679694891, -0.032730039209127426, -0.015208294615149498, -0.00424570357427001, 0.000637923541944474, 0.01929626241326332, -0.001991405850276351, 0.040564216673374176, -0.018034381791949272, 0.014275028370320797, 0.017311429604887962, -0.006592013407498598, -0.020084938034415245, -0.023804858326911926, 0.013499497435986996, 0.010062186047434807, -0.018941359594464302, 0.004994945600628853, -0.01915167272090912, -0.022082917392253876, 0.005451720207929611, -0.0062042479403316975, -0.005586452316492796, -0.009799294173717499, -0.02676239237189293, -0.012618809938430786, 0.00030314718605950475, 0.0076764426194131374, 0.02831345424056053, -0.0035128926392644644, 0.0005623421166092157, 0.014143582433462143, -0.008931751362979412, -0.009424673393368721, -0.0118235619738698, 0.011271488852798939, 0.0007139157387427986, 0.028182007372379303, 0.023988882079720497, -0.0003664055548142642, -0.00214585498906672, -0.06467139720916748, 0.014169871807098389, -0.024015171453356743, -0.015563198365271091, -0.006526290439069271, 0.014840246178209782, -0.010003035888075829, 0.009168353863060474, 0.017271995544433594, -0.01247421931475401, -0.0023660268634557724, 0.026328621432185173, -0.004248989745974541, 0.002106421161442995, 0.003864510450512171, -0.025263909250497818, 0.005813196301460266, 0.01712740585207939, -0.030101118609309196, -0.016522753983736038, 0.012224472127854824, -0.006352124735713005, 0.010101620107889175, 0.029969673603773117, -0.0015707788988947868, -0.005116533022373915, 0.017994947731494904, -0.008944896049797535, 0.026920126751065254, -0.0010433520656079054, -0.023673413321375847, -0.012355918064713478, -0.022161783650517464, 0.0062502543441951275, -0.0013719669077545404, -0.019361985847353935, 0.010870578698813915, 0.012099598534405231, 0.03178362548351288, 0.0034833173267543316, -0.005566735286265612, 0.024514665827155113, 0.002232937840744853, 0.0006592835416086018, -0.019730035215616226, -0.004308140370994806, 0.008083924651145935, -0.0023003038950264454, 0.0011000381782650948, 0.0003152648569084704, -0.012743683531880379, 0.005928211845457554, -0.004659758415073156, -0.023121340200304985, 0.014459053054451942, -0.006411275360733271, 0.03691001981496811, -0.04211527854204178, 0.0041536916978657246, -0.012263905256986618, 0.008024774491786957, 0.016877658665180206, 0.00016697740647941828, -0.008787160739302635, 0.027419621124863625, -0.007853894494473934, 0.0029493181500583887, -0.021307386457920074, -0.014169871807098389, 0.006776038091629744, 0.004058393184095621, -0.026105161756277084, -0.004525026306509972, -0.002420248230919242, -0.006046513095498085, 0.02831345424056053, 0.016141559928655624, 0.02672295831143856, 0.014590498991310596, -0.0032204254530370235, -0.00033539251307956874, 0.006039940752089024, 0.004189839120954275, -0.010857434011995792, 0.017587466165423393, -0.01965116709470749, 0.005192114505916834, -0.028155719861388206, -0.0375935360789299, 0.005123105365782976, -0.005763904191553593, 0.00478791818022728, 0.008300811052322388, -0.017626900225877762, -0.0038185042794793844, 0.008826594799757004, -0.006674167234450579, -0.0011016812641173601, 0.018757333979010582, 0.0058197686448693275, -0.031231554225087166, -0.03188878297805786, 0.012355918064713478, 0.003287791507318616, 0.004692619666457176, -0.014551064930856228, -0.015484331175684929, -0.016023259609937668, -0.009365523234009743, 0.005977503955364227, 0.009332661516964436, -0.0016315726097673178, 0.0032023515086621046, -0.019493432715535164, 0.007426695432513952, 0.016641056165099144, -0.019914058968424797, -0.028155719861388206, -0.006450709421187639, -0.01320374384522438, -0.018231550231575966, 0.013105159625411034, 0.0013867545640096068, -0.009017190895974636, -0.013814968056976795, -0.02468554675579071, -0.007229526527225971, 0.002732432447373867, 0.029969673603773117, -0.007972195744514465, -0.003959808964282274, 0.032361987978219986, -0.0037922151386737823, 0.010476240888237953, -0.008386250585317612, 0.010929729789495468, -0.009109202772378922, 0.00969413761049509, 0.0028310169000178576, -0.00849140714854002, -0.017718911170959473, -0.016246717423200607, -0.01544489711523056, 0.005625885911285877, 0.004768201150000095, -0.017193127423524857, -0.0012051948579028249, 0.007485846057534218, -0.020360974594950676, -0.017153695225715637, -0.017863502725958824, 0.006611730437725782, 0.014905968680977821, -0.004314712714403868, -0.0162992961704731, -0.007893328554928303, -0.0066445921547710896, 0.02496158331632614, -0.0007447233656421304, 0.014813956804573536, -0.011941863223910332, 0.0012799547985196114, 0.04876644164323807, 0.021175939589738846, 0.012185038067400455, -0.026972705498337746, -0.028103141114115715, -0.014222449623048306, -0.015839235857129097, -0.012421640567481518, 0.009312944486737251, 0.009510112926363945, -0.04563802853226662, 0.005126391537487507, 0.031178975477814674, 0.02024267427623272, -0.0009398384136147797, -0.01720627211034298, -0.012993430718779564, 0.016601622104644775, -0.00958240870386362, 0.011968152597546577, 0.009634986519813538, -0.021622857078909874, -0.016969669610261917, 0.04298282042145729, 0.002548407996073365, -0.0005019591771997511, 0.009069769643247128, -0.03917088732123375, 0.006776038091629744, -0.004110971465706825, -0.00815622042864561, 0.014367040246725082, 0.0024941866286098957, -0.006674167234450579, -0.002674924675375223, -0.003624621545895934, -0.012033875100314617, -0.015089993365108967, 0.02363397926092148, -0.01171183306723833, -0.00011963633733103052, -0.012401923537254333, -0.006440850906074047, 0.0007406157092191279, -0.00783417746424675, 0.0011509734904393554, -0.016719922423362732, 0.019638022407889366, -0.006099091377109289, -0.002656850963830948, -0.008419112302362919, 0.005507584661245346, 0.0159838255494833, 0.032256830483675, -0.006496715359389782, 0.012967141345143318, 0.00030170948593877256, 0.003581901779398322, 0.017442874610424042, 0.01259252056479454, -0.016180993989109993, -0.0206895899027586, -0.022030338644981384, 0.008228515274822712, -0.00937209464609623, 0.010804856196045876, 0.0206895899027586, 0.003208923852071166, 0.007959051057696342, 0.020006071776151657, -0.027209307998418808, -0.02644692175090313, 0.0002704910875763744, 0.013893835246562958, 0.013414057902991772, 0.04174722731113434, -0.010752277448773384, 0.02024267427623272, -0.020913047716021538, 0.009089486673474312, -0.0060728020034730434, 0.024159763008356094, 0.004176694434136152, -0.018625888973474503, -0.0228715930134058, -0.003519464982673526, -0.00547800911590457, 0.008432256989181042, 0.014380184933543205, -0.014091003686189651, -0.026157740503549576, 0.01607583835721016, 0.01616784930229187, -0.011363500729203224, 0.023844292387366295, -0.01308544259518385, 3.609628402045928e-05, -0.006697170436382294, -0.01670677773654461, 0.032361987978219986, 0.014498486183583736, 0.011508091352880001, 0.007282104808837175, 0.0008289309334941208, 0.007190092466771603, -0.024619823321700096, 0.044086966663599014, 0.028497477993369102, -0.022976748645305634, -4.7982899559428915e-05, 0.029338732361793518, -0.011140042915940285, 0.0033584435004740953, -0.0038382213097065687, -0.016917090862989426, -0.015970680862665176, 0.024199197068810463, 0.008405967615544796, 0.007170375902205706, -0.029365021735429764, -0.007821032777428627, -0.0045808907598257065, 0.012296766974031925, -0.03152073547244072, 0.019125383347272873, 0.011146615259349346, -0.0038185042794793844, 0.011271488852798939, 0.006496715359389782, -0.007669870276004076, -0.02553994581103325, -0.004988373257219791, 0.0004580069216899574, -0.007025785278528929, 0.026394343003630638, 0.004715622868388891, -0.012211327441036701, -0.00015126551443245262, 0.008083924651145935, -0.006700456608086824, 0.026394343003630638, -0.0020341258496046066, -0.019808901473879814, -0.006007079035043716, -0.0015592774143442512, 0.00941810104995966, 0.0049522253684699535, 0.001720298663713038, -0.021399397403001785, 0.004607180133461952, -0.020991915836930275, 0.0029739642050117254, -0.010771994479000568, -0.0015108067309483886, -0.009326089173555374, 0.021635999903082848, 0.00962841510772705, 0.003350228304043412, -0.014012136496603489, 0.04371891915798187, -0.009010618552565575, -0.011192621663212776, 0.015089993365108967, 0.009326089173555374, -0.0170748271048069, -0.01924368552863598, 0.010706271044909954, -0.02201719395816326, 0.0033222960773855448, 0.010246210731565952, 0.015339740552008152, -0.013525786809623241, 0.0116658266633749, 0.018783623352646828, -0.003082407172769308, -0.04661072790622711, -0.01983519084751606, 0.04027503356337547, -0.015918102115392685, -0.003608190920203924, -0.04274621605873108, -0.02200404927134514, -0.037698693573474884, 0.0064244200475513935, 0.029049551114439964, -0.008557130582630634, 0.05752073973417282, 0.013440346345305443, 0.001083607436157763, -0.008859455585479736, -0.015576343052089214, -0.016864513978362083, -0.012802833691239357, 0.01838928647339344, -0.00513953622430563, -0.016588477417826653, -0.05194743350148201, -0.010699698701500893, -0.0463741272687912, -0.008550558239221573, 0.0040879687294363976, 0.006230537313967943, 0.0033781605307012796, 0.014327607117593288, 0.012014158070087433, -0.029654202982783318, 0.010864006355404854, 0.014919113367795944, -0.017955513671040535, 0.006463853642344475, 0.00822194293141365, -0.009759861044585705, 0.002438322175294161, -0.010180487297475338, 0.009043480269610882, 0.028024272993206978, -0.027866538614034653, -0.0018878922564908862, 0.009096059016883373, -0.0011698688613250852, 0.0016767572378739715, 0.010318505577743053, 0.017994947731494904, -0.007715876214206219, -0.007439839653670788, 0.026473211124539375, 0.00022325270401779562, -0.021504554897546768, -0.0026190602220594883, -0.003240142250433564, -0.026065729558467865, -0.04061679542064667, 0.035253800451755524, -0.015050559304654598, 0.00803791917860508, -0.0010507459519430995, 0.014275028370320797, 0.03341355547308922, 0.002272371668368578, -0.008944896049797535, -0.010739132761955261, 0.0029000258073210716, 0.01570778898894787, 0.03315066546201706, -0.021701723337173462, -0.026013150811195374, -0.0036870583426207304, -0.013078870251774788, 0.023752279579639435, -0.0021047780755907297, -0.0038382213097065687, -0.02078160271048546, -0.00996360182762146, -0.029627913609147072, -0.013433774001896381, 0.002412032801657915, 0.03546411171555519, 0.029049551114439964, -0.00478791818022728, -0.0014434406766667962, -0.007669870276004076, -0.012737111188471317, 0.0023167345207184553, 0.010449951514601707, -0.0025582665111869574, 0.009773004800081253, -0.03002225048840046, 0.0024005314335227013, 0.009904450736939907, -0.010364511981606483, -0.023344798013567924, -0.02151769958436489, 0.014708800241351128, -0.037015173584222794, 0.002964105922728777, 0.020282108336687088, -0.013348334468901157, 0.024764414876699448, 0.04185238480567932, 0.004255562089383602, 0.029785647988319397, -0.00047074074973352253, 0.00206698733381927, -0.006233823485672474, -0.009326089173555374, -0.004922650288790464, -0.007025785278528929, -0.0278928279876709, -0.003963095135986805, -0.018455009907484055, 0.01622042804956436, -0.017442874610424042, -0.007840749807655811, -0.001925682881847024, 0.016115272417664528, -0.022569267079234123, 0.02272700145840645, -0.020755313336849213, -0.003647624747827649, -0.018192118033766747, -0.024107184261083603, 0.010712843388319016, -0.010515674948692322, -0.0011123612057417631, 0.002349596004933119, -0.02078160271048546, 0.00887260027229786, -0.009404956363141537, -0.011527808383107185, -0.008944896049797535, -0.009286655113101006, 0.023515677079558372, -0.017810923978686333, -0.032046519219875336, -0.01657533273100853, 0.009911023080348969, -0.022805869579315186, -0.013762389309704304, 0.007439839653670788, 0.009128919802606106, -0.01711426116526127, 0.028103141114115715, 0.005395855754613876, -0.0030971947126090527, -0.011567242443561554, -0.023620834574103355, 0.021097073331475258, 0.003496461780741811, 0.008011629804968834, -0.0003627086116466671, 0.005941356066614389, -0.019453998655080795, -0.0003618870978243649, 0.01983519084751606, 0.01920425146818161, -0.016601622104644775, 0.0015642066719010472, -0.02264813520014286, 0.009516685269773006, 0.0018731046002358198, -0.0032730037346482277, -0.003989384043961763, 0.014169871807098389, -0.020137516781687737, 0.009023763239383698, 0.010988879948854446, 0.0055141570046544075, -0.00651971809566021, 0.015550053678452969, -0.006404703017324209, -0.013059153221547604, -0.01460364367812872, 0.007104652933776379, -0.0010523890377953649, 0.016233572736382484, -0.01046309620141983, -0.026368053629994392, -0.009431245736777782, -0.011094036512076855, -0.014301317743957043, -0.0018024523742496967, -0.007439839653670788, 0.00806420762091875, -0.003259859047830105, 0.003581901779398322, -0.018323563039302826, 0.0007554033654741943, -0.000510174548253417, -0.009155209176242352, 0.02120222896337509, -0.004114257637411356, 0.017692621797323227, 0.01462993212044239, 0.005957786925137043, -0.007788171526044607, -0.0060958052054047585, 0.010896868072450161, 0.01390697993338108, -0.008070779964327812, 0.012507081031799316, 0.004985087085515261, 0.00013124055112712085, -0.004682761617004871, 0.0009069769294001162, -2.1167415980016813e-05, 0.004564459901303053, 0.010850861668586731, -0.017640044912695885, -0.007761882618069649, -0.007985340431332588, 0.004643327556550503, -0.012290194630622864, 0.010601114481687546, -0.03861881420016289, 0.026381198316812515, 0.010127909481525421, 0.003890799591317773, 0.01413043774664402, 0.022082917392253876, -0.005188828334212303, 0.02337108738720417, 0.008813450112938881, 0.03772498294711113, -0.0072689601220190525, -0.019782613962888718, -0.004097826778888702, -0.01938827522099018, 0.005612741224467754, 0.015484331175684929, -0.005701467394828796, -0.0006835188833065331, -0.001420437591150403, -0.009608698077499866, 0.007709303870797157, -0.01397270243614912, 0.03785642981529236, 0.028497477993369102, -0.005662033800035715, 0.014643076807260513, -0.0003503855550661683, -0.006503287702798843, -0.00780131621286273, -0.007439839653670788, 0.014748233370482922, 0.000744312594179064, 0.010410518385469913, -0.0023709561210125685, 0.00046704383566975594, -0.018008092418313026, -0.011895856820046902, 0.00498180091381073, 0.006881194654852152, -0.011948435567319393, -0.01007533073425293, 0.013276039622724056, -0.028602635487914085, 0.0030791210010647774, -0.023016182705760002, 0.0018008092883974314, 0.029470179229974747, 0.00245146662928164, -0.00552730169147253, -0.008070779964327812, 0.020321540534496307, 0.005330132786184549, 0.0038973719347268343, 0.004222700837999582, -0.0029871088918298483, -0.03275632858276367, -0.004958797711879015, -0.00864914245903492, -0.01907280460000038, -0.004594035446643829, -0.027340754866600037, 0.025697680190205574, 0.0006342266569845378, 0.009253793396055698, 0.011646109633147717, 0.00018381892004981637, -0.011757838539779186, -0.0178503580391407, -0.00042966389446519315, 0.013184026814997196, 0.00320399459451437, -0.0034898894373327494, -0.013118304312229156, 0.02563195675611496, 0.005895350128412247, -0.0037002030294388533, -0.025290198624134064, -0.005593024659901857, -0.003693630686029792, -0.010318505577743053, -0.012290194630622864, 0.012723966501653194, 0.0021737872157245874, -0.0164438858628273, -0.009030335582792759, 0.009266938082873821, -0.011186049319803715, 0.01974317990243435, 0.02281901426613331, 0.029154708608984947, 0.0019141813972964883, 0.006861477624624968, -0.013709810562431812, 0.01702224835753441, -0.016286151483654976, -0.002354525262489915, -0.010049041360616684, 0.0026601371355354786, -0.004350860603153706, -0.0022871592082083225, -0.012171893380582333, 0.013368051499128342, -0.008386250585317612, 0.004367290996015072, -0.01522143930196762, 0.0038842272479087114, 0.0062272511422634125, -0.002929601352661848, -0.0018287415150552988, 0.01066683791577816, 0.0066215889528393745, 0.00217871624045074, 0.0010507459519430995, 0.007729020901024342, 0.011948435567319393, -0.007939334027469158, 0.022135496139526367, -0.0002830195298884064, -0.006946917623281479, -0.0007722448790445924, 0.009450962767004967, 0.024435799568891525, 0.027288176119327545, 0.0006227251142263412, -0.0044724480248987675, 0.00012066325871273875, -0.018139539286494255, 0.012336201034486294, 0.009510112926363945, 0.009667848236858845, 0.00899090152233839, 0.028812948614358902, -0.012684532441198826, -0.002080132020637393, 0.0005003160913474858, 0.003522750921547413, -0.0010532105807214975, -0.0017449447186663747, 0.014800812117755413, -0.007439839653670788, -0.023160774260759354, 0.016654198989272118, -0.02590799331665039, -0.016154704615473747, -0.015536908991634846, -0.037199199199676514, 0.02975935861468315, 0.006266684737056494, 0.004446158651262522, 0.004728767555207014, 0.01236249040812254, -0.017561176791787148, 0.008675431832671165, 0.035753294825553894, -0.020347829908132553, 0.002303590066730976, -0.009004046209156513, 0.01304600853472948, -0.0025319773703813553, -0.010660265572369099, -0.014314462430775166, -0.002748863073065877, 0.012211327441036701, 0.010331650264561176, 0.0021852885838598013, -0.0006432635127566755, 0.004078110214322805, -0.01689080335199833, -0.012921134941279888, 0.0037987874820828438, 0.019230540841817856, 0.010219921357929707, 0.004262134432792664, 0.004958797711879015, -0.01460364367812872, -0.012112743221223354, -0.017626900225877762, -8.282120688818395e-05, 0.005740900989621878, 0.012842267751693726, 0.003542467951774597, 0.032940350472927094, -0.014800812117755413, -0.02242467552423477, -0.011757838539779186, -0.019572298973798752, 0.010771994479000568, -0.010311933234333992, -0.023581400513648987, 0.011462085880339146, 0.03669970482587814, 0.01209302619099617, -0.014695655554533005, 0.011514663696289062, -0.007860466837882996, -0.008392822928726673, -0.007637008558958769, -0.012723966501653194, -0.002937816549092531, 0.005103388335555792, -0.0033945911563932896, 0.0108902957290411, 0.027367044240236282, 0.008938323706388474, -0.01451163087040186, -3.424782698857598e-05, 0.021136505529284477, 0.023081906139850616, 0.016496464610099792, -0.014380184933543205, -0.0023167345207184553, 0.0044724480248987675, 0.029365021735429764, 0.009976746514439583, -0.014958547428250313, 0.006716887000948191, -0.014590498991310596, -0.00698635121807456, -0.0037494953721761703, -0.006749748717993498, 0.007170375902205706, -0.015182005241513252, -0.016273006796836853, -0.0037363506853580475, -0.017101116478443146, 0.025513656437397003, -0.005379424896091223, 0.015116282738745213, 0.0005726113449782133, -0.007229526527225971, 0.0045808907598257065, -0.005961073096841574, -0.002566481940448284, 0.009983318857848644, 0.020124372094869614, 0.002678210847079754, -0.004048534668982029, 0.004459303338080645, -0.004965370055288076, -0.011632964946329594, -0.0019815475679934025, 0.0024481804575771093, -0.0013604654232040048, -0.0051855421625077724, 0.009444390423595905, 0.01725885085761547, -0.01898079365491867, 0.0009406599565409124, 0.0020505564752966166, 0.0008174293907359242, -0.013446918688714504, 0.00253033428452909, -0.01607583835721016, 0.0006933772820048034, 0.00291481357999146, 0.025645101442933083, -0.004827351775020361, -0.0017548032337799668, -0.007196664810180664, -0.01150151900947094, -0.0015987111255526543, 0.01347320806235075, 0.013078870251774788, 0.003890799591317773, -0.0214651208370924, 0.001536274328827858, 0.0017515170620754361, -0.009556119330227375, 0.0025993434246629477, 0.00660187192261219, 0.002980536548420787, -0.016141559928655624, 0.012165321037173271, -0.00024481804575771093, 0.018231550231575966, -0.002717644674703479, -0.02540849894285202, 0.0041734082624316216, -0.014248738996684551, 0.008123358711600304, -0.00941810104995966, -0.023844292387366295, 0.024396365508437157, -0.017193127423524857, -0.0016085696406662464, 0.0019076091703027487, -0.023436810821294785, 0.005211831070482731, -0.005809910129755735, -0.005313701927661896, 0.009832155890762806, 0.014997981488704681, -0.011586959473788738, 0.01693023554980755, -0.006782609969377518, 0.012401923537254333, 0.0030479026027023792, -0.03238827735185623, 0.012217899784445763, 0.016049548983573914, 0.016969669610261917, -0.024120328947901726, 0.0192568302154541, 0.02055814489722252, -0.014196161180734634, 0.011448941193521023, 0.016010114923119545, 0.008090496994554996, -0.013400913216173649, -0.010456523858010769, 0.005747473333030939, 0.014485341496765614, -0.0008806877303868532, 0.002719287760555744, -0.037120331078767776, -0.005501012317836285, -0.013959557749330997, -0.015405463054776192, 0.0017712339758872986, 0.007091508246958256, 0.03378160670399666, 0.009786149486899376, 0.02522447519004345, 0.007735593244433403, 0.02259555645287037, -0.009832155890762806, 0.011304350569844246, -0.007012640591710806, -0.005520729348063469, -0.019007081165909767, -0.0021902178414165974, -0.015208294615149498, 0.019440853968262672, 0.006907484028488398, 5.098664405522868e-05, -0.025645101442933083, 0.009773004800081253, -0.026341764256358147, 0.004147119354456663, 0.0024531097151339054, 0.0008617924177087843, 0.00897118542343378, 0.008905461989343166, -0.01902022585272789, -0.02659151330590248, 0.014669366180896759, -0.014419618993997574, -0.003581901779398322, 0.002030839677900076, 0.009345806203782558, -0.009398384019732475, 0.014012136496603489, 0.0025451218243688345, 0.031362999230623245, -0.02151769958436489, 0.025027306750416756, -0.0064014168456196785, 0.002140925731509924, 0.018639033660292625, -0.002214863896369934, 0.012099598534405231, 0.002600986510515213, 0.009227504953742027, 0.003874368965625763, 0.026052584871649742, -0.013486352749168873, 0.00027521493029780686, -0.006973206996917725, -0.005027806852012873, 0.012099598534405231, -0.007623864337801933, 0.005691608879715204, -0.004390294197946787, -0.031336709856987, 0.00013504015805665404, 0.019217396154999733, 0.004840496461838484, -0.019348841160535812, -0.017087971791625023, 0.007564713712781668, -0.018901925534009933, -0.005211831070482731, 0.01703539304435253, 0.00349317560903728, -0.018586454913020134, -0.02083418145775795, -0.03664712607860565, -0.0011000381782650948, -0.004199697636067867, 0.00200947979465127, 0.013006575405597687, 0.008458545431494713, 0.006605158094316721, -0.012303339317440987, -0.018757333979010582, -0.01693023554980755, -0.01735086366534233, -0.013525786809623241, 0.011797272600233555, 0.006667594891041517, -0.013262894935905933, 0.023988882079720497, -0.006371841765940189, 0.009299799799919128, 0.006345552392303944, -0.006861477624624968, -0.0022263654973357916, -0.017469163984060287, -0.014813956804573536, -0.004265420604497194, -0.01662791147828102, 0.033623870462179184, -0.018731046468019485, 0.013880690559744835, 0.009234077297151089, 0.004101112950593233, 0.011251771822571754, 0.005721184425055981, 0.008248232305049896, -0.0033222960773855448, -0.01996663771569729, 0.014971692115068436, -0.024251773953437805, 0.0035753294359892607, 0.019361985847353935, 0.0017925939755514264, 0.02418605238199234, -0.00698635121807456, -0.000261659559328109, -0.003401163499802351, -0.019414564594626427, 0.037199199199676514, -0.01938827522099018, 0.0005097637767903507, -0.007406978402286768, -0.011107181198894978, -0.01308544259518385, 0.005662033800035715, 0.010495957918465137, -0.009838728234171867, -0.008215370588004589, -0.012539941817522049, -0.0028868813533335924, -0.012605665251612663, -0.004817493259906769, -0.002674924675375223, 0.014301317743957043, -0.001554348156787455, -0.007275532465428114, 0.004354146774858236, 0.00034175944165326655, 0.009332661516964436, 0.02553994581103325, -0.009220932610332966, -0.01951972208917141, -0.00023865651746746153, -0.03202022984623909, -0.00842568464577198, 0.010042469017207623, 0.002854019869118929, -0.007847322151064873, 0.004216128494590521, -0.009634986519813538, -0.004163549747318029, -0.002027553506195545, 0.012395351193845272, -0.010154198855161667, -0.006749748717993498, 0.018915070220828056, 0.004643327556550503, -0.008557130582630634, 0.00788018386811018, -0.004193125292658806, -0.0013801823370158672, -0.003164560766890645, 0.018047526478767395, 0.00903690792620182, -0.0156683549284935, 0.02902326174080372, -0.018586454913020134, 0.0010910012060776353, -0.02377856895327568, 0.005836199503391981, -0.004265420604497194, -0.0012372347991913557, 0.007669870276004076, -0.00969413761049509, -0.005218403413891792, 0.02092619240283966, 0.00935237854719162, -0.014432763680815697, 0.019401419907808304, 0.007755310274660587, 0.0030791210010647774, 0.0031152686569839716, -0.027551067993044853, 0.011803844943642616, 0.023528821766376495, 0.008182509802281857, 0.019664311781525612, -0.01694338023662567, -0.02622346393764019, 0.02337108738720417, -0.02468554675579071, 0.013059153221547604, 0.020321540534496307, 0.016746211796998978, 0.0022165069822221994, 0.00043418235145509243, 0.008497979491949081, -0.002743933815509081, 0.03714662045240402, -0.008162792772054672, -0.003001896431669593, 0.0017087971791625023, 0.006398130673915148, -0.011494946666061878, -0.015536908991634846, -0.026696668937802315, -0.0021261379588395357, -0.013262894935905933, -0.004682761617004871, 0.01788979209959507, 0.01039737369865179, 0.011652681976556778, -0.03722548857331276, -0.009135492146015167, -0.005192114505916834, -0.016365019604563713, 0.00996360182762146, 0.025171896442770958, 0.006615016609430313, -0.011212337762117386, -0.014117293059825897, -0.021596567705273628, -0.0024103897158056498, -0.006562438327819109, -0.006371841765940189, -0.027524778619408607, -0.010982307605445385, -0.010160770267248154, -0.022884737700223923, 0.017324574291706085, -0.007098080590367317, 0.009970174171030521, -0.004590749274939299, 0.041773516684770584, -0.01662791147828102, 0.003156345570459962, -0.0074004060588777065, 0.0050770994275808334, 0.0006868049968034029, -0.000771834107581526, -0.0069403452798724174, -0.013348334468901157, -0.0006633911980316043, 5.9715475799748674e-05, 0.011330639943480492, -7.686506432946771e-05, 0.006529576610773802, 0.008024774491786957, -0.026236608624458313, 0.013118304312229156, 0.0018928213976323605, -0.012566231191158295, 0.011048031039536, -0.016325585544109344, 0.02739333175122738, 0.008241659961640835, -0.020045505836606026, 0.003874368965625763, -0.009122347459197044, 0.009753288701176643, 0.000757457222789526, -0.00347674498334527, 0.022030338644981384, -0.024383220821619034, 0.003516178810968995, -0.00027583108749240637, 0.014866535551846027, 0.017140550538897514, -0.007761882618069649, 0.01666734367609024, -0.0029936812352389097, 0.00810364168137312, 0.030548034235835075, 0.023344798013567924, -0.01635187491774559, 0.001661969581618905, -0.0008527555037289858, -0.0261708851903677, 0.014892823994159698, -0.010561680421233177, -0.0005368744605220854, 0.01666734367609024, -0.013486352749168873, 0.0013629300519824028, 0.034938327968120575, 0.015918102115392685, 0.007328110747039318, 0.012224472127854824, 0.0011665826896205544, -0.011803844943642616, 0.003946664277464151, -0.003920374903827906, -0.013985847122967243, -0.006907484028488398, -0.00571789825335145, -0.020545000210404396, -0.021662289276719093, -0.009825583547353745, -0.020952481776475906, 0.0068746223114430904, -0.006266684737056494, -0.023081906139850616, -0.0034603141248226166, 0.01215874869376421, -0.006171386688947678, -0.005129677709192038, 0.007196664810180664, 0.013552076183259487, 0.004531598649919033, -0.004534884821623564, -0.00772244855761528, -0.009450962767004967, 0.03491203859448433, 0.019467143341898918, 0.012507081031799316, -0.014643076807260513, -0.009253793396055698, -0.017232561483979225, 0.004531598649919033, 0.00384479365311563, -0.011764410883188248, 0.011580387130379677, -0.012953996658325195, 0.00935237854719162, 0.003808645997196436, -0.0105748251080513, 0.010627403855323792, 7.060084499244113e-07, 0.034123364835977554, -0.005721184425055981, 0.010601114481687546, 0.031336709856987, 0.015195149928331375, -0.012901418842375278, 0.008951468393206596, -0.014524775557219982, -0.014813956804573536, 0.017994947731494904, -0.0015379174146801233, -0.000707343453541398, 0.004255562089383602, -0.011941863223910332, -0.005001517944037914, -0.004265420604497194, -0.016365019604563713, 0.00153380970004946, -0.028602635487914085, 0.0023479529190808535, 0.002743933815509081, -0.006582155358046293, -0.031231554225087166, -0.011034886352717876, 0.01585238054394722, -0.029496466740965843, -0.00656572449952364, 0.021215373650193214, -0.014892823994159698, -0.008412539958953857, 0.005977503955364227, -0.010850861668586731, 0.013828111812472343, 0.020531855523586273, 0.03420223295688629, 0.00962841510772705, -0.010785139165818691, 0.0017498739762231708, -0.013302328065037727, -0.004479020368307829, -0.011724977754056454, 0.002006193622946739, 0.0057113259099423885, 0.0015140929026529193, -0.015458041802048683, 0.006684025749564171, 0.0022510115522891283, -0.0015198435867205262, -0.005658747628331184, -0.012921134941279888, -0.008944896049797535, 0.01576036773622036, -0.005218403413891792, 0.01460364367812872, -0.010791711509227753, -0.017403442412614822, 0.008800305426120758, 0.0016241788398474455, 0.038382213562726974, 0.009168353863060474, -0.009483824484050274, -0.000415697752032429, -0.015024269931018353, 0.03165218234062195, 0.003414308186620474, 0.007656725589185953, 0.002932887291535735, -0.009746716357767582, 0.020663300529122353, -0.027840249240398407, 0.004393580369651318, 0.007472701370716095, -0.01154752541333437, 0.022556122392416, 0.011218910105526447, 0.0075975749641656876, 0.004015673417598009, -0.0272618867456913, -0.007998485118150711, -0.003982811700552702, -0.012329628691077232, 0.007282104808837175, -0.0013448562240228057, 0.008419112302362919, 0.016062693670392036, 0.006463853642344475, -0.013052580878138542, 0.003821790451183915, -0.005300557240843773, -0.04963398352265358, 0.011672399006783962, 0.029811937361955643, -0.0022000763565301895, -0.007485846057534218, 0.011915573850274086, -0.0015633851289749146, -0.03998585417866707, 0.008300811052322388, -0.0058427718468010426, 0.004433013964444399, -0.026394343003630638, -0.024567244574427605, -0.005402428098022938, -0.03138928860425949, 0.010725988075137138, 0.0011148258345201612, -0.003284505335614085, -0.02323964051902294, -0.016864513978362083, 0.0065985857509076595, -0.007906473241746426, 0.021123360842466354, -0.014091003686189651, -0.013052580878138542, -0.0021392826456576586, 0.0009957029251381755, -0.007045501843094826, -0.006145097315311432, -0.003900658106431365, 0.003519464982673526, 0.016509609296917915, -0.0013785392511636019, 0.0033173668198287487, 0.011895856820046902, 0.001348963938653469, -0.02713043987751007, -7.019007171038538e-05, 0.01792922616004944, -0.00038283629692159593, 0.013525786809623241, -0.0007948371348902583, 0.008662287145853043, -0.02168857865035534, 0.013657232746481895, 0.015826091170310974, 0.013381196185946465, -0.006900911685079336, 0.003319009905681014, -0.0233316533267498, -0.019217396154999733, -0.0030922656878829002, 0.01670677773654461, -0.009339233860373497, -0.0003978293389081955, -0.018086960539221764, 0.021175939589738846, -0.015681499615311623, 0.007433267775923014, 0.0034208805300295353, 0.0038316489662975073, 0.015734078362584114, 0.010785139165818691, -0.0018944644834846258, 0.009490396827459335, 0.024251773953437805, 0.012625382281839848, -0.006223964970558882, 0.03307179734110832, -0.009602125734090805, -0.0026042726822197437, 0.013289184309542179, 0.01313802134245634, 0.00996360182762146, -0.008557130582630634, 0.0037264921702444553, 0.015694644302129745, 0.004271992947906256, 0.0034866034984588623, 0.0013801823370158672, 0.016549043357372284, 0.029733071103692055, 0.017495453357696533, 0.006348838564008474, 0.013216888532042503, -0.006611730437725782, -0.01066683791577816, -0.019099093973636627, -0.019861480221152306, 0.003943378105759621, -0.008655714802443981, -0.009786149486899376, 0.009253793396055698, -0.0034997479524463415, 0.021005060523748398, 0.02011122740805149, 0.018086960539221764, -0.004985087085515261, -0.014077859930694103, 0.026118306443095207, -0.015642065554857254, 0.034622859209775925, 0.0030495456885546446, -0.001772877061739564, 0.008622853085398674, -0.0008921892731450498, -0.011153187602758408, -0.0027570785023272038, 0.019756324589252472, -0.003805359825491905, -0.008524268865585327, -0.003111982485279441, -0.027735091745853424, -0.003208923852071166, 0.021097073331475258, 0.014380184933543205, -0.006112236063927412, 0.0008667216170579195, 0.0002140104043064639, -0.008169365115463734, -0.006470425985753536, -0.025566233322024345, 0.03867139294743538, -0.008747726678848267, 0.001851744600571692, -0.005790193565189838, 0.007282104808837175, 0.013801823370158672, -0.011554097756743431, 0.005510870832949877, 0.0007747094496153295, -0.035174932330846786, 0.04461275041103363, -0.01537917461246252, -0.016956524923443794, 0.022582411766052246, -0.02762993611395359, 0.00897118542343378, 0.006638019811362028, -0.0005253729759715497, 0.024882715195417404, 0.023042472079396248, 0.009227504953742027, 0.010706271044909954, 0.012257332913577557, 0.02055814489722252, 0.004393580369651318, 0.005678464192897081, 0.0014212591340765357, -0.025474222376942635, -0.011087464168667793, 0.012086453847587109, 0.01215874869376421, -0.01857331022620201, 0.0029279582668095827, -0.01685136929154396, -0.014695655554533005, -0.007577857933938503, -0.008780588395893574, -0.017153695225715637, -0.001348963938653469, -0.02042669802904129, 0.005165825132280588, -0.00229866080917418, 0.019191106781363487, 0.016062693670392036, -0.0005401606322266161, 0.01428817305713892, -0.01275025587528944, -0.018717901781201363, -0.0025582665111869574, 0.03391304984688759, 0.029864516109228134, 0.013525786809623241, -0.005392569582909346, 0.007525279652327299, 0.011784127913415432, 0.017587466165423393, -0.01227047760039568, 0.021885747089982033, 0.01622042804956436, 0.01428817305713892, -0.01068655401468277, -0.026013150811195374, -0.006720173172652721, 0.026486355811357498, 0.01961173303425312, 0.02042669802904129, -0.02925986424088478, 0.015182005241513252, 0.005244692787528038, -0.011448941193521023, 0.002154070185497403, -0.006480284500867128, 0.005826340988278389, -0.016154704615473747, 0.013985847122967243, -0.002481041941791773, -0.003917088732123375, -0.030311431735754013, 0.0013013147981837392, 0.01177755557000637, 0.006868049968034029, 0.013276039622724056, -0.00159378198441118, -0.007354400120675564, 0.00768958730623126, 0.01265824306756258, 0.010804856196045876, -0.011310922913253307, -0.018783623352646828, 0.0032500007655471563, 0.009937312453985214, 0.010693126358091831, -0.003769212169572711, 0.020952481776475906, 0.019677456468343735, 0.021951470524072647, 0.015589487738907337, 0.0057540456764400005, 0.0011945149162784219, -0.003542467951774597, 0.008820022456347942, 0.020255818963050842, -0.0013234962243586779, 0.009588981047272682, -0.028339743614196777, -0.01920425146818161, 0.012066736817359924, 0.0019979781936854124, 0.025750258937478065, 0.01631244085729122, -0.009299799799919128, -0.0048437826335430145, 0.006174672860652208, 0.01942770928144455, -0.01516886055469513, 0.024028316140174866, 0.01494540274143219, -0.00010310290235793218, 0.0005533052026294172, 0.007630436681210995, 0.019730035215616226, 0.012500508688390255, 0.02770880237221718, -0.008504551835358143, 0.003943378105759621, 0.013604653999209404, -0.002490900456905365, -0.003133342368528247, 0.005905208643525839, -0.024764414876699448, 0.012802833691239357, 0.013026292435824871, 0.0036344800610095263, 0.006460567470639944, 0.006894339341670275, 0.007630436681210995, -0.005786907393485308, -0.008175937458872795, 0.025106173008680344, 0.01603640429675579, -0.004508595447987318, 0.006536148954182863, 0.03270374983549118, -0.0036837724037468433, -0.004268706776201725, -0.017377153038978577, -0.005878919269889593, 0.012040447443723679, -0.007084935903549194, -0.027340754866600037, -0.031993940472602844, -0.009102631360292435, 0.005839485675096512, 0.0024941866286098957, -0.010535391978919506, 0.01263852696865797, -0.00571789825335145, 0.008767443709075451, -0.01811324991285801, 0.01865217834711075, 0.0006091697723604739, 0.021123360842466354, -0.005277554038912058, -0.009207787923514843, 0.00871486496180296, -0.009358950890600681, -0.009030335582792759, 0.0010104905813932419, 0.011067748069763184, -0.00792619027197361, 0.03790900856256485, -0.004922650288790464, -0.023791713640093803, -0.016509609296917915, -0.004929222632199526, -0.0005660390597768128, -0.010206776671111584, -0.009063197299838066, -0.0046038939617574215, -0.011672399006783962, 0.008392822928726673, -0.003673913888633251, -0.0008359139901585877, -0.003779070684686303, -0.027025284245610237, -0.012040447443723679, -0.025119317695498466, 0.009063197299838066, -0.010699698701500893, 0.03528008982539177, -0.016404451802372932, -0.0032319268211722374, 0.016246717423200607, 0.003296006703749299, -0.02142568677663803, 0.017876647412776947, -0.027288176119327545, -0.019401419907808304, 0.0012963855406269431, -0.01720627211034298, 0.004206269979476929, 0.0032023515086621046, -0.005708039738237858, 0.025789692997932434, 0.006197675596922636, 0.005402428098022938, -0.0018944644834846258, 0.013282611966133118, -0.017784634605050087, -0.01171183306723833, -0.008373105898499489, -0.00253033428452909, -0.0036804862320423126, -0.018126394599676132, -0.0018008092883974314, 0.002346309833228588, -0.007952478714287281, 0.004160264041274786, -0.02105763927102089, -0.005123105365782976, 0.009293227456510067, 0.00032306945649906993, 0.017285140231251717, -0.005800051614642143, 0.030153697356581688, 0.017508598044514656, -0.01242821291089058, 0.012756828218698502, -0.0038382213097065687, -0.0008700077887624502, -0.013565219938755035, -0.007538424339145422, -0.008497979491949081, 0.002701214049011469, 0.0022099348716437817, -0.006220678798854351, 0.011514663696289062, -0.02454095520079136, -0.019716890528798103, -0.009023763239383698, 0.032361987978219986, 0.012020730413496494, -0.0024793988559395075, -0.008951468393206596, -0.00174658780451864, -0.0162992961704731, 0.016903948038816452, 0.009602125734090805, 0.009674420580267906, -0.0010269213235005736, -0.011764410883188248, -0.005155966617166996, 0.0002035358193097636, -0.017810923978686333, 0.002673281589522958, 0.015865523368120193, 0.014209305867552757, 0.0034438834991306067, -0.002259226981550455, -0.006516432389616966, -0.00268314010463655, 0.010765422135591507, -0.009779577143490314, 0.019309407100081444, -0.004495450761169195, 0.005297271069139242, -0.001468086731620133, 0.002201719442382455, -0.008215370588004589, 0.007525279652327299, -0.003624621545895934, -0.008570275269448757, 0.008576847612857819, -0.005257837474346161, -0.0010663551511242986, -0.016365019604563713, 0.005106674507260323, -0.007413550745695829, -0.002840875182300806, 0.018547020852565765, 0.0032680744770914316, 0.008589991368353367, 0.0011657611466944218, 0.006549293641000986, 0.017324574291706085, 0.006615016609430313, 0.03588474169373512, 0.0036969168577343225, -0.003608190920203924, 0.008261376991868019, 0.03880283981561661, -0.005399141926318407, 0.0009472322417423129, 0.004916077945381403, -0.0008889031014405191, 0.0008478262461721897, -0.04713651165366173, 0.012323056347668171, -0.011140042915940285, 0.019861480221152306, -0.002459682058542967, -0.0003524394123815, -0.018139539286494255, -0.0033683020155876875, 5.3913372539682314e-05, 0.009404956363141537, 0.011494946666061878, 0.021714868023991585, 0.003936805762350559, -0.02305561676621437, -0.001088536693714559, -0.0009242292144335806, 0.022214362397789955, 0.010167342610657215, -0.026552079245448112, -0.007275532465428114, -0.0010195275535807014, -0.0044724480248987675, -0.01369666587561369, 0.005464864894747734, -0.004640041384845972, -0.0011936933733522892, -0.0006933772820048034, 0.010101620107889175, -0.023712847381830215, 0.0028688074089586735, -0.014643076807260513, -0.004958797711879015, -0.021543988958001137, 0.003414308186620474, -0.014866535551846027, -0.004551315680146217, 0.0026897124480456114, 0.0007512956508435309, -0.023016182705760002, -0.03872397169470787, -0.00864914245903492, 0.008635997772216797, -0.02350253239274025, -0.00730182183906436, -0.013230033218860626, -0.006670881062746048, -0.02472498081624508, 0.011442368850111961, -0.006352124735713005, -0.010601114481687546, -0.0035654709208756685, 0.0024629682302474976, 0.007972195744514465, 0.0019338983111083508, -0.01938827522099018, 0.012756828218698502, 0.00962184276431799, -0.0015173789579421282, 0.008189082145690918, 0.002485971199348569, -0.028655214235186577, 0.007328110747039318, -0.00405510701239109, -0.004189839120954275, 0.008504551835358143, -0.021097073331475258, -0.003673913888633251, 0.023305363953113556, 0.006036654580384493, 0.007591002620756626, 0.009957029484212399, -0.007216381840407848, 0.01752174273133278, -0.004607180133461952, -0.010758849792182446, 0.008169365115463734, -0.02296360395848751, 0.017968658357858658, 0.0008289309334941208, -0.0039565227925777435, -0.001838600030168891, 0.01501112524420023, -0.005303843412548304, -0.011955007910728455, -0.0032368560787290335, -0.018008092418313026, -0.01844186522066593, -0.013414057902991772, 0.001759732491336763, -0.010035896673798561, -0.01329575665295124, -0.01193529088050127, -0.02518504112958908, -0.0005257837474346161, 0.03244085609912872, 0.02128109708428383, -0.0046038939617574215, 0.00101295521017164, -0.0020686304196715355, 0.0031251271720975637, 0.037567246705293655, -0.030179986730217934, -0.009496969170868397, -0.012888274155557156, -0.0010039183543995023, -0.0022247224114835262, -0.004347574431449175, 0.03251972422003746, -0.0026256325654685497, -0.010200204327702522, -0.005846058018505573, -0.009004046209156513, 0.023108195513486862, -0.0004990837769582868, 0.002845804439857602, 0.005691608879715204, -0.0031399147119373083, -0.003627907717600465, -0.00448559271171689, 0.002232937840744853, -0.002870450494810939, 0.024330642074346542, 0.013998991809785366, -0.015642065554857254, -0.002566481940448284, -0.016088983044028282, 0.002441608114168048, -0.00018515392730478197, 0.008011629804968834, 0.01694338023662567, -0.0050770994275808334, -0.008386250585317612, -0.013230033218860626, -0.015182005241513252, -0.0030922656878829002, 0.018494442105293274, 0.03320324420928955, -0.005533874034881592, -0.01774520054459572, 0.004985087085515261, 0.017548032104969025, 0.013098587282001972, -0.005757331848144531, 0.0016389664961025119, 0.001501769758760929, 0.012848840095102787, 0.013322045095264912, -0.01231648400425911, 0.021162794902920723, 0.01988776959478855, 0.008399395272135735, 0.014156727120280266, 0.0026042726822197437, 0.011678971350193024, -0.009523257613182068, -0.019033370539546013, 0.015274017117917538, -0.029601624235510826, -0.004117543809115887, -0.023068761453032494, -0.0203741192817688, 0.0061845313757658005, -0.013223460875451565, -0.01988776959478855, -0.007538424339145422, -0.010653693228960037, -0.006414561532437801, -0.006868049968034029, -0.0012051948579028249, 0.009490396827459335, 0.004564459901303053, -0.016614766791462898, 0.006575583014637232, 0.009720426984131336, -0.01729828491806984, -0.007262387778609991, -0.00814964808523655, 0.0031809916254132986, -0.013420630246400833, 0.0007866217638365924, 0.02685440517961979, 0.01866532303392887, 0.014340751804411411, -0.0020735596772283316, 0.007840749807655811, 0.01888878084719181, 0.018941359594464302, -0.0007833355921320617, 0.01620728336274624, -0.015655210241675377, 0.03514864295721054, -0.008701721206307411, -0.003848079824820161, -0.0033945911563932896, 0.0011271488619968295, -0.00397295318543911, 0.007393833715468645, -0.01363094337284565, -0.017416587099432945, 0.005261123646050692, -0.03233569860458374, -0.0161284152418375, 0.006430992390960455, 0.003305865218862891, 0.004058393184095621, 0.0020686304196715355, -0.0118235619738698, -9.11906172404997e-05, 0.017179982736706734, 0.0015395605005323887, -0.0020538426470011473, 0.01992720365524292, -0.0052512651309370995, 0.00864914245903492, -0.016286151483654976, 0.012697677128016949, -0.003457027953118086, 0.030232565477490425, 0.008682004176080227, 0.00880687776952982, -0.0009242292144335806, 0.007216381840407848, 0.013749244622886181, 0.013032864779233932, 0.01572093367576599, -0.004124116152524948, -0.0005031914915889502, -0.00946410745382309, 0.01068655401468277, 0.011738121509552002, -0.03404449671506882, -0.02001921646296978, -0.002101491903886199, 0.029601624235510826, 0.0024333929177373648, -0.004814207553863525, 0.012868557125329971, 0.03115268610417843, -0.005280840210616589, 0.015497475862503052, 0.013026292435824871, 0.0025139034260064363, 0.006365269422531128, 0.006815471686422825, 0.002283873036503792, -0.023134484887123108, 0.012822550721466541, 0.014091003686189651, 0.003953236620873213, -0.024120328947901726, -0.01631244085729122, 0.0006292973994277418, 0.007387261372059584, 0.017048537731170654, 0.0012799547985196114, 0.011724977754056454, -0.00044075463665649295, 0.0016266434686258435, -0.00030458488618023694, -0.0015288805589079857, 0.0031842777971178293, 0.0004395223513711244, 0.021478265523910522, 0.019546009600162506, -0.017692621797323227, 0.008622853085398674, 0.004479020368307829, 0.022306375205516815, 0.006549293641000986, -0.024803847074508667, 0.014905968680977821, -0.014892823994159698, -0.007498990744352341, 0.010791711509227753, 0.00040974162402562797, 0.012020730413496494, -0.021543988958001137, -0.023265929892659187, 0.03588474169373512, 0.01720627211034298, -0.0002830195298884064, -0.01594439148902893, -0.002001264365389943, 0.001715369406156242, -0.008826594799757004, 0.016180993989109993, -0.003450455842539668, 0.009746716357767582, 0.0003364194417372346, 0.003103767056018114, -0.003647624747827649, 0.005336705129593611, -0.00794590637087822, -0.027340754866600037, -0.005570021457970142, 0.02065015584230423, -0.001904322998598218, -0.013151166029274464]\n"
          ]
        }
      ]
    },
    {
      "cell_type": "markdown",
      "source": [
        "<h2> 2.3 Cosine Similarity and Semantic Search Function </h2>"
      ],
      "metadata": {
        "id": "Tb1NnbvojxCB"
      }
    },
    {
      "cell_type": "markdown",
      "source": [
        "A `cosine_similarity` function is defined, to get similarity between 2 vectors, `query` and `story_chunk`. Lastly, `simantic_search` for searching `story_chunk` with top similarity score and return the output."
      ],
      "metadata": {
        "id": "XZDKYtnjpr4x"
      }
    },
    {
      "cell_type": "code",
      "source": [
        "import numpy as np\n",
        "def cosine_similarity(vec1, vec2):\n",
        "    dot_product = np.dot(vec1, vec2) / (np.linalg.norm(vec1) * np.linalg.norm(vec2))\n",
        "    return dot_product"
      ],
      "metadata": {
        "id": "j4ctC8XcqZn4"
      },
      "execution_count": null,
      "outputs": []
    },
    {
      "cell_type": "code",
      "source": [
        "def semantic_search(query, df, top_n=2):\n",
        "    query_emb = get_embedding(query)\n",
        "    df['similarity'] = df['story_emb'].apply(lambda x: cosine_similarity(query_emb, x))\n",
        "    return df.sort_values('similarity', ascending=False).head(top_n)"
      ],
      "metadata": {
        "id": "qIlh5AcwqaOF"
      },
      "execution_count": null,
      "outputs": []
    },
    {
      "cell_type": "markdown",
      "source": [
        "<h2> 2.4 Apply: Semantic Search </h2>"
      ],
      "metadata": {
        "id": "tF8q5Fy0kiEi"
      }
    },
    {
      "cell_type": "markdown",
      "source": [
        "With all set, we can type in the question (query) to the `simantic_search` to get an answer from the most relevant part of the story. <br>\n",
        "Example Question:\n",
        "*   What did the hare tell the tortoise during the race?\n",
        "*   What did the turtoise do through out the race?\n",
        "*   Who boasted out how fast he can run?"
      ],
      "metadata": {
        "id": "WugMQpkssEYN"
      }
    },
    {
      "cell_type": "code",
      "source": [
        "query = 'Who won the race at the very end?'\n",
        "related_chunk = semantic_search(query, df_story).iloc[0]\n",
        "print(f\"\"\"With the Question:\n",
        "{query}\n",
        "\n",
        "Related part from Cosine Similarity Score:\n",
        "{related_chunk['story']}\n",
        "\n",
        "With score of {related_chunk['similarity'].round(2)}\"\"\")"
      ],
      "metadata": {
        "colab": {
          "base_uri": "https://localhost:8080/"
        },
        "id": "ylJRtm0NrMqR",
        "outputId": "d5bc93cc-fe42-440a-86f0-935673873f77"
      },
      "execution_count": null,
      "outputs": [
        {
          "output_type": "stream",
          "name": "stdout",
          "text": [
            "With the Question:\n",
            "Who won the race at the very end?\n",
            "\n",
            "Related part from Cosine Similarity Score:\n",
            "The tortoise had already crossed the finish line.\n",
            "\n",
            "With score of 0.45\n"
          ]
        }
      ]
    },
    {
      "cell_type": "markdown",
      "source": [
        "<h2> 2.5 Caution!!! </h2>"
      ],
      "metadata": {
        "id": "-zaWfIh8ktDA"
      }
    },
    {
      "cell_type": "markdown",
      "source": [
        "Sometimes, the answer might not relatable to the question directly. By using purely **Cosine Similarity may not be enough** when facing more complicating documents or queries. It might require some further analysis after getting to the right part related to the answer."
      ],
      "metadata": {
        "id": "xXExIt5YxgXx"
      }
    },
    {
      "cell_type": "code",
      "source": [
        "query = 'How did the hare lose the race?'\n",
        "related_chunk = semantic_search(query, df_story)['story'].iloc[0]\n",
        "print(f'''With the Question:\n",
        "{query}\n",
        "\n",
        "Related part from Cosine Similarity Score:\n",
        "{related_chunk}\n",
        "\n",
        "The actual related part:\n",
        "The hare stretched himself out alongside the road and fell asleep, thinking, \"There is plenty of time to relax.\"\n",
        "''')"
      ],
      "metadata": {
        "colab": {
          "base_uri": "https://localhost:8080/"
        },
        "outputId": "4cafe2ce-fb62-4f67-f009-60ab826e305b",
        "id": "JhUqvSaxyIQ0"
      },
      "execution_count": null,
      "outputs": [
        {
          "output_type": "stream",
          "name": "stdout",
          "text": [
            "With the Question:\n",
            "How did the hare lose the race?\n",
            "\n",
            "Related part from Cosine Similarity Score:\n",
            "The hare stretched, yawned, and began to run again, but it was too late.\n",
            "\n",
            "The actual related part:\n",
            "The hare stretched himself out alongside the road and fell asleep, thinking, \"There is plenty of time to relax.\"\n",
            "\n"
          ]
        }
      ]
    },
    {
      "cell_type": "markdown",
      "source": [
        "For further implementaion, LangChain provides tools that help with this kind of search. It is called Retrieval Augmented Generation, where we feed both related parts of document along with the question/instruction to LLM for them to answer. Visit https://python.langchain.com/v0.2/docs/tutorials/rag/"
      ],
      "metadata": {
        "id": "gBxl__vA1Fdn"
      }
    },
    {
      "cell_type": "markdown",
      "source": [
        "<h1> End of Demonstration"
      ],
      "metadata": {
        "id": "YJzWEHSnE08q"
      }
    }
  ]
}