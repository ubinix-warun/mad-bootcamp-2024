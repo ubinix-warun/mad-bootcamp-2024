{
  "cells": [
    {
      "cell_type": "markdown",
      "metadata": {
        "id": "view-in-github",
        "colab_type": "text"
      },
      "source": [
        "<a href=\"https://colab.research.google.com/github/ubinix-warun/mad-bootcamp-2024/blob/main/colab/lab_lc_l6a_langchain_basics.ipynb\" target=\"_parent\"><img src=\"https://colab.research.google.com/assets/colab-badge.svg\" alt=\"Open In Colab\"/></a>"
      ]
    },
    {
      "cell_type": "markdown",
      "id": "f92b54a4",
      "metadata": {
        "id": "f92b54a4"
      },
      "source": [
        "# LC-L6a-Lab: LangChain Basics\n",
        "\n",
        "This code lab will guide you through the basics of LangChain, a framework designed to simplify the development of applications involving large language models (LLMs). LangChain allows you to build powerful, context-aware applications by leveraging its tools for chaining LLMs together. By the end of this lab, you'll understand how to set up LangChain, create simple chains, and utilize some of its core functionalities."
      ]
    },
    {
      "cell_type": "code",
      "execution_count": null,
      "id": "85351958",
      "metadata": {
        "ExecuteTime": {
          "end_time": "2024-06-06T14:22:37.625504Z",
          "start_time": "2024-06-06T14:22:23.455271Z"
        },
        "collapsed": true,
        "id": "85351958"
      },
      "outputs": [],
      "source": [
        "!pip install -q langchain==0.2.2\n",
        "!pip install -q langchain_community==0.2.3\n",
        "!pip install -q langchain-openai==0.1.8"
      ]
    },
    {
      "cell_type": "markdown",
      "id": "f3a07280",
      "metadata": {
        "id": "f3a07280"
      },
      "source": [
        "## Prerequisite: Generate OpenAI key\n",
        "\n",
        "Generate key from: https://platform.openai.com/api-keys"
      ]
    },
    {
      "cell_type": "code",
      "execution_count": null,
      "id": "282b2550",
      "metadata": {
        "ExecuteTime": {
          "end_time": "2024-06-06T14:26:32.557670Z",
          "start_time": "2024-06-06T14:26:32.555816Z"
        },
        "id": "282b2550"
      },
      "outputs": [],
      "source": [
        "import os\n",
        "\n",
        "# TODO-1: put your generated openai key here\n",
        "os.environ[\"OPENAI_API_KEY\"] = \"\""
      ]
    },
    {
      "cell_type": "markdown",
      "id": "a0c2917f",
      "metadata": {
        "id": "a0c2917f"
      },
      "source": [
        "## Task1: Call OpenAI using Langchain Model"
      ]
    },
    {
      "cell_type": "code",
      "execution_count": null,
      "id": "cdf37457",
      "metadata": {
        "ExecuteTime": {
          "end_time": "2024-06-06T17:46:24.942467Z",
          "start_time": "2024-06-06T17:46:24.940483Z"
        },
        "id": "cdf37457"
      },
      "outputs": [],
      "source": [
        "from langchain_openai import ChatOpenAI\n",
        "from langchain_core.messages import HumanMessage, SystemMessage, AIMessage\n",
        "from langchain_core.output_parsers import StrOutputParser"
      ]
    },
    {
      "cell_type": "code",
      "execution_count": null,
      "id": "49d7813b",
      "metadata": {
        "id": "49d7813b"
      },
      "outputs": [],
      "source": [
        "# TODO-2: write langchain model\n",
        "# model =\n",
        "\n",
        "messages = [\n",
        "    HumanMessage(content=\"Hello from KBTG Kampus!\")\n",
        "]\n",
        "\n",
        "m = model.invoke(messages)\n",
        "print(m)"
      ]
    },
    {
      "cell_type": "code",
      "source": [
        "print(m.content)"
      ],
      "metadata": {
        "id": "ugfqOF7XEqB_"
      },
      "id": "ugfqOF7XEqB_",
      "execution_count": null,
      "outputs": []
    },
    {
      "cell_type": "code",
      "execution_count": null,
      "id": "b4374e8b",
      "metadata": {
        "ExecuteTime": {
          "end_time": "2024-06-06T14:28:51.353763Z",
          "start_time": "2024-06-06T14:28:51.349665Z"
        },
        "id": "b4374e8b"
      },
      "outputs": [],
      "source": [
        "# TODO-3 : write langchain parser\n",
        "# parser ="
      ]
    },
    {
      "cell_type": "code",
      "source": [
        "parser.invoke(m)"
      ],
      "metadata": {
        "id": "8M34N7jGMgje"
      },
      "id": "8M34N7jGMgje",
      "execution_count": null,
      "outputs": []
    },
    {
      "cell_type": "code",
      "execution_count": null,
      "id": "21e373f1",
      "metadata": {
        "ExecuteTime": {
          "end_time": "2024-06-06T14:29:31.667470Z",
          "start_time": "2024-06-06T14:29:31.665545Z"
        },
        "id": "21e373f1"
      },
      "outputs": [],
      "source": [
        "# TODO-4: write langchain chain\n",
        "# chain ="
      ]
    },
    {
      "cell_type": "code",
      "source": [
        "chain.invoke(messages)"
      ],
      "metadata": {
        "id": "8rUhu_tdFIvS"
      },
      "id": "8rUhu_tdFIvS",
      "execution_count": null,
      "outputs": []
    },
    {
      "cell_type": "markdown",
      "id": "9cb158b2",
      "metadata": {
        "id": "9cb158b2"
      },
      "source": [
        "## Task2: Building Improve Grammar App using Langchain PromptTemplate"
      ]
    },
    {
      "cell_type": "code",
      "execution_count": null,
      "id": "cfdc5f15",
      "metadata": {
        "ExecuteTime": {
          "end_time": "2024-06-06T14:40:08.705022Z",
          "start_time": "2024-06-06T14:40:08.703360Z"
        },
        "id": "cfdc5f15"
      },
      "outputs": [],
      "source": [
        "from langchain_core.prompts import ChatPromptTemplate"
      ]
    },
    {
      "cell_type": "code",
      "execution_count": null,
      "id": "0e7df91d",
      "metadata": {
        "ExecuteTime": {
          "end_time": "2024-06-06T14:40:09.436696Z",
          "start_time": "2024-06-06T14:40:09.434885Z"
        },
        "id": "0e7df91d"
      },
      "outputs": [],
      "source": [
        "system_template = \"You will be provided with statements, and your task is to convert them to standard English.\"\n",
        "\n",
        "style_prompts = {\n",
        "    \"default\": \"\",\n",
        "    \"academic\": \" Ensure that the language used is appropriate for an academic research publication.\",\n",
        "    \"ielts\": \" Using fancy words. Ensure that the language used meets the standards required for an IELTS score of 8.0.\",\n",
        "    \"informal\": \" Make it informal like talking to a friend.\"\n",
        "}"
      ]
    },
    {
      "cell_type": "code",
      "execution_count": null,
      "id": "0d90216a",
      "metadata": {
        "ExecuteTime": {
          "end_time": "2024-06-06T14:40:10.376203Z",
          "start_time": "2024-06-06T14:40:10.374261Z"
        },
        "id": "0d90216a"
      },
      "outputs": [],
      "source": [
        "# TODO-5: write langchain prompt template\n",
        "# prompt_template ="
      ]
    },
    {
      "cell_type": "code",
      "execution_count": null,
      "id": "120157fb",
      "metadata": {
        "ExecuteTime": {
          "end_time": "2024-06-06T14:40:11.587597Z",
          "start_time": "2024-06-06T14:40:11.583157Z"
        },
        "id": "120157fb"
      },
      "outputs": [],
      "source": [
        "user_text = \"Hello again mine frinnds!\"\n",
        "user_style = \"ielts\"\n",
        "\n",
        "prompt_template.invoke({\"text\": user_text, \"style\": style_prompts[user_style]})"
      ]
    },
    {
      "cell_type": "code",
      "execution_count": null,
      "id": "a600b89d",
      "metadata": {
        "ExecuteTime": {
          "end_time": "2024-06-06T14:40:38.079996Z",
          "start_time": "2024-06-06T14:40:38.078109Z"
        },
        "id": "a600b89d"
      },
      "outputs": [],
      "source": [
        "# TODO-6: write langchain chain\n",
        "# chain ="
      ]
    },
    {
      "cell_type": "code",
      "execution_count": null,
      "id": "8be68e39",
      "metadata": {
        "ExecuteTime": {
          "end_time": "2024-06-06T14:40:40.475723Z",
          "start_time": "2024-06-06T14:40:39.124382Z"
        },
        "id": "8be68e39"
      },
      "outputs": [],
      "source": [
        "chain.invoke({\"text\": user_text, \"style\": style_prompts[user_style]})"
      ]
    },
    {
      "cell_type": "code",
      "execution_count": null,
      "id": "b4cf4d74",
      "metadata": {
        "ExecuteTime": {
          "end_time": "2024-06-06T14:43:24.478728Z",
          "start_time": "2024-06-06T14:43:24.475882Z"
        },
        "id": "b4cf4d74"
      },
      "outputs": [],
      "source": [
        "def improve_grammar(text, style=\"default\"):\n",
        "    # TODO-7: write function\n",
        "    return None"
      ]
    },
    {
      "cell_type": "code",
      "execution_count": null,
      "id": "5214ad05",
      "metadata": {
        "ExecuteTime": {
          "end_time": "2024-06-06T14:42:41.757726Z",
          "start_time": "2024-06-06T14:42:40.393504Z"
        },
        "id": "5214ad05"
      },
      "outputs": [],
      "source": [
        "# TODO-8: test your function\n",
        "user_text = \"Hello again mine frinnds!\"\n",
        "improve_grammar(user_text)"
      ]
    },
    {
      "cell_type": "code",
      "source": [
        "improve_grammar(user_text, \"ielts\")"
      ],
      "metadata": {
        "id": "1WFbYGQbHh6P"
      },
      "id": "1WFbYGQbHh6P",
      "execution_count": null,
      "outputs": []
    },
    {
      "cell_type": "code",
      "source": [
        "improve_grammar(user_text, \"informal\")"
      ],
      "metadata": {
        "id": "6DHGxVM6Hkfa"
      },
      "id": "6DHGxVM6Hkfa",
      "execution_count": null,
      "outputs": []
    },
    {
      "cell_type": "markdown",
      "id": "163fed31",
      "metadata": {
        "id": "163fed31"
      },
      "source": [
        "## Task3: Building chatbot"
      ]
    },
    {
      "cell_type": "code",
      "execution_count": null,
      "id": "a18e9bd1",
      "metadata": {
        "ExecuteTime": {
          "end_time": "2024-06-06T17:46:58.346884Z",
          "start_time": "2024-06-06T17:46:58.334728Z"
        },
        "id": "a18e9bd1"
      },
      "outputs": [],
      "source": [
        "model = ChatOpenAI(model=\"gpt-3.5-turbo\")"
      ]
    },
    {
      "cell_type": "code",
      "execution_count": null,
      "id": "0b466299",
      "metadata": {
        "ExecuteTime": {
          "end_time": "2024-06-06T17:47:48.742128Z",
          "start_time": "2024-06-06T17:47:47.634454Z"
        },
        "scrolled": false,
        "id": "0b466299"
      },
      "outputs": [],
      "source": [
        "messages = [\n",
        "    HumanMessage(content=\"Hello my name is KAMP!\")\n",
        "]\n",
        "\n",
        "m = model.invoke(messages)\n",
        "print(m.content)"
      ]
    },
    {
      "cell_type": "code",
      "execution_count": null,
      "id": "c87a5ddf",
      "metadata": {
        "ExecuteTime": {
          "end_time": "2024-06-06T17:47:49.679878Z",
          "start_time": "2024-06-06T17:47:48.743305Z"
        },
        "id": "c87a5ddf"
      },
      "outputs": [],
      "source": [
        "messages = [\n",
        "    HumanMessage(content=\"What's my name?\")\n",
        "]\n",
        "\n",
        "m = model.invoke(messages)\n",
        "print(m.content)"
      ]
    },
    {
      "cell_type": "code",
      "execution_count": null,
      "id": "87783997",
      "metadata": {
        "ExecuteTime": {
          "end_time": "2024-06-06T17:48:24.241343Z",
          "start_time": "2024-06-06T17:48:23.353076Z"
        },
        "id": "87783997"
      },
      "outputs": [],
      "source": [
        "# TODO-9: include history\n",
        "messages = [\n",
        "]\n",
        "\n",
        "m = model.invoke(messages)\n",
        "print(m.content)"
      ]
    },
    {
      "cell_type": "code",
      "execution_count": null,
      "id": "68a269b0",
      "metadata": {
        "ExecuteTime": {
          "end_time": "2024-06-06T17:51:24.696561Z",
          "start_time": "2024-06-06T17:51:24.681459Z"
        },
        "id": "68a269b0"
      },
      "outputs": [],
      "source": [
        "from langchain_community.chat_message_histories import ChatMessageHistory\n",
        "from langchain_core.chat_history import BaseChatMessageHistory\n",
        "from langchain_core.runnables.history import RunnableWithMessageHistory\n",
        "\n",
        "store = {}\n",
        "\n",
        "def get_session_history(session_id: str) -> BaseChatMessageHistory:\n",
        "    if session_id not in store:\n",
        "        store[session_id] = ChatMessageHistory()\n",
        "    return store[session_id]"
      ]
    },
    {
      "cell_type": "code",
      "execution_count": null,
      "id": "4e53a667",
      "metadata": {
        "ExecuteTime": {
          "end_time": "2024-06-06T17:54:36.592586Z",
          "start_time": "2024-06-06T17:54:36.590557Z"
        },
        "id": "4e53a667"
      },
      "outputs": [],
      "source": [
        "# TODO-10: wrap model object\n",
        "# with_message_history ="
      ]
    },
    {
      "cell_type": "code",
      "execution_count": null,
      "id": "70fb0bd9",
      "metadata": {
        "ExecuteTime": {
          "end_time": "2024-06-06T17:54:41.007289Z",
          "start_time": "2024-06-06T17:54:41.005671Z"
        },
        "id": "70fb0bd9"
      },
      "outputs": [],
      "source": [
        "config = {\"configurable\": {\"session_id\": \"room-0001\"}}"
      ]
    },
    {
      "cell_type": "code",
      "execution_count": null,
      "id": "60cc4abd",
      "metadata": {
        "ExecuteTime": {
          "end_time": "2024-06-06T17:54:42.861946Z",
          "start_time": "2024-06-06T17:54:41.880278Z"
        },
        "id": "60cc4abd"
      },
      "outputs": [],
      "source": [
        "response = with_message_history.invoke(\n",
        "    [HumanMessage(content=\"Hi! I'm KAMP!\")],\n",
        "    config=config,\n",
        ")\n",
        "\n",
        "print(response.content)"
      ]
    },
    {
      "cell_type": "code",
      "execution_count": null,
      "id": "b3d988f7",
      "metadata": {
        "ExecuteTime": {
          "end_time": "2024-06-06T17:54:55.788959Z",
          "start_time": "2024-06-06T17:54:55.115441Z"
        },
        "id": "b3d988f7"
      },
      "outputs": [],
      "source": [
        "response = with_message_history.invoke(\n",
        "    [HumanMessage(content=\"What's my name?\")],\n",
        "    config=config,\n",
        ")\n",
        "\n",
        "print(response.content)"
      ]
    },
    {
      "cell_type": "code",
      "execution_count": null,
      "id": "c0880ba2",
      "metadata": {
        "ExecuteTime": {
          "end_time": "2024-06-06T17:55:29.244446Z",
          "start_time": "2024-06-06T17:55:29.242476Z"
        },
        "id": "c0880ba2"
      },
      "outputs": [],
      "source": [
        "print(store)"
      ]
    },
    {
      "cell_type": "code",
      "execution_count": null,
      "id": "ef0d9b92",
      "metadata": {
        "ExecuteTime": {
          "end_time": "2024-06-06T17:55:41.874469Z",
          "start_time": "2024-06-06T17:55:41.872623Z"
        },
        "id": "ef0d9b92"
      },
      "outputs": [],
      "source": [
        "config = {\"configurable\": {\"session_id\": \"room-0002\"}}"
      ]
    },
    {
      "cell_type": "code",
      "execution_count": null,
      "id": "52d0a4dc",
      "metadata": {
        "ExecuteTime": {
          "end_time": "2024-06-06T17:56:04.212890Z",
          "start_time": "2024-06-06T17:56:03.164003Z"
        },
        "id": "52d0a4dc"
      },
      "outputs": [],
      "source": [
        "# TODO-11: explore store\n",
        "response = with_message_history.invoke(\n",
        "    [HumanMessage(content=\"Hi! I'm PUS!\")],\n",
        "    config=config,\n",
        ")\n",
        "\n",
        "print(response.content)"
      ]
    },
    {
      "cell_type": "code",
      "source": [
        "response = with_message_history.invoke(\n",
        "    [HumanMessage(content=\"What's my name?\")],\n",
        "    config=config,\n",
        ")\n",
        "\n",
        "print(response.content)"
      ],
      "metadata": {
        "id": "r9lB44NPI8nt"
      },
      "id": "r9lB44NPI8nt",
      "execution_count": null,
      "outputs": []
    },
    {
      "cell_type": "code",
      "source": [
        "print(store)"
      ],
      "metadata": {
        "id": "vEbLR_ftI_ro"
      },
      "id": "vEbLR_ftI_ro",
      "execution_count": null,
      "outputs": []
    },
    {
      "cell_type": "markdown",
      "id": "645bd8e1",
      "metadata": {
        "id": "645bd8e1"
      },
      "source": [
        "## Task4: Personalize Chatbot"
      ]
    },
    {
      "cell_type": "code",
      "execution_count": null,
      "id": "5ae483f5",
      "metadata": {
        "ExecuteTime": {
          "end_time": "2024-06-06T18:01:04.163878Z",
          "start_time": "2024-06-06T18:01:04.161337Z"
        },
        "id": "5ae483f5"
      },
      "outputs": [],
      "source": [
        "from langchain_core.prompts import ChatPromptTemplate, MessagesPlaceholder\n",
        "\n",
        "prompt_template = ChatPromptTemplate.from_messages(\n",
        "    [\n",
        "        # TODO-12: add persona\n",
        "        MessagesPlaceholder(variable_name=\"messages\"),\n",
        "    ]\n",
        ")\n",
        "\n",
        "chain = prompt_template | model"
      ]
    },
    {
      "cell_type": "code",
      "execution_count": null,
      "id": "e053dedd",
      "metadata": {
        "ExecuteTime": {
          "end_time": "2024-06-06T18:01:05.314819Z",
          "start_time": "2024-06-06T18:01:05.312766Z"
        },
        "id": "e053dedd"
      },
      "outputs": [],
      "source": [
        "store = {}\n",
        "\n",
        "def get_session_history(session_id: str) -> BaseChatMessageHistory:\n",
        "    if session_id not in store:\n",
        "        store[session_id] = ChatMessageHistory()\n",
        "    return store[session_id]\n",
        "\n",
        "with_message_history = RunnableWithMessageHistory(chain, get_session_history)"
      ]
    },
    {
      "cell_type": "code",
      "execution_count": null,
      "id": "8b767292",
      "metadata": {
        "ExecuteTime": {
          "end_time": "2024-06-06T18:01:06.109730Z",
          "start_time": "2024-06-06T18:01:06.107992Z"
        },
        "id": "8b767292"
      },
      "outputs": [],
      "source": [
        "config = {\"configurable\": {\"session_id\": \"room-0001\"}}"
      ]
    },
    {
      "cell_type": "code",
      "execution_count": null,
      "id": "5316ad0a",
      "metadata": {
        "ExecuteTime": {
          "end_time": "2024-06-06T18:01:08.717090Z",
          "start_time": "2024-06-06T18:01:07.677793Z"
        },
        "id": "5316ad0a"
      },
      "outputs": [],
      "source": [
        "# TODO-13: test your bot persona\n",
        "response = with_message_history.invoke(\n",
        "    [HumanMessage(content=\"Hi! I'm KAMP!\")],\n",
        "    config=config,\n",
        ")\n",
        "\n",
        "print(response.content)"
      ]
    },
    {
      "cell_type": "code",
      "execution_count": null,
      "id": "c2a9f80b",
      "metadata": {
        "ExecuteTime": {
          "end_time": "2024-06-06T18:01:11.460077Z",
          "start_time": "2024-06-06T18:01:10.735495Z"
        },
        "id": "c2a9f80b"
      },
      "outputs": [],
      "source": [
        "response = with_message_history.invoke(\n",
        "    [HumanMessage(content=\"What's my name?\")],\n",
        "    config=config,\n",
        ")\n",
        "\n",
        "print(response.content)"
      ]
    },
    {
      "cell_type": "code",
      "execution_count": null,
      "id": "3a33be7a",
      "metadata": {
        "ExecuteTime": {
          "end_time": "2024-06-06T18:01:13.297845Z",
          "start_time": "2024-06-06T18:01:12.417983Z"
        },
        "id": "3a33be7a"
      },
      "outputs": [],
      "source": [
        "response = with_message_history.invoke(\n",
        "    [HumanMessage(content=\"What's your name?\")],\n",
        "    config=config,\n",
        ")\n",
        "\n",
        "print(response.content)"
      ]
    }
  ],
  "metadata": {
    "kernelspec": {
      "display_name": "Python 3 (ipykernel)",
      "language": "python",
      "name": "python3"
    },
    "language_info": {
      "codemirror_mode": {
        "name": "ipython",
        "version": 3
      },
      "file_extension": ".py",
      "mimetype": "text/x-python",
      "name": "python",
      "nbconvert_exporter": "python",
      "pygments_lexer": "ipython3",
      "version": "3.11.0"
    },
    "toc": {
      "base_numbering": 1,
      "nav_menu": {},
      "number_sections": true,
      "sideBar": true,
      "skip_h1_title": false,
      "title_cell": "Table of Contents",
      "title_sidebar": "Contents",
      "toc_cell": false,
      "toc_position": {},
      "toc_section_display": true,
      "toc_window_display": false
    },
    "colab": {
      "provenance": [],
      "include_colab_link": true
    }
  },
  "nbformat": 4,
  "nbformat_minor": 5
}